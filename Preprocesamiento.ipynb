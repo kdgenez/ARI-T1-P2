{
 "cells": [
  {
   "cell_type": "code",
   "execution_count": 1,
   "id": "a345dced",
   "metadata": {},
   "outputs": [
    {
     "name": "stdout",
     "output_type": "stream",
     "text": [
      "Starting Spark application\n"
     ]
    },
    {
     "data": {
      "text/html": [
       "<table>\n",
       "<tr><th>ID</th><th>YARN Application ID</th><th>Kind</th><th>State</th><th>Spark UI</th><th>Driver log</th><th>User</th><th>Current session?</th></tr><tr><td>1</td><td>application_1748278147702_0002</td><td>pyspark</td><td>idle</td><td><a target=\"_blank\" href=\"http://ip-172-31-67-196.ec2.internal:20888/proxy/application_1748278147702_0002/\">Link</a></td><td><a target=\"_blank\" href=\"http://ip-172-31-76-190.ec2.internal:8042/node/containerlogs/container_1748278147702_0002_01_000001/livy\">Link</a></td><td>None</td><td>✔</td></tr></table>"
      ],
      "text/plain": [
       "<IPython.core.display.HTML object>"
      ]
     },
     "metadata": {},
     "output_type": "display_data"
    },
    {
     "data": {
      "application/vnd.jupyter.widget-view+json": {
       "model_id": "",
       "version_major": 2,
       "version_minor": 0
      },
      "text/plain": [
       "FloatProgress(value=0.0, bar_style='info', description='Progress:', layout=Layout(height='25px', width='50%'),…"
      ]
     },
     "metadata": {},
     "output_type": "display_data"
    },
    {
     "name": "stdout",
     "output_type": "stream",
     "text": [
      "SparkSession available as 'spark'.\n"
     ]
    },
    {
     "data": {
      "application/vnd.jupyter.widget-view+json": {
       "model_id": "",
       "version_major": 2,
       "version_minor": 0
      },
      "text/plain": [
       "FloatProgress(value=0.0, bar_style='info', description='Progress:', layout=Layout(height='25px', width='50%'),…"
      ]
     },
     "metadata": {},
     "output_type": "display_data"
    }
   ],
   "source": [
    "from sparknlp.base import *\n",
    "from sparknlp.annotator import *\n",
    "from pyspark.ml import Pipeline"
   ]
  },
  {
   "cell_type": "code",
   "execution_count": 2,
   "id": "c5f4bf3d",
   "metadata": {},
   "outputs": [
    {
     "data": {
      "application/vnd.jupyter.widget-view+json": {
       "model_id": "",
       "version_major": 2,
       "version_minor": 0
      },
      "text/plain": [
       "FloatProgress(value=0.0, bar_style='info', description='Progress:', layout=Layout(height='25px', width='50%'),…"
      ]
     },
     "metadata": {},
     "output_type": "display_data"
    }
   ],
   "source": [
    "# Funciones PySpark\n",
    "from pyspark.sql.functions import regexp_replace, col, udf, explode, split, lower, size, trim, col, arrays_zip\n",
    "from pyspark.sql.types import StringType, ArrayType,MapType,IntegerType,DoubleType,StructType, StructField,DateType\n",
    "\n",
    "# Componentes de Spark NLP\n",
    "from sparknlp.base import DocumentAssembler, Pipeline, Finisher\n",
    "from sparknlp.annotator import Tokenizer, PerceptronModel, LemmatizerModel, RegexMatcher,StopWordsCleaner\n",
    "\n",
    "from pyspark.ml import Pipeline\n",
    "from pyspark.sql.functions import udf,upper,concat_ws,col, count\n",
    "from sparknlp.common import ExternalResource\n",
    "from pyspark.sql.functions import col, count\n",
    "from pyspark.ml.feature import StringIndexer, NGram, CountVectorizer, OneHotEncoder, VectorAssembler, StandardScaler\n",
    "from pyspark.ml.stat import ChiSquareTest\n",
    "\n",
    "\n",
    "from pyspark.ml.classification import LogisticRegression, OneVsRest\n",
    "from pyspark.ml.evaluation import MulticlassClassificationEvaluator\n",
    "\n",
    "from pyspark.ml.feature import VectorAssembler, StandardScaler\n",
    "from pyspark.ml.stat import Correlation\n",
    "import numpy as np\n",
    "\n",
    "import re"
   ]
  },
  {
   "cell_type": "code",
   "execution_count": 3,
   "id": "23c04b43",
   "metadata": {},
   "outputs": [
    {
     "data": {
      "application/vnd.jupyter.widget-view+json": {
       "model_id": "",
       "version_major": 2,
       "version_minor": 0
      },
      "text/plain": [
       "FloatProgress(value=0.0, bar_style='info', description='Progress:', layout=Layout(height='25px', width='50%'),…"
      ]
     },
     "metadata": {},
     "output_type": "display_data"
    }
   ],
   "source": [
    "bucket    = \"proyectointegrador1017\"\n",
    "raw       = f\"s3://{bucket}/raw\"\n",
    "paths = {\n",
    "    \"base_prediccion\":     f\"{raw}/Base_Prediccion_28092021.csv\",\n",
    "    \"variables_sel\":       f\"{raw}/Variables_seleccionadas.csv\",\n",
    "    \"diccionario_inicial\": f\"{raw}/DiccionarioInicial.csv\"\n",
    "}\n",
    "\n",
    "# Carga cada CSV en un DataFrame Spark\n",
    "df_base = spark.read.option(\"header\", \"true\") \\\n",
    "                .option(\"sep\", \",\") \\\n",
    "                .option(\"quote\", '\"') \\\n",
    "                .option(\"multiLine\", \"true\") \\\n",
    "                .option(\"escape\", \"\\\\\") \\\n",
    "                .option(\"inferSchema\", \"true\") \\\n",
    "                .csv(paths[\"base_prediccion\"])\n",
    "\n",
    "df_vars = spark.read \\\n",
    "    .option(\"header\", True) \\\n",
    "    .option(\"inferSchema\", True) \\\n",
    "    .csv(paths[\"variables_sel\"])\n",
    "\n",
    "df_dicc = spark.read \\\n",
    "    .option(\"header\", True) \\\n",
    "    .option(\"inferSchema\", True) \\\n",
    "    .csv(paths[\"diccionario_inicial\"])\n"
   ]
  },
  {
   "cell_type": "code",
   "execution_count": 47,
   "id": "6b7652e4",
   "metadata": {},
   "outputs": [
    {
     "data": {
      "application/vnd.jupyter.widget-view+json": {
       "model_id": "",
       "version_major": 2,
       "version_minor": 0
      },
      "text/plain": [
       "FloatProgress(value=0.0, bar_style='info', description='Progress:', layout=Layout(height='25px', width='50%'),…"
      ]
     },
     "metadata": {},
     "output_type": "display_data"
    },
    {
     "name": "stdout",
     "output_type": "stream",
     "text": [
      "root\n",
      " |-- ID_ORDEM_SERVICO: string (nullable = true)\n",
      " |-- ID_UC: string (nullable = true)\n",
      " |-- Estado Instalacion: string (nullable = true)\n",
      " |-- Uso: string (nullable = true)\n",
      " |-- Actividad Economica: string (nullable = true)\n",
      " |-- Fecha Generacion: date (nullable = true)\n",
      " |-- Fecha Ejecucion: date (nullable = true)\n",
      " |-- FechaDescargue: date (nullable = true)\n",
      " |-- Fecha Ultima Lectura: date (nullable = true)\n",
      " |-- Estado OT: string (nullable = true)\n",
      " |-- Observacion: string (nullable = true)\n",
      " |-- Efectividad: string (nullable = true)\n",
      " |-- Causa Efectividad: string (nullable = true)\n",
      " |-- Causa Evento: string (nullable = true)\n",
      " |-- Consumo promedio: double (nullable = true)\n",
      " |-- Lectura en Visita: double (nullable = true)\n",
      " |-- Ultimo Valor Leido: double (nullable = true)\n",
      " |-- Oportunidad Ejecucion: double (nullable = true)\n",
      " |-- Oportunidad Descargue: double (nullable = true)\n",
      " |-- Diferencia Lectura: double (nullable = true)\n",
      " |-- Dias entre lecturas: double (nullable = true)\n",
      " |-- Promedio Consumo dia: double (nullable = true)\n",
      " |-- Analisis Lectura: string (nullable = true)\n",
      " |-- Promedio Dia Historico: double (nullable = true)\n",
      " |-- Menor a Promedio: string (nullable = true)\n",
      " |-- Score Lectura: double (nullable = true)\n",
      " |-- Score Promedio: double (nullable = true)\n",
      " |-- Total Puntaje: double (nullable = true)\n",
      " |-- ID_Accion: string (nullable = true)\n",
      " |-- Nombre Accion: string (nullable = true)"
     ]
    }
   ],
   "source": [
    "bucket    = \"proyectointegrador1017\"\n",
    "raw       = f\"s3://{bucket}/raw\"\n",
    "path_base = f\"{raw}/Base_Prediccion_28092021.csv\"\n",
    "\n",
    "# Esquema explícito\n",
    "schema = StructType([\n",
    "    StructField(\"ID_ORDEM_SERVICO\", StringType(), True),\n",
    "    StructField(\"ID_UC\", StringType(), True),\n",
    "    StructField(\"Estado Instalacion\", StringType(), True),\n",
    "    StructField(\"Uso\", StringType(), True),\n",
    "    StructField(\"Actividad Economica\", StringType(), True),\n",
    "    StructField(\"Fecha Generacion\", DateType(), True),\n",
    "    StructField(\"Fecha Ejecucion\", DateType(), True),\n",
    "    StructField(\"FechaDescargue\", DateType(), True),\n",
    "    StructField(\"Fecha Ultima Lectura\", DateType(), True),\n",
    "    StructField(\"Estado OT\", StringType(), True),\n",
    "    StructField(\"Observacion\", StringType(), True),\n",
    "    StructField(\"Efectividad\", StringType(), True),\n",
    "    StructField(\"Causa Efectividad\", StringType(), True),\n",
    "    StructField(\"Causa Evento\", StringType(), True),\n",
    "    StructField(\"Consumo promedio\", DoubleType(), True),\n",
    "    StructField(\"Lectura en Visita\", DoubleType(), True),\n",
    "    StructField(\"Ultimo Valor Leido\", DoubleType(), True),\n",
    "    StructField(\"Oportunidad Ejecucion\", DoubleType(), True),\n",
    "    StructField(\"Oportunidad Descargue\", DoubleType(), True),\n",
    "    StructField(\"Diferencia Lectura\", DoubleType(), True),\n",
    "    StructField(\"Dias entre lecturas\", DoubleType(), True),\n",
    "    StructField(\"Promedio Consumo dia\", DoubleType(), True),\n",
    "    StructField(\"Analisis Lectura\", StringType(), True),\n",
    "    StructField(\"Promedio Dia Historico\", DoubleType(), True),\n",
    "    StructField(\"Menor a Promedio\", StringType(), True),\n",
    "    StructField(\"Score Lectura\", DoubleType(), True),\n",
    "    StructField(\"Score Promedio\", DoubleType(), True),\n",
    "    StructField(\"Total Puntaje\", DoubleType(), True),\n",
    "    StructField(\"ID_Accion\", StringType(), True),\n",
    "    StructField(\"Nombre Accion\", StringType(), True)\n",
    "])\n",
    "\n",
    "#  Lectura usando el esquema\n",
    "df_datos = spark.read.option(\"header\", \"true\") \\\n",
    "                .option(\"sep\", \",\") \\\n",
    "                .option(\"quote\", '\"') \\\n",
    "                .option(\"multiLine\", \"true\") \\\n",
    "                .option(\"escape\", \"\\\\\") \\\n",
    "                .option(\"inferSchema\", \"true\") \\\n",
    "                .schema(schema) \\\n",
    "                .csv(path_base)\n",
    "\n",
    "#  Verifica tipos\n",
    "df_datos.printSchema()"
   ]
  },
  {
   "cell_type": "code",
   "execution_count": 48,
   "id": "2f840018",
   "metadata": {},
   "outputs": [
    {
     "data": {
      "application/vnd.jupyter.widget-view+json": {
       "model_id": "",
       "version_major": 2,
       "version_minor": 0
      },
      "text/plain": [
       "FloatProgress(value=0.0, bar_style='info', description='Progress:', layout=Layout(height='25px', width='50%'),…"
      ]
     },
     "metadata": {},
     "output_type": "display_data"
    },
    {
     "name": "stdout",
     "output_type": "stream",
     "text": [
      "+----------------+--------+--------------------+-----------+--------------------+----------------+---------------+--------------+--------------------+-----------------+--------------------+-----------+--------------------+--------------------+----------------+-----------------+------------------+---------------------+---------------------+------------------+-------------------+--------------------+----------------+----------------------+--------------------+-------------+--------------+-------------+---------+--------------------+\n",
      "|ID_ORDEM_SERVICO|   ID_UC|  Estado Instalacion|        Uso| Actividad Economica|Fecha Generacion|Fecha Ejecucion|FechaDescargue|Fecha Ultima Lectura|        Estado OT|         Observacion|Efectividad|   Causa Efectividad|        Causa Evento|Consumo promedio|Lectura en Visita|Ultimo Valor Leido|Oportunidad Ejecucion|Oportunidad Descargue|Diferencia Lectura|Dias entre lecturas|Promedio Consumo dia|Analisis Lectura|Promedio Dia Historico|    Menor a Promedio|Score Lectura|Score Promedio|Total Puntaje|ID_Accion|       Nombre Accion|\n",
      "+----------------+--------+--------------------+-----------+--------------------+----------------+---------------+--------------+--------------------+-----------------+--------------------+-----------+--------------------+--------------------+----------------+-----------------+------------------+---------------------+---------------------+------------------+-------------------+--------------------+----------------+----------------------+--------------------+-------------+--------------+-------------+---------+--------------------+\n",
      "|   EPMA3935989-1|12285549|ActivoCon suminis...|Residencial|Residencial estra...|      2021-09-10|     2021-09-13|    2021-09-13|          2021-08-25|DescargadaParcial|Se encuentra vivi...|         SI|                NULL|Anomalia - Instal...|             2.0|              0.0|               0.0|                  2.0|                  0.0|               0.0|               19.0|                 0.0|          Parado|   0.06666666666666667|    Menor a Promedio|         10.0|           7.0|         17.0|  35.389 |1053_C_Otro_Canal...|\n",
      "|   EPMA3877311-1|12285712|ActivoCon suminis...|Comercial  |Expendio de bebid...|      2021-07-23|     2021-08-05|    2021-08-05|          2021-08-25|          Cerrada|Carlos Jaramillo ...|         NO|           No fraude|           No fraude|            12.0|           3164.0|            3172.0|                 10.0|                  0.0|               8.0|               20.0|                 0.4|  Lectura Normal|                   0.4|Igual o mayor a P...|          3.0|           1.0|          4.0|  34.791 |2528_C_CaidaConsu...|\n",
      "|   EPMA3894208-1|12285932|ActivoCon suminis...|Residencial|Residencial estra...|      2021-08-06|     2021-08-19|    2021-08-19|          2021-09-01|          Cerrada|Yonatan Giraldo p...|         SI|                NULL|Anomalia - Medido...|             6.0|             17.0|               3.0|                 10.0|                  0.0|              14.0|               13.0|  1.0769230769230769|  Lectura Normal|                   0.2|Igual o mayor a P...|          3.0|           1.0|          4.0|  35.096 |1053_C_Otro_Canal...|\n",
      "|   EPMA3860292-1|12286097|ActivoCon suminis...|Comercial  |Otras actividades...|      2021-07-09|     2021-07-24|    2021-07-27|          2021-08-12|          Cerrada|SEBASTIAN BUILES ...|         NO|Inspeccion No Rea...|           No Aplica|            12.0|              0.0|           50739.0|                 11.0|                  1.0|           50739.0|               19.0|  2670.4736842105262|  Lectura Normal|                   0.4|Igual o mayor a P...|          3.0|           1.0|          4.0|  34.568 |2528_C_CaidaConsu...|\n",
      "|   EPMA3901950-1|12286401|ActivoCon suminis...|Comercial  |Actividades inmob...|      2021-08-14|     2021-08-31|    2021-08-31|          2021-08-21|          Cerrada|Jorge grueso clas...|         NO|           No fraude|           No fraude|            94.0|          16213.0|           16165.0|                 12.0|                  0.0|              48.0|               10.0|                 4.8|  Lectura Normal|    3.1333333333333333|Igual o mayor a P...|          3.0|           1.0|          4.0|  35.262 |3050_C_CaidaConsu...|\n",
      "+----------------+--------+--------------------+-----------+--------------------+----------------+---------------+--------------+--------------------+-----------------+--------------------+-----------+--------------------+--------------------+----------------+-----------------+------------------+---------------------+---------------------+------------------+-------------------+--------------------+----------------+----------------------+--------------------+-------------+--------------+-------------+---------+--------------------+\n",
      "only showing top 5 rows"
     ]
    }
   ],
   "source": [
    "df_datos.show(5)"
   ]
  },
  {
   "cell_type": "code",
   "execution_count": 49,
   "id": "8f862f67",
   "metadata": {},
   "outputs": [
    {
     "data": {
      "application/vnd.jupyter.widget-view+json": {
       "model_id": "",
       "version_major": 2,
       "version_minor": 0
      },
      "text/plain": [
       "FloatProgress(value=0.0, bar_style='info', description='Progress:', layout=Layout(height='25px', width='50%'),…"
      ]
     },
     "metadata": {},
     "output_type": "display_data"
    },
    {
     "name": "stdout",
     "output_type": "stream",
     "text": [
      "root\n",
      " |-- Stopword: string (nullable = true)\n",
      " |-- _c1: string (nullable = true)\n",
      " |-- _c2: string (nullable = true)\n",
      " |-- _c3: string (nullable = true)\n",
      " |-- _c4: string (nullable = true)\n",
      " |-- _c5: string (nullable = true)\n",
      " |-- _c6: string (nullable = true)\n",
      " |-- _c7: string (nullable = true)\n",
      " |-- _c8: string (nullable = true)\n",
      " |-- _c9: string (nullable = true)\n",
      "\n",
      "+--------+\n",
      "|Stopword|\n",
      "+--------+\n",
      "|1       |\n",
      "|3       |\n",
      "|?1      |\n",
      "|aal     |\n",
      "|abb     |\n",
      "+--------+\n",
      "only showing top 5 rows"
     ]
    }
   ],
   "source": [
    "df_diccionario = df_dicc\n",
    "\n",
    "# Carga del CSV de stop-words como DataFrame\n",
    "path_stopwords = \"s3://proyectointegrador1017/raw/Stopwords.csv\"\n",
    "df_Stop_words = spark.read \\\n",
    "    .option(\"header\", True) \\\n",
    "    .option(\"inferSchema\", True) \\\n",
    "    .option(\"delimiter\", \";\") \\\n",
    "    .csv(path_stopwords)\n",
    "\n",
    "# Verificar contenido\n",
    "df_Stop_words.printSchema()\n",
    "df_Stop=df_Stop_words.select('Stopword')\n",
    "df_Stop.show(5, truncate=False)\n"
   ]
  },
  {
   "cell_type": "code",
   "execution_count": 50,
   "id": "13533c43",
   "metadata": {},
   "outputs": [
    {
     "data": {
      "application/vnd.jupyter.widget-view+json": {
       "model_id": "",
       "version_major": 2,
       "version_minor": 0
      },
      "text/plain": [
       "FloatProgress(value=0.0, bar_style='info', description='Progress:', layout=Layout(height='25px', width='50%'),…"
      ]
     },
     "metadata": {},
     "output_type": "display_data"
    }
   ],
   "source": [
    "def depurar_Observacion(observacion):\n",
    "    try:\n",
    "        if not isinstance(observacion, str):\n",
    "            return None\n",
    "\n",
    "        inicio = observacion.find(\"FECHA VIS\")\n",
    "        if inicio == -1:\n",
    "            inicio = observacion.find(\"FECHA VISITA    PAP\")\n",
    "            if inicio == -1:\n",
    "                return None\n",
    "            else:\n",
    "                inicio += len(\"FECHA VISITA    PAP\")\n",
    "        else:\n",
    "            inicio += len(\"FECHA VIS\")\n",
    "\n",
    "        subcadena = observacion[inicio:]\n",
    "\n",
    "        fin = subcadena.find(\"RAZON\")\n",
    "        if fin == -1:\n",
    "            return None\n",
    "\n",
    "        resultado = subcadena[:fin].strip()\n",
    "        return resultado\n",
    "    except Exception:\n",
    "        return None\n"
   ]
  },
  {
   "cell_type": "code",
   "execution_count": 51,
   "id": "963c0838",
   "metadata": {},
   "outputs": [
    {
     "data": {
      "application/vnd.jupyter.widget-view+json": {
       "model_id": "",
       "version_major": 2,
       "version_minor": 0
      },
      "text/plain": [
       "FloatProgress(value=0.0, bar_style='info', description='Progress:', layout=Layout(height='25px', width='50%'),…"
      ]
     },
     "metadata": {},
     "output_type": "display_data"
    }
   ],
   "source": [
    "\n",
    "\n",
    "def limpiar_caracteres(cadena):\n",
    "    if not isinstance(cadena, str):\n",
    "        return \"\"\n",
    "    patron = r'[^A-Za-z0-9]+'\n",
    "    return re.sub(patron, ' ', cadena).strip()"
   ]
  },
  {
   "cell_type": "code",
   "execution_count": 52,
   "id": "9beb7864",
   "metadata": {},
   "outputs": [
    {
     "data": {
      "application/vnd.jupyter.widget-view+json": {
       "model_id": "",
       "version_major": 2,
       "version_minor": 0
      },
      "text/plain": [
       "FloatProgress(value=0.0, bar_style='info', description='Progress:', layout=Layout(height='25px', width='50%'),…"
      ]
     },
     "metadata": {},
     "output_type": "display_data"
    }
   ],
   "source": [
    "def quitar_informacion_sello(cadena):\n",
    "    if not isinstance(cadena, str):\n",
    "        return \"\"\n",
    "    patron = r'#\\w+\\d+'\n",
    "    return re.sub(patron, '', cadena).strip()"
   ]
  },
  {
   "cell_type": "code",
   "execution_count": 53,
   "id": "52e49ae5",
   "metadata": {},
   "outputs": [
    {
     "data": {
      "application/vnd.jupyter.widget-view+json": {
       "model_id": "",
       "version_major": 2,
       "version_minor": 0
      },
      "text/plain": [
       "FloatProgress(value=0.0, bar_style='info', description='Progress:', layout=Layout(height='25px', width='50%'),…"
      ]
     },
     "metadata": {},
     "output_type": "display_data"
    }
   ],
   "source": [
    "def quitar_numericos(cadena):\n",
    "    if not isinstance(cadena, str):\n",
    "        return \"\"\n",
    "    patron = r'[0-9]+'\n",
    "    return re.sub(patron, '', cadena).strip()"
   ]
  },
  {
   "cell_type": "code",
   "execution_count": 54,
   "id": "9d84ec6c",
   "metadata": {},
   "outputs": [
    {
     "data": {
      "application/vnd.jupyter.widget-view+json": {
       "model_id": "",
       "version_major": 2,
       "version_minor": 0
      },
      "text/plain": [
       "FloatProgress(value=0.0, bar_style='info', description='Progress:', layout=Layout(height='25px', width='50%'),…"
      ]
     },
     "metadata": {},
     "output_type": "display_data"
    }
   ],
   "source": [
    "def depurar_marca_causa_evento(observacion):\n",
    "    if not isinstance(observacion, str):\n",
    "        return \"\"\n",
    "    posicion = observacion.find(\"*CausaEvento\")\n",
    "    if posicion == -1:\n",
    "        return observacion.strip()\n",
    "    return observacion[:posicion].strip()"
   ]
  },
  {
   "cell_type": "code",
   "execution_count": 55,
   "id": "a1ebf410",
   "metadata": {},
   "outputs": [
    {
     "data": {
      "application/vnd.jupyter.widget-view+json": {
       "model_id": "",
       "version_major": 2,
       "version_minor": 0
      },
      "text/plain": [
       "FloatProgress(value=0.0, bar_style='info', description='Progress:', layout=Layout(height='25px', width='50%'),…"
      ]
     },
     "metadata": {},
     "output_type": "display_data"
    }
   ],
   "source": [
    "def depurar_usuario(observacion):\n",
    "    if not isinstance(observacion, str):\n",
    "        return \"\"\n",
    "    observacion_mayus = observacion.upper()\n",
    "    posicion = observacion_mayus.find(\"USUARIO: EPM \")\n",
    "    if posicion == -1:\n",
    "        posicion = observacion_mayus.find(\"USUARIO EPM\")\n",
    "        if posicion == -1:\n",
    "            return observacion.strip()\n",
    "        return observacion.strip()\n",
    "    return observacion[:posicion].strip()"
   ]
  },
  {
   "cell_type": "code",
   "execution_count": 56,
   "id": "7f122900",
   "metadata": {},
   "outputs": [
    {
     "data": {
      "application/vnd.jupyter.widget-view+json": {
       "model_id": "",
       "version_major": 2,
       "version_minor": 0
      },
      "text/plain": [
       "FloatProgress(value=0.0, bar_style='info', description='Progress:', layout=Layout(height='25px', width='50%'),…"
      ]
     },
     "metadata": {},
     "output_type": "display_data"
    }
   ],
   "source": [
    "# Registrar UDFs\n",
    "limpiar_caracteres_udf = udf(limpiar_caracteres, StringType())\n",
    "quitar_informacion_sello_udf = udf(quitar_informacion_sello, StringType())\n",
    "quitar_numericos_udf = udf(quitar_numericos, StringType())\n",
    "depurar_marca_causa_evento_udf = udf(depurar_marca_causa_evento, StringType())\n",
    "depurar_usuario_udf = udf(depurar_usuario, StringType())\n",
    "\n",
    "# Aplicar UDFs en cadena\n",
    "df_limpio = df_datos \\\n",
    "    .withColumn(\"Observacion_limpia_1\", limpiar_caracteres_udf(col(\"Observacion\"))) \\\n",
    "    .withColumn(\"Observacion_limpia_2\", quitar_informacion_sello_udf(col(\"Observacion_limpia_1\"))) \\\n",
    "    .withColumn(\"Observacion_limpia_3\", quitar_numericos_udf(col(\"Observacion_limpia_2\"))) \\\n",
    "    .withColumn(\"Observacion_limpia_4\", depurar_marca_causa_evento_udf(col(\"Observacion_limpia_3\"))) \\\n",
    "    .withColumn(\"Observacion_final\", depurar_usuario_udf(col(\"Observacion_limpia_4\")))"
   ]
  },
  {
   "cell_type": "code",
   "execution_count": 57,
   "id": "64ec8955",
   "metadata": {},
   "outputs": [
    {
     "data": {
      "application/vnd.jupyter.widget-view+json": {
       "model_id": "",
       "version_major": 2,
       "version_minor": 0
      },
      "text/plain": [
       "FloatProgress(value=0.0, bar_style='info', description='Progress:', layout=Layout(height='25px', width='50%'),…"
      ]
     },
     "metadata": {},
     "output_type": "display_data"
    },
    {
     "name": "stdout",
     "output_type": "stream",
     "text": [
      "+-----------------------------------------------------------------------------------------------------------------------------------------------------------------------------------------------------------------------------------------------------------------------------------------------------------------------------------------------------------------------------------------------------------------------------------------------------------------------------------------------------------------------------------------------------------------------------------------------------------------------------------------------------------------------+--------------------------------------------------------------------------------------------------------------------------------------------------------------------------------------------------------------------------------------------------------------------------------------------------------------------------------------------------------------------------------------------------------------------------------------------------------------------------------------------------------------------------------------------------------------------------------+\n",
      "|Observacion                                                                                                                                                                                                                                                                                                                                                                                                                                                                                                                                                                                                                                                            |observacion_final                                                                                                                                                                                                                                                                                                                                                                                                                                                                                                                                                               |\n",
      "+-----------------------------------------------------------------------------------------------------------------------------------------------------------------------------------------------------------------------------------------------------------------------------------------------------------------------------------------------------------------------------------------------------------------------------------------------------------------------------------------------------------------------------------------------------------------------------------------------------------------------------------------------------------------------+--------------------------------------------------------------------------------------------------------------------------------------------------------------------------------------------------------------------------------------------------------------------------------------------------------------------------------------------------------------------------------------------------------------------------------------------------------------------------------------------------------------------------------------------------------------------------------+\n",
      "|Se encuentra vivienda sin medidor, con servicio directo. Usuario dice que nunca ha tenido medidor de acueducto. Usuario: EPM\\JACOSAC Fecha: 2021-09-13 10:43:15                                                                                                                                                                                                                                                                                                                                                                                                                                                                                                        |Se encuentra vivienda sin medidor con servicio directo Usuario dice que nunca ha tenido medidor de acueducto Usuario EPM JACOSAC Fecha                                                                                                                                                                                                                                                                                                                                                                                                                                          |\n",
      "|Carlos Jaramillo \\nMedidor Water tech de ½ serie#20113047667 con lectura 03164 en posición correcta sin signos de manipulación externa registra en prueba de llaves predio no residencial actividad económica es un bar razón social bar el Oscar el cual tiene 2 puntos de consumo el cual usuario manifiesta que el consumo varía de acuerdo a la cantidad de personas que transcurren en el lugar  Usuario: EPM\\CARLOS.JARAMILLO Fecha: 2021-08-05 15:13:27                                                                                                                                                                                                         |Carlos Jaramillo Medidor Water tech de serie  con lectura  en posici n correcta sin signos de manipulaci n externa registra en prueba de llaves predio no residencial actividad econ mica es un bar raz n social bar el Oscar el cual tiene  puntos de consumo el cual usuario manifiesta que el consumo var a de acuerdo a la cantidad de personas que transcurren en el lugar Usuario EPM CARLOS JARAMILLO Fecha                                                                                                                                                              |\n",
      "|Yonatan Giraldo predio solo no hay quien suministre información medidor bien instalado con cúpula impactada medidor marca wáter tech de 1/2 serie 2015450174 lectura ilegible se envía medidor para el laboratorio en bolsa de seguridad BM -17 00236 presinto CB 17-00366 se normaliza instalación mediante cambio de medidor provisional se dejan llaves y racores sin fugas fecha laboratorio 01-09-2021 predio residencial Usuario: EPM\\YONATAN.GIRALDO Fecha: 2021-08-19 13:22:16                                                                                                                                                                                 |Yonatan Giraldo predio solo no hay quien suministre informaci n medidor bien instalado con c pula impactada medidor marca w ter tech de   serie  lectura ilegible se env a medidor para el laboratorio en bolsa de seguridad BM   presinto CB   se normaliza instalaci n mediante cambio de medidor provisional se dejan llaves y racores sin fugas fecha laboratorio    predio residencial Usuario EPM YONATAN GIRALDO Fecha                                                                                                                                                   |\n",
      "|SEBASTIAN BUILES FECHA VISITA :24/07/2021 PAP :1927  NO PERMITEN REALIZAR REVISION YA QUE NO HAY PERSONAL DE MANTENIMIENTO DISPONIBLE PARA ACOMPAÑAMIENTO SIN REGISTROS DEL MEDIDOR SIN DATOS, SE ESPERO DISPONIBILIDAD DE PERSONAL DE MANTENIMIENTO DURANTE 30 MINUTOS SIN OBTENER RESPUESTA , NO RESIDENCIAL, CENTRO COMERCIAL SANTA FE Usuario: EPM\\aalvaalv Fecha: 2021-07-27 15:31:52                                                                                                                                                                                                                                                                             |SEBASTIAN BUILES FECHA VISITA    PAP  NO PERMITEN REALIZAR REVISION YA QUE NO HAY PERSONAL DE MANTENIMIENTO DISPONIBLE PARA ACOMPA AMIENTO SIN REGISTROS DEL MEDIDOR SIN DATOS SE ESPERO DISPONIBILIDAD DE PERSONAL DE MANTENIMIENTO DURANTE  MINUTOS SIN OBTENER RESPUESTA NO RESIDENCIAL CENTRO COMERCIAL SANTA FE Usuario EPM aalvaalv Fecha                                                                                                                                                                                                                                 |\n",
      "|Jorge grueso clase de uso no residencial actividad económica gimnasio  razón social sin nombre medidor ELSTER d 1½ serie #5238850027 con lectura# 16213 bien instalado registrando con prueba de llave usuario manifiesta que la caída de consumo se debe a que a bajado el trabajo por la pandemia Usuario: EPM\\JORGE.GRUESO Fecha: 2021-08-31 11:32:53                                                                                                                                                                                                                                                                                                               |Jorge grueso clase de uso no residencial actividad econ mica gimnasio raz n social sin nombre medidor ELSTER d  serie  con lectura  bien instalado registrando con prueba de llave usuario manifiesta que la ca da de consumo se debe a que a bajado el trabajo por la pandemia Usuario EPM JORGE GRUESO Fecha                                                                                                                                                                                                                                                                  |\n",
      "|JORGE GRUESO FECHA VISITA : 10/08/2021 PAP : 1899 SERIE MED : 2016642258  MARCA: WATER TECH  LECTURA : 1596  DIAMETRO : 1/2   MEDIDOR BIEN INSTALADO REGISTRANDO EN PRUEBA DE LLAVES EMPOTRADO USUARIO MANIFIESTA QUE LA CAIDA DE CONSUMO SE DEBE A QUE ESTABAN DESPERDICIANDO MUCHA AGUA YA ESTAN CONTROLANDO MAS NO SE OBSERVA ANOMALIAS EN EL MEDIDOR Y ACOMETIDA , CANT PUNTOS CONSUMOS 3 CANT UNI NO HABITACIONALES 1 NO RESIDENCIAL , EL SAZON DEL GORDO Usuario: EPM\\aalvaalv Fecha: 2021-08-12 07:54:22                                                                                                                                                        |JORGE GRUESO FECHA VISITA    PAP  SERIE MED  MARCA WATER TECH LECTURA  DIAMETRO   MEDIDOR BIEN INSTALADO REGISTRANDO EN PRUEBA DE LLAVES EMPOTRADO USUARIO MANIFIESTA QUE LA CAIDA DE CONSUMO SE DEBE A QUE ESTABAN DESPERDICIANDO MUCHA AGUA YA ESTAN CONTROLANDO MAS NO SE OBSERVA ANOMALIAS EN EL MEDIDOR Y ACOMETIDA CANT PUNTOS CONSUMOS  CANT UNI NO HABITACIONALES  NO RESIDENCIAL EL SAZON DEL GORDO Usuario EPM aalvaalv Fecha                                                                                                                                         |\n",
      "|Medidor Water tech 1/2 con serie#2020546686 y lectura#00066 en posición correcta se encuentra empotrados predio no residenciales es un discoteca Medidor sin signos de manipulación externas Usuario: EPM\\CARLOS.JARAMILLO Fecha: 2021-07-19 16:18:07                                                                                                                                                                                                                                                                                                                                                                                                                  |Medidor Water tech   con serie  y lectura  en posici n correcta se encuentra empotrados predio no residenciales es un discoteca Medidor sin signos de manipulaci n externas Usuario EPM CARLOS JARAMILLO Fecha                                                                                                                                                                                                                                                                                                                                                                  |\n",
      "|\"Se visita dirección en instalación no residencial actividad económica parqueadero metro con medidor empotrado marca watertech de 1\"\"serie 166000553 y lectura 00701M3 se encuentra bien instalado registra en prueba de llaves usuario informa que dicho medidor surte baños ya que su actividad económica no depende del Servio de acueducto por tal motivo bajos consumos no se observa anomalía no suministran datos Usuario: EPM\\SEBASTIAN.BUILES Fecha: 2021-07-16 15:44:06\"                                                                                                                                                                                     |Se visita direcci n en instalaci n no residencial actividad econ mica parqueadero metro con medidor empotrado marca watertech de  serie  y lectura M se encuentra bien instalado registra en prueba de llaves usuario informa que dicho medidor surte ba os ya que su actividad econ mica no depende del Servio de acueducto por tal motivo bajos consumos no se observa anomal a no suministran datos Usuario EPM SEBASTIAN BUILES Fecha                                                                                                                                       |\n",
      "|Carlos  Jaramillo  \\nMedidor Water tech de 1/2 con Serie #2017795598 y lectura#01583 en posición correcta registra en pruebas de llaves predió no residencial actividad económica es una empresa de estampados razón social bohe's no atienden visita Usuario: EPM\\CARLOS.JARAMILLO Fecha: 2021-08-05 12:56:01                                                                                                                                                                                                                                                                                                                                                         |Carlos Jaramillo Medidor Water tech de   con Serie  y lectura  en posici n correcta registra en pruebas de llaves predi no residencial actividad econ mica es una empresa de estampados raz n social bohe s no atienden visita Usuario EPM CARLOS JARAMILLO Fecha                                                                                                                                                                                                                                                                                                               |\n",
      "|SEBASTIAN BUILES\\nSe visita dirección en instalacion no residencial actividad económica restaurante nombre bj con medidor marca watertech de 1/2 serie 2017865299 y lectura 00538 M3 medidor bien instalad  registra en prueba de llaves consumos avanzado con normalidad usuario informa que la variación y los bajos consumos  es debido a la variación que ahí en el flujo de personas ya que no son la misma cantidad de personas todos los días no se observa ninguna anomalía  Usuario: EPM\\SEBASTIAN.BUILES Fecha: 2021-08-05 14:39:30                                                                                                                          |SEBASTIAN BUILES Se visita direcci n en instalacion no residencial actividad econ mica restaurante nombre bj con medidor marca watertech de   serie  y lectura  M medidor bien instalad registra en prueba de llaves consumos avanzado con normalidad usuario informa que la variaci n y los bajos consumos es debido a la variaci n que ah en el flujo de personas ya que no son la misma cantidad de personas todos los d as no se observa ninguna anomal a Usuario EPM SEBASTIAN BUILES Fecha                                                                                |\n",
      "|Carlos Jaramillo... medidor Water tech con serie#2014293638 y lectura#00451 en posición correcta sin signos de manipulación externa predio no residencial actividad económica es una droguería razón social  farmacia Pasteur se hizo acompañamiento de personal de mantenimiento  sin  foto de fachada en local no permitieron Usuario: EPM\\CARLOS.JARAMILLO Fecha: 2021-09-06 15:26:36                                                                                                                                                                                                                                                                               |Carlos Jaramillo medidor Water tech con serie  y lectura  en posici n correcta sin signos de manipulaci n externa predio no residencial actividad econ mica es una droguer a raz n social farmacia Pasteur se hizo acompa amiento de personal de mantenimiento sin foto de fachada en local no permitieron Usuario EPM CARLOS JARAMILLO Fecha                                                                                                                                                                                                                                   |\n",
      "|LUIS BALBUENA FECHA VISITA: 06/08/2021 PAP :2629  SERIE MED :2017801392  MARCA: WATER TECH  LECTURA :1587  DIAMETRO : 1/2 MEDIDOR EN BUEN ESTADO BIEN INSTALADO REGISTRANDO EN PRUEBA DE LLAVES SIN ANOMALIAS  USUARIO ARGUMENTA QUE CUANDO DISMINUYO CONSUMO FUE POR PANDEMIA YA QE HAY UN LOCAL QUE ES RESTAURANTE Y ES EL MISMO SUMINISTRO DE FLUJO Y ESTE FUE CERRADO , NO RESIDENCIAL , PARQUEADERO MOTO PARK Usuario: EPM\\aalvaalv Fecha: 2021-08-09 09:18:04                                                                                                                                                                                                    |LUIS BALBUENA FECHA VISITA    PAP  SERIE MED  MARCA WATER TECH LECTURA  DIAMETRO   MEDIDOR EN BUEN ESTADO BIEN INSTALADO REGISTRANDO EN PRUEBA DE LLAVES SIN ANOMALIAS USUARIO ARGUMENTA QUE CUANDO DISMINUYO CONSUMO FUE POR PANDEMIA YA QE HAY UN LOCAL QUE ES RESTAURANTE Y ES EL MISMO SUMINISTRO DE FLUJO Y ESTE FUE CERRADO NO RESIDENCIAL PARQUEADERO MOTO PARK Usuario EPM aalvaalv Fecha                                                                                                                                                                               |\n",
      "|Carlos Jaramillo... Medidor Water tech de 1/2 con serie# 2013088902 y lectura#00662 y n posición correcta sin signos de manipulación externa registra en prueba de Racor predio solo no residencial actividad económica es confecciones sin nombre de razón social  vecinos Argumenta que solo trabajan 3 personas en local actualizar serie en Sistema Usuario: EPM\\CARLOS.JARAMILLO Fecha: 2021-08-19 07:54:09                                                                                                                                                                                                                                                       |Carlos Jaramillo Medidor Water tech de   con serie  y lectura  y n posici n correcta sin signos de manipulaci n externa registra en prueba de Racor predio solo no residencial actividad econ mica es confecciones sin nombre de raz n social vecinos Argumenta que solo trabajan  personas en local actualizar serie en Sistema Usuario EPM CARLOS JARAMILLO Fecha                                                                                                                                                                                                             |\n",
      "|Yonatan Giraldo medidor bien instalado en buen estado no registra en prueba de llaves medidor encontrado en terreno no coincide con el listado de EPM actualizar serie en Medidor marca wáter tech de 1/2 serie 2014315696 lectura 01155 se envía medidor para el laboratorio en bolsa de seguridad BM 17-00162 presinto CB 17-00069 se normaliza instalación mediante cambio de medidor provisional marca wáter tech de 1/2 serie 2020554313 lectura 00000 se instala sello de EPM AA2037812 se dejan llaves y racores sin fugas predio residencial (villa santa Teresa) fecha revisión laboratorio 15-09-2021 Usuario: EPM\\YONATAN.GIRALDO Fecha: 2021-08-31 08:48:51|Yonatan Giraldo medidor bien instalado en buen estado no registra en prueba de llaves medidor encontrado en terreno no coincide con el listado de EPM actualizar serie en Medidor marca w ter tech de   serie  lectura  se env a medidor para el laboratorio en bolsa de seguridad BM   presinto CB   se normaliza instalaci n mediante cambio de medidor provisional marca w ter tech de   serie  lectura  se instala sello de EPM AA se dejan llaves y racores sin fugas predio residencial villa santa Teresa fecha revisi n laboratorio    Usuario EPM YONATAN GIRALDO Fecha|\n",
      "|Medidor en caja  tiene un Water tech con serie#2014253260  y lectura#03558 usuario indica que se encuentra perjudicado ya que lectores no leen medidor por no saca basura que mantiene caja predio es una bodega  Usuario: CARLOS.JARAMILLO Fecha: 2021-06-15 10:34:52                                                                                                                                                                                                                                                                                                                                                                                                 |Medidor en caja tiene un Water tech con serie  y lectura  usuario indica que se encuentra perjudicado ya que lectores no leen medidor por no saca basura que mantiene caja predio es una bodega Usuario CARLOS JARAMILLO Fecha                                                                                                                                                                                                                                                                                                                                                  |\n",
      "|SEBASTIAN BUILES\\nSe visita dirección en instalacion no residencial actividad económica pasaje comercial nombre Tequendama  con medidor marca watertech de 1/2 serie 2016627434 y lectura 02299 M3 medidor bien instalado registra en prueba de llaves consumos avanzado con normalidad y son acorde a meses anteriores se observan pocos locales usuario informa que sus consumos son solo uso sanitario ya que su actividad económica no depende de este servicio por tal motivo bajo consumo sin anomalías no suministran datos Usuario: EPM\\SEBASTIAN.BUILES Fecha: 2021-08-05 14:09:00                                                                            |SEBASTIAN BUILES Se visita direcci n en instalacion no residencial actividad econ mica pasaje comercial nombre Tequendama con medidor marca watertech de   serie  y lectura  M medidor bien instalado registra en prueba de llaves consumos avanzado con normalidad y son acorde a meses anteriores se observan pocos locales usuario informa que sus consumos son solo uso sanitario ya que su actividad econ mica no depende de este servicio por tal motivo bajo consumo sin anomal as no suministran datos Usuario EPM SEBASTIAN BUILES Fecha                               |\n",
      "|SEBASTIAN BUILES\\nSe visita dirección en instalacion no residencial actividad económica panaderia nombre boga con medidor marca watertech de 1/2 serie 2018921427 y lectura 00432 M3 medidor bien instalado empotrado registra en prueba de llaves consumos avanzado con normalidad y son acorde a meses anteriores usuario informa que su variación y bajo consumo es debido a la variación de en el flujo de personas no se observa ninguna anomalía  Usuario: EPM\\SEBASTIAN.BUILES Fecha: 2021-08-05 10:31:14                                                                                                                                                       |SEBASTIAN BUILES Se visita direcci n en instalacion no residencial actividad econ mica panaderia nombre boga con medidor marca watertech de   serie  y lectura  M medidor bien instalado empotrado registra en prueba de llaves consumos avanzado con normalidad y son acorde a meses anteriores usuario informa que su variaci n y bajo consumo es debido a la variaci n de en el flujo de personas no se observa ninguna anomal a Usuario EPM SEBASTIAN BUILES Fecha                                                                                                          |\n",
      "|Carlos Jaramillo... instalación directa la cual se normaliza instalación se instala llave de contención dos pitorras de 1/4 de 4 mm medidor Water tech de 1/2 con serie#2020554559 y lectura#00000 y sello de seguridad de EPM#AA2044420 se deja instalacion sin fugas predio no residencial actividad económica es un local restaurante razón social  seasoning se empotra medidor la cual usuaria lo ordena Usuario: EPM\\CARLOS.JARAMILLO Fecha: 2021-09-04 08:42:42                                                                                                                                                                                                 |Carlos Jaramillo instalaci n directa la cual se normaliza instalaci n se instala llave de contenci n dos pitorras de   de  mm medidor Water tech de   con serie  y lectura  y sello de seguridad de EPM AA se deja instalacion sin fugas predio no residencial actividad econ mica es un local restaurante raz n social seasoning se empotra medidor la cual usuaria lo ordena Usuario EPM CARLOS JARAMILLO Fecha                                                                                                                                                               |\n",
      "|Yonatan Giraldo medidor bien instalado en buen estado registrando en prueba de llaves medidor marca wáter tech de 3/4 serie 2014268200 lectura 32062 medidor de control no se observa anomalías externas predio residencial (Sion apartamentos) personal que atiende visita dice no estar autorizado para firmar Usuario: EPM\\YONATAN.GIRALDO Fecha: 2021-09-10 10:54:35                                                                                                                                                                                                                                                                                               |Yonatan Giraldo medidor bien instalado en buen estado registrando en prueba de llaves medidor marca w ter tech de   serie  lectura  medidor de control no se observa anomal as externas predio residencial Sion apartamentos personal que atiende visita dice no estar autorizado para firmar Usuario EPM YONATAN GIRALDO Fecha                                                                                                                                                                                                                                                 |\n",
      "|JORGE GRUESO no fraude    FECHA VISITA:22/06/2021 PAP:379 SERIE MED :200105623 MARCA:WATER TECH LECTURA :7579 DIAMETRO : 1 MEDIDOR BIEN INSTALADO CON SELLO BUENO ILEGIBLE REGISTRA CON  PRUEBA DE LLAVE USUARIO MANIFIESTA QUE EL BAJO CONSUMO SE DEBE A LA BAJA PRODUCCION NO SE OBSERVA ANOMALIAS EN EL MEDIDOR Y ACOMETIDA , CANT PUNTOS CONSUMOS 15 CANT UNI NO HABITACIONALES 1 NO RESIDENCIAL , FABRICA AREPAS Usuario: EPM\\aalvaalv Fecha: 2021-06-24 12:50:42                                                                                                                                                                                                 |JORGE GRUESO no fraude FECHA VISITA    PAP  SERIE MED  MARCA WATER TECH LECTURA  DIAMETRO  MEDIDOR BIEN INSTALADO CON SELLO BUENO ILEGIBLE REGISTRA CON PRUEBA DE LLAVE USUARIO MANIFIESTA QUE EL BAJO CONSUMO SE DEBE A LA BAJA PRODUCCION NO SE OBSERVA ANOMALIAS EN EL MEDIDOR Y ACOMETIDA CANT PUNTOS CONSUMOS  CANT UNI NO HABITACIONALES  NO RESIDENCIAL FABRICA AREPAS Usuario EPM aalvaalv Fecha                                                                                                                                                                        |\n",
      "+-----------------------------------------------------------------------------------------------------------------------------------------------------------------------------------------------------------------------------------------------------------------------------------------------------------------------------------------------------------------------------------------------------------------------------------------------------------------------------------------------------------------------------------------------------------------------------------------------------------------------------------------------------------------------+--------------------------------------------------------------------------------------------------------------------------------------------------------------------------------------------------------------------------------------------------------------------------------------------------------------------------------------------------------------------------------------------------------------------------------------------------------------------------------------------------------------------------------------------------------------------------------+\n",
      "only showing top 20 rows"
     ]
    }
   ],
   "source": [
    "# Mostrar resultado\n",
    "df_limpio.select('Observacion','observacion_final').show(truncate=False)"
   ]
  },
  {
   "cell_type": "code",
   "execution_count": 58,
   "id": "bb5e8792",
   "metadata": {},
   "outputs": [
    {
     "data": {
      "application/vnd.jupyter.widget-view+json": {
       "model_id": "",
       "version_major": 2,
       "version_minor": 0
      },
      "text/plain": [
       "FloatProgress(value=0.0, bar_style='info', description='Progress:', layout=Layout(height='25px', width='50%'),…"
      ]
     },
     "metadata": {},
     "output_type": "display_data"
    }
   ],
   "source": [
    "stopwords_list = [row[\"Stopword\"] for row in df_Stop.collect()]"
   ]
  },
  {
   "cell_type": "code",
   "execution_count": 59,
   "id": "ac12b311",
   "metadata": {},
   "outputs": [
    {
     "data": {
      "application/vnd.jupyter.widget-view+json": {
       "model_id": "",
       "version_major": 2,
       "version_minor": 0
      },
      "text/plain": [
       "FloatProgress(value=0.0, bar_style='info', description='Progress:', layout=Layout(height='25px', width='50%'),…"
      ]
     },
     "metadata": {},
     "output_type": "display_data"
    }
   ],
   "source": [
    "stopwords_set = set(stopwords_list)\n",
    "\n",
    "def quitar_stopwords(texto):\n",
    "    if texto:\n",
    "        palabras = texto.split()\n",
    "        filtradas = [p for p in palabras if p.lower() not in stopwords_set]\n",
    "        return \" \".join(filtradas)\n",
    "    return \"\""
   ]
  },
  {
   "cell_type": "code",
   "execution_count": 61,
   "id": "a7de8638",
   "metadata": {},
   "outputs": [
    {
     "data": {
      "application/vnd.jupyter.widget-view+json": {
       "model_id": "",
       "version_major": 2,
       "version_minor": 0
      },
      "text/plain": [
       "FloatProgress(value=0.0, bar_style='info', description='Progress:', layout=Layout(height='25px', width='50%'),…"
      ]
     },
     "metadata": {},
     "output_type": "display_data"
    }
   ],
   "source": [
    "# Registrar la función como UDF\n",
    "quitar_stopwords_udf = udf(quitar_stopwords, StringType())\n",
    "\n",
    "# Aplicarla sobre la columna 'observacion'\n",
    "df_limpio = df_limpio.withColumn(\"observacion_sin_stopwords\", quitar_stopwords_udf(col(\"observacion\")))"
   ]
  },
  {
   "cell_type": "markdown",
   "id": "bc5eba79",
   "metadata": {},
   "source": [
    "##Aqui va nlp cuando lo solucionemos"
   ]
  },
  {
   "cell_type": "code",
   "execution_count": 62,
   "id": "a2670454",
   "metadata": {
    "scrolled": true
   },
   "outputs": [
    {
     "data": {
      "application/vnd.jupyter.widget-view+json": {
       "model_id": "",
       "version_major": 2,
       "version_minor": 0
      },
      "text/plain": [
       "FloatProgress(value=0.0, bar_style='info', description='Progress:', layout=Layout(height='25px', width='50%'),…"
      ]
     },
     "metadata": {},
     "output_type": "display_data"
    }
   ],
   "source": [
    "dict_sinonimos = dict(df_diccionario.select(\"Palabra\", \"Sinonimo\").rdd.map(lambda row: (row[\"Palabra\"], row[\"Sinonimo\"])).collect())\n"
   ]
  },
  {
   "cell_type": "code",
   "execution_count": 63,
   "id": "cea43491",
   "metadata": {},
   "outputs": [
    {
     "data": {
      "application/vnd.jupyter.widget-view+json": {
       "model_id": "",
       "version_major": 2,
       "version_minor": 0
      },
      "text/plain": [
       "FloatProgress(value=0.0, bar_style='info', description='Progress:', layout=Layout(height='25px', width='50%'),…"
      ]
     },
     "metadata": {},
     "output_type": "display_data"
    }
   ],
   "source": [
    "def reemplazar_sinonimos(texto):\n",
    "    if not isinstance(texto, str):\n",
    "        return []\n",
    "    palabras = texto.split()\n",
    "    resultado = [dict_sinonimos.get(p, p) for p in palabras]\n",
    "    return resultado\n"
   ]
  },
  {
   "cell_type": "code",
   "execution_count": 64,
   "id": "188b989b",
   "metadata": {},
   "outputs": [
    {
     "data": {
      "application/vnd.jupyter.widget-view+json": {
       "model_id": "",
       "version_major": 2,
       "version_minor": 0
      },
      "text/plain": [
       "FloatProgress(value=0.0, bar_style='info', description='Progress:', layout=Layout(height='25px', width='50%'),…"
      ]
     },
     "metadata": {},
     "output_type": "display_data"
    },
    {
     "name": "stdout",
     "output_type": "stream",
     "text": [
      "['ID_ORDEM_SERVICO', 'ID_UC', 'Estado Instalacion', 'Uso', 'Actividad Economica', 'Fecha Generacion', 'Fecha Ejecucion', 'FechaDescargue', 'Fecha Ultima Lectura', 'Estado OT', 'Observacion', 'Efectividad', 'Causa Efectividad', 'Causa Evento', 'Consumo promedio', 'Lectura en Visita', 'Ultimo Valor Leido', 'Oportunidad Ejecucion', 'Oportunidad Descargue', 'Diferencia Lectura', 'Dias entre lecturas', 'Promedio Consumo dia', 'Analisis Lectura', 'Promedio Dia Historico', 'Menor a Promedio', 'Score Lectura', 'Score Promedio', 'Total Puntaje', 'ID_Accion', 'Nombre Accion', 'Observacion_limpia_1', 'Observacion_limpia_2', 'Observacion_limpia_3', 'Observacion_limpia_4', 'Observacion_final', 'observacion_sin_stopwords']"
     ]
    }
   ],
   "source": [
    "df_limpio.columns"
   ]
  },
  {
   "cell_type": "code",
   "execution_count": 65,
   "id": "09b1d034",
   "metadata": {},
   "outputs": [
    {
     "data": {
      "application/vnd.jupyter.widget-view+json": {
       "model_id": "",
       "version_major": 2,
       "version_minor": 0
      },
      "text/plain": [
       "FloatProgress(value=0.0, bar_style='info', description='Progress:', layout=Layout(height='25px', width='50%'),…"
      ]
     },
     "metadata": {},
     "output_type": "display_data"
    }
   ],
   "source": [
    "reemplazo_udf = udf(reemplazar_sinonimos, ArrayType(StringType()))\n",
    "\n",
    "df_final = df_limpio.withColumn(\"Observacion_Ok\", reemplazo_udf(col(\"observacion_sin_stopwords\")))"
   ]
  },
  {
   "cell_type": "code",
   "execution_count": 66,
   "id": "448510eb",
   "metadata": {},
   "outputs": [
    {
     "data": {
      "application/vnd.jupyter.widget-view+json": {
       "model_id": "",
       "version_major": 2,
       "version_minor": 0
      },
      "text/plain": [
       "FloatProgress(value=0.0, bar_style='info', description='Progress:', layout=Layout(height='25px', width='50%'),…"
      ]
     },
     "metadata": {},
     "output_type": "display_data"
    }
   ],
   "source": [
    "#vamos a agrupar las causas eventos en 3 categorias: No revisado, No fraude o Anomalia\n",
    "def agrupar_causaevento(causa):\n",
    "    if (causa== 'No Aplica' or causa=='No autorizan trabajo' or causa=='Otras Fuentes' or causa=='Información errada'):\n",
    "        evento='No revisado'\n",
    "    elif (causa=='No fraude'):\n",
    "        evento='Normal'\n",
    "    else:\n",
    "        evento='Anomalia'\n",
    "    return evento"
   ]
  },
  {
   "cell_type": "code",
   "execution_count": 69,
   "id": "02b38611",
   "metadata": {},
   "outputs": [
    {
     "data": {
      "application/vnd.jupyter.widget-view+json": {
       "model_id": "",
       "version_major": 2,
       "version_minor": 0
      },
      "text/plain": [
       "FloatProgress(value=0.0, bar_style='info', description='Progress:', layout=Layout(height='25px', width='50%'),…"
      ]
     },
     "metadata": {},
     "output_type": "display_data"
    }
   ],
   "source": [
    "agrupar_udf = udf(agrupar_causaevento, StringType())\n",
    "final_df= df_final.withColumn(\"evento\", agrupar_udf(df_final[\"Causa Evento\"]))"
   ]
  },
  {
   "cell_type": "code",
   "execution_count": 70,
   "id": "e2b93180",
   "metadata": {},
   "outputs": [
    {
     "data": {
      "application/vnd.jupyter.widget-view+json": {
       "model_id": "",
       "version_major": 2,
       "version_minor": 0
      },
      "text/plain": [
       "FloatProgress(value=0.0, bar_style='info', description='Progress:', layout=Layout(height='25px', width='50%'),…"
      ]
     },
     "metadata": {},
     "output_type": "display_data"
    },
    {
     "name": "stdout",
     "output_type": "stream",
     "text": [
      "+--------------------+-----------+\n",
      "|        Causa Evento|     evento|\n",
      "+--------------------+-----------+\n",
      "|Anomalia - Instal...|   Anomalia|\n",
      "|           No fraude|     Normal|\n",
      "|Anomalia - Medido...|   Anomalia|\n",
      "|           No Aplica|No revisado|\n",
      "|           No fraude|     Normal|\n",
      "|           No fraude|     Normal|\n",
      "|           No fraude|     Normal|\n",
      "|           No fraude|     Normal|\n",
      "|           No fraude|     Normal|\n",
      "|           No fraude|     Normal|\n",
      "|           No fraude|     Normal|\n",
      "|           No fraude|     Normal|\n",
      "|           No Aplica|No revisado|\n",
      "|Anomalia - Medido...|   Anomalia|\n",
      "|           No fraude|     Normal|\n",
      "|           No fraude|     Normal|\n",
      "|           No fraude|     Normal|\n",
      "|Anomalia - Instal...|   Anomalia|\n",
      "|           No fraude|     Normal|\n",
      "|           No fraude|     Normal|\n",
      "+--------------------+-----------+\n",
      "only showing top 20 rows"
     ]
    }
   ],
   "source": [
    "final_df.select(\"Causa Evento\", \"evento\").show()"
   ]
  },
  {
   "cell_type": "code",
   "execution_count": 71,
   "id": "43f890cd",
   "metadata": {},
   "outputs": [
    {
     "data": {
      "application/vnd.jupyter.widget-view+json": {
       "model_id": "",
       "version_major": 2,
       "version_minor": 0
      },
      "text/plain": [
       "FloatProgress(value=0.0, bar_style='info', description='Progress:', layout=Layout(height='25px', width='50%'),…"
      ]
     },
     "metadata": {},
     "output_type": "display_data"
    }
   ],
   "source": [
    "def eliminar_pares_correlacionados(df_spark, columnas_categoricas, umbral=0.05):\n",
    "    from pyspark.ml.linalg import Vectors\n",
    "    from pyspark.ml.feature import VectorAssembler\n",
    "    from pyspark.sql import DataFrame\n",
    "\n",
    "    df = df_spark.select(columnas_categoricas).dropna()\n",
    "\n",
    "    # Convertir columnas categóricas a índices numéricos\n",
    "    for colname in columnas_categoricas:\n",
    "        indexer = StringIndexer(inputCol=colname, outputCol=colname + \"_idx\").setHandleInvalid(\"skip\")\n",
    "        df = indexer.fit(df).transform(df)\n",
    "\n",
    "    idx_cols = [col + \"_idx\" for col in columnas_categoricas]\n",
    "\n",
    "    # Contamos pares dependientes y eliminamos uno de cada par\n",
    "    dependientes = set()\n",
    "    columnas_validas = idx_cols.copy()\n",
    "\n",
    "    for i in range(len(idx_cols) - 1):\n",
    "        for j in range(i + 1, len(idx_cols)):\n",
    "            assembler = VectorAssembler(inputCols=[idx_cols[j]], outputCol=\"features\")\n",
    "            chi_input = assembler.transform(df.select(idx_cols[i], idx_cols[j]).withColumnRenamed(idx_cols[i], \"label\"))\n",
    "            chi_result = ChiSquareTest.test(chi_input, \"features\", \"label\").head()\n",
    "            p_value = chi_result.pValues[0]\n",
    "\n",
    "            if p_value < umbral:\n",
    "                # Hay dependencia significativa: eliminar la de menor cardinalidad\n",
    "                col1 = idx_cols[i]\n",
    "                col2 = idx_cols[j]\n",
    "                card1 = df.select(col1).distinct().count()\n",
    "                card2 = df.select(col2).distinct().count()\n",
    "\n",
    "                if card1 >= card2:\n",
    "                    dependientes.add(col2)\n",
    "                else:\n",
    "                    dependientes.add(col1)\n",
    "\n",
    "    columnas_finales = [col.replace(\"_idx\", \"\") for col in columnas_validas if col not in dependientes]\n",
    "    return columnas_finales\n"
   ]
  },
  {
   "cell_type": "code",
   "execution_count": 72,
   "id": "74e23c18",
   "metadata": {},
   "outputs": [
    {
     "data": {
      "application/vnd.jupyter.widget-view+json": {
       "model_id": "",
       "version_major": 2,
       "version_minor": 0
      },
      "text/plain": [
       "FloatProgress(value=0.0, bar_style='info', description='Progress:', layout=Layout(height='25px', width='50%'),…"
      ]
     },
     "metadata": {},
     "output_type": "display_data"
    },
    {
     "name": "stdout",
     "output_type": "stream",
     "text": [
      "['Actividad Economica']"
     ]
    }
   ],
   "source": [
    "columnas = ['Uso', 'Actividad Economica','Analisis Lectura', 'Menor a Promedio']\n",
    "columnas_Categorica_resultado = eliminar_pares_correlacionados(df_final, columnas)\n",
    "print(columnas_Categorica_resultado)"
   ]
  },
  {
   "cell_type": "code",
   "execution_count": 73,
   "id": "c1deb29e",
   "metadata": {},
   "outputs": [
    {
     "data": {
      "application/vnd.jupyter.widget-view+json": {
       "model_id": "",
       "version_major": 2,
       "version_minor": 0
      },
      "text/plain": [
       "FloatProgress(value=0.0, bar_style='info', description='Progress:', layout=Layout(height='25px', width='50%'),…"
      ]
     },
     "metadata": {},
     "output_type": "display_data"
    }
   ],
   "source": [
    "def convertir_columna_a_numerico(df, colname, nueva_colname=None):\n",
    "    if not nueva_colname:\n",
    "        nueva_colname = colname\n",
    "    return (df.withColumn(nueva_colname, regexp_replace(col(colname), \"[$,%]\", \"\"))\n",
    "              .withColumn(nueva_colname, regexp_replace(col(nueva_colname), \",\", \"\"))\n",
    "              .withColumn(nueva_colname, col(nueva_colname).cast(\"double\")))\n",
    "\n",
    "def convertir_varias_columnas_a_numerico(df, columnas):\n",
    "    \"\"\"\n",
    "    Limpia y convierte varias columnas a tipo numérico en PySpark.\n",
    "    \"\"\"\n",
    "    for colname in columnas:\n",
    "        df = convertir_columna_a_numerico(df, colname)\n",
    "    return df"
   ]
  },
  {
   "cell_type": "code",
   "execution_count": 74,
   "id": "8e6bb18d",
   "metadata": {},
   "outputs": [
    {
     "data": {
      "application/vnd.jupyter.widget-view+json": {
       "model_id": "",
       "version_major": 2,
       "version_minor": 0
      },
      "text/plain": [
       "FloatProgress(value=0.0, bar_style='info', description='Progress:', layout=Layout(height='25px', width='50%'),…"
      ]
     },
     "metadata": {},
     "output_type": "display_data"
    }
   ],
   "source": [
    "columnas_numericas = ['Consumo promedio', 'Lectura en Visita', 'Ultimo Valor Leido', 'Diferencia Lectura','Promedio Consumo dia','Score Lectura', 'Score Promedio', 'Total Puntaje']\n",
    "df_numericas = convertir_varias_columnas_a_numerico(final_df, columnas_numericas)"
   ]
  },
  {
   "cell_type": "code",
   "execution_count": 75,
   "id": "9ac1de74",
   "metadata": {},
   "outputs": [
    {
     "data": {
      "application/vnd.jupyter.widget-view+json": {
       "model_id": "",
       "version_major": 2,
       "version_minor": 0
      },
      "text/plain": [
       "FloatProgress(value=0.0, bar_style='info', description='Progress:', layout=Layout(height='25px', width='50%'),…"
      ]
     },
     "metadata": {},
     "output_type": "display_data"
    }
   ],
   "source": [
    "def eliminar_correlacionadas_spark(df_spark, columnas, umbral=0.7):\n",
    "    \"\"\"\n",
    "    Elimina variables numéricas altamente correlacionadas (> umbral)\n",
    "    \"\"\"\n",
    "    # 1. Reemplazar nulos (puedes hacer un dropna o imputación)\n",
    "    df = df_spark.select(columnas).dropna()\n",
    "\n",
    "    # 2. Ensamblar vector\n",
    "    assembler = VectorAssembler(inputCols=columnas, outputCol=\"features_raw\")\n",
    "    df_vector = assembler.transform(df)\n",
    "\n",
    "    # 3. Escalar los datos\n",
    "    scaler = StandardScaler(inputCol=\"features_raw\", outputCol=\"features\", withStd=True, withMean=True)\n",
    "    scaler_model = scaler.fit(df_vector)\n",
    "    df_scaled = scaler_model.transform(df_vector)\n",
    "\n",
    "    # 4. Calcular matriz de correlación\n",
    "    corr_matrix = Correlation.corr(df_scaled, \"features\", method=\"pearson\").head()[0].toArray()\n",
    "\n",
    "    # 5. Eliminar una variable de cada par altamente correlacionado\n",
    "    keep = set(columnas)\n",
    "    eliminar = set()\n",
    "\n",
    "    for i in range(len(columnas)):\n",
    "      for j in range(i+1, len(columnas)):\n",
    "          if abs(corr_matrix[i, j]) > umbral:\n",
    "              var_i = df.select(columnas[i]).agg({columnas[i]: \"variance\"}).first()[0]\n",
    "              var_j = df.select(columnas[j]).agg({columnas[j]: \"variance\"}).first()[0]\n",
    "              if var_i >= var_j:\n",
    "                  eliminar.add(columnas[j])\n",
    "              else:\n",
    "                  eliminar.add(columnas[i])\n",
    "\n",
    "    columnas_final = [col for col in columnas if col not in eliminar]\n",
    "    return columnas_final\n"
   ]
  },
  {
   "cell_type": "code",
   "execution_count": 76,
   "id": "8b0439f1",
   "metadata": {},
   "outputs": [
    {
     "data": {
      "application/vnd.jupyter.widget-view+json": {
       "model_id": "",
       "version_major": 2,
       "version_minor": 0
      },
      "text/plain": [
       "FloatProgress(value=0.0, bar_style='info', description='Progress:', layout=Layout(height='25px', width='50%'),…"
      ]
     },
     "metadata": {},
     "output_type": "display_data"
    },
    {
     "name": "stdout",
     "output_type": "stream",
     "text": [
      "['Consumo promedio', 'Ultimo Valor Leido', 'Diferencia Lectura', 'Total Puntaje']"
     ]
    }
   ],
   "source": [
    "columnas_numericas = ['Consumo promedio', 'Lectura en Visita', 'Ultimo Valor Leido', 'Diferencia Lectura','Promedio Consumo dia','Score Lectura', 'Score Promedio', 'Total Puntaje']\n",
    "columnas_seleccionadas = eliminar_correlacionadas_spark(df_numericas, columnas_numericas)\n",
    "print(columnas_seleccionadas)"
   ]
  },
  {
   "cell_type": "code",
   "execution_count": 77,
   "id": "07064205",
   "metadata": {},
   "outputs": [
    {
     "data": {
      "application/vnd.jupyter.widget-view+json": {
       "model_id": "",
       "version_major": 2,
       "version_minor": 0
      },
      "text/plain": [
       "FloatProgress(value=0.0, bar_style='info', description='Progress:', layout=Layout(height='25px', width='50%'),…"
      ]
     },
     "metadata": {},
     "output_type": "display_data"
    }
   ],
   "source": [
    "cols_seleccionadas = ['ID_UC']+columnas_Categorica_resultado + columnas_seleccionadas + ['Observacion_Ok', 'evento']\n",
    "\n",
    "# Seleccionar columnas del DataFrame\n",
    "df_entrenamiento = df_numericas.select(*cols_seleccionadas)"
   ]
  },
  {
   "cell_type": "code",
   "execution_count": 78,
   "id": "9ee1ee77",
   "metadata": {},
   "outputs": [
    {
     "data": {
      "application/vnd.jupyter.widget-view+json": {
       "model_id": "",
       "version_major": 2,
       "version_minor": 0
      },
      "text/plain": [
       "FloatProgress(value=0.0, bar_style='info', description='Progress:', layout=Layout(height='25px', width='50%'),…"
      ]
     },
     "metadata": {},
     "output_type": "display_data"
    }
   ],
   "source": [
    "def categorizar_y(x):\n",
    "    try:\n",
    "        if x == 'Normal':\n",
    "            return 0\n",
    "        elif x == 'Anomalia':\n",
    "            return 1\n",
    "        else:\n",
    "            return 2\n",
    "    except:\n",
    "        return 2\n",
    "\n",
    "# Regístrala como UDF\n",
    "categorizar_y_udf = udf(categorizar_y, IntegerType())\n",
    "\n",
    "# Aplica al DataFrame (por ejemplo sobre la columna 'evento')\n",
    "df_entrenamiento = df_entrenamiento.withColumn(\"evento_cat\", categorizar_y_udf(\"evento\"))"
   ]
  },
  {
   "cell_type": "code",
   "execution_count": 79,
   "id": "17948c74",
   "metadata": {},
   "outputs": [
    {
     "data": {
      "application/vnd.jupyter.widget-view+json": {
       "model_id": "",
       "version_major": 2,
       "version_minor": 0
      },
      "text/plain": [
       "FloatProgress(value=0.0, bar_style='info', description='Progress:', layout=Layout(height='25px', width='50%'),…"
      ]
     },
     "metadata": {},
     "output_type": "display_data"
    },
    {
     "name": "stdout",
     "output_type": "stream",
     "text": [
      "+--------+--------------------+----------------+------------------+------------------+-------------+--------------------+-----------+----------+\n",
      "|   ID_UC| Actividad Economica|Consumo promedio|Ultimo Valor Leido|Diferencia Lectura|Total Puntaje|      Observacion_Ok|     evento|evento_cat|\n",
      "+--------+--------------------+----------------+------------------+------------------+-------------+--------------------+-----------+----------+\n",
      "|12285549|Residencial estra...|             2.0|               0.0|               0.0|         17.0|[Se, encuentra, v...|   Anomalia|         1|\n",
      "|12285712|Expendio de bebid...|            12.0|            3172.0|               8.0|          4.0|[Jaramillo, Medid...|     Normal|         0|\n",
      "|12285932|Residencial estra...|             6.0|               3.0|              14.0|          4.0|[Yonatan, Giraldo...|   Anomalia|         1|\n",
      "|12286097|Otras actividades...|            12.0|           50739.0|           50739.0|          4.0|[SEBASTIAN, BUILE...|No revisado|         2|\n",
      "|12286401|Actividades inmob...|            94.0|           16165.0|              48.0|          4.0|[clase, de, uso, ...|     Normal|         0|\n",
      "+--------+--------------------+----------------+------------------+------------------+-------------+--------------------+-----------+----------+\n",
      "only showing top 5 rows"
     ]
    }
   ],
   "source": [
    "df_entrenamiento.show(5)"
   ]
  },
  {
   "cell_type": "code",
   "execution_count": 80,
   "id": "4c3d36f8",
   "metadata": {},
   "outputs": [
    {
     "data": {
      "application/vnd.jupyter.widget-view+json": {
       "model_id": "",
       "version_major": 2,
       "version_minor": 0
      },
      "text/plain": [
       "FloatProgress(value=0.0, bar_style='info', description='Progress:', layout=Layout(height='25px', width='50%'),…"
      ]
     },
     "metadata": {},
     "output_type": "display_data"
    },
    {
     "name": "stdout",
     "output_type": "stream",
     "text": [
      "+----------------------------------------------------------------------------------------------------------------------------------------------------------------------------------------------------------------------------------------------------------------------------------------------------------------------------------------------------------------------------------------------------------------------------------------------------------------------------------------------------------------------------------------------------------------------------------------------------------------------------------------------------------------------------------------------------------------------------------------------+------------------------------------------------------------------------------------------------------------------------------------------------------------------------------------------------------------------------------------------------------------------------------------------------------------------------------------------------------------------------------------------------------------------------------------------------------------------------------------------------------------------------------------------------------------------------------------------------------------------------------------------------------------------------------------------------------------------------------------------------------------------------------------------------------------------------------------------------------------------------------------------------------------------------------------------------------------------------------------------------------------------------------------------------------------------------------------------------------------------------------------------------------------------------------------------------------------------------------------------------------------------------------------------------------------------------------------------------------------------------------+---------------------------------------------------------------------------------------------------------------------------------------------------------------------------------------------------------------------------------------------------------------------------------------------------------------------------------------------------------------------------------------------------------------------------------------------------------------------------------------------------------------------------------------------------------------------------------------------------------------------------------------------------------------------------------------------------------------------------------------------------+\n",
      "|Observacion_Ok                                                                                                                                                                                                                                                                                                                                                                                                                                                                                                                                                                                                                                                                                                                                |bigrams                                                                                                                                                                                                                                                                                                                                                                                                                                                                                                                                                                                                                                                                                                                                                                                                                                                                                                                                                                                                                                                                                                                                                                                                                                                                                                                                                                       |features                                                                                                                                                                                                                                                                                                                                                                                                                                                                                                                                                                                                                                                                                                                                           |\n",
      "+----------------------------------------------------------------------------------------------------------------------------------------------------------------------------------------------------------------------------------------------------------------------------------------------------------------------------------------------------------------------------------------------------------------------------------------------------------------------------------------------------------------------------------------------------------------------------------------------------------------------------------------------------------------------------------------------------------------------------------------------+------------------------------------------------------------------------------------------------------------------------------------------------------------------------------------------------------------------------------------------------------------------------------------------------------------------------------------------------------------------------------------------------------------------------------------------------------------------------------------------------------------------------------------------------------------------------------------------------------------------------------------------------------------------------------------------------------------------------------------------------------------------------------------------------------------------------------------------------------------------------------------------------------------------------------------------------------------------------------------------------------------------------------------------------------------------------------------------------------------------------------------------------------------------------------------------------------------------------------------------------------------------------------------------------------------------------------------------------------------------------------+---------------------------------------------------------------------------------------------------------------------------------------------------------------------------------------------------------------------------------------------------------------------------------------------------------------------------------------------------------------------------------------------------------------------------------------------------------------------------------------------------------------------------------------------------------------------------------------------------------------------------------------------------------------------------------------------------------------------------------------------------+\n",
      "|[Se, encuentra, vivienda, sin, medidor,, servicio, directo., Usuario, dice, nunca, ha, tenido, medidor, de, acueducto., Usuario:, EPM\\JACOSAC, Fecha:, 2021-09-13, 10:43:15]                                                                                                                                                                                                                                                                                                                                                                                                                                                                                                                                                                  |[Se encuentra, encuentra vivienda, vivienda sin, sin medidor,, medidor, servicio, servicio directo., directo. Usuario, Usuario dice, dice nunca, nunca ha, ha tenido, tenido medidor, medidor de, de acueducto., acueducto. Usuario:, Usuario: EPM\\JACOSAC, EPM\\JACOSAC Fecha:, Fecha: 2021-09-13, 2021-09-13 10:43:15]                                                                                                                                                                                                                                                                                                                                                                                                                                                                                                                                                                                                                                                                                                                                                                                                                                                                                                                                                                                                                                                       |(39017,[12,269,865,878,2211,2314,2658,2706,2782,2831,2862,2932,2996,3112,3189,3338,20890,37904,38720],[1.0,1.0,1.0,1.0,1.0,1.0,1.0,1.0,1.0,1.0,1.0,1.0,1.0,1.0,1.0,1.0,1.0,1.0,1.0])                                                                                                                                                                                                                                                                                                                                                                                                                                                                                                                                                               |\n",
      "|[Jaramillo, Medidor, de, ½, serie#20113047667, lectura, 03164, en, posición, correcta, sin, signos, de, manipulacion, externa, registra, en, prueba, de, llaves, predio, no, residencial, actividad, económica, es, un, bar, razón, social, bar, el, el, tiene, 2, puntos, de, consumo, el, usuario, manifiesta, el, consumo, varía, de, acuerdo, a, la, cantidad, de, personas, transcurren, en, el, lugar, Usuario:, EPM\\CARLOS.JARAMILLO, Fecha:, 2021-08-05, 15:13:27]                                                                                                                                                                                                                                                                    |[Jaramillo Medidor, Medidor de, de ½, ½ serie#20113047667, serie#20113047667 lectura, lectura 03164, 03164 en, en posición, posición correcta, correcta sin, sin signos, signos de, de manipulacion, manipulacion externa, externa registra, registra en, en prueba, prueba de, de llaves, llaves predio, predio no, no residencial, residencial actividad, actividad económica, económica es, es un, un bar, bar razón, razón social, social bar, bar el, el el, el tiene, tiene 2, 2 puntos, puntos de, de consumo, consumo el, el usuario, usuario manifiesta, manifiesta el, el consumo, consumo varía, varía de, de acuerdo, acuerdo a, a la, la cantidad, cantidad de, de personas, personas transcurren, transcurren en, en el, el lugar, lugar Usuario:, Usuario: EPM\\CARLOS.JARAMILLO, EPM\\CARLOS.JARAMILLO Fecha:, Fecha: 2021-08-05, 2021-08-05 15:13:27]                                                                                                                                                                                                                                                                                                                                                                                                                                                                                                          |(39017,[0,3,4,6,8,14,17,19,20,28,30,32,33,36,37,38,39,44,50,57,64,106,121,136,149,180,191,327,368,396,439,635,741,910,989,1067,1515,1963,2402,3054,3185,4046,4541,5270,6288,6487,6804,6962,12511,17359,18789,18877,24588,24658,24996,29926,32050,33695,36690],[1.0,1.0,1.0,1.0,1.0,1.0,1.0,1.0,1.0,1.0,1.0,1.0,1.0,1.0,1.0,1.0,1.0,1.0,1.0,1.0,1.0,1.0,1.0,1.0,1.0,1.0,1.0,1.0,1.0,1.0,1.0,1.0,1.0,1.0,1.0,1.0,1.0,1.0,1.0,1.0,1.0,1.0,1.0,1.0,1.0,1.0,1.0,1.0,1.0,1.0,1.0,1.0,1.0,1.0,1.0,1.0,1.0,1.0,1.0])                                                                                                                                                                                                                                       |\n",
      "|[Yonatan, Giraldo, predio, solo, no, hay, suministre, información, medidor, bien, instalado, cúpula, impactada, medidor, marca, wáter, de, 1/2, serie, 2015450174, lectura, ilegible, se, envía, medidor, para, el, laboratorio, en, bolsa, de, seguridad, BM, -17, 00236, precinto, CB, 17-00366, se, normaliza, instalacion, mediante, cambio, de, medidor, provisional, se, dejan, llaves, y, racores, sin, fugas, fecha, laboratorio, 01-09-2021, predio, residencial, Usuario:, EPM\\YONATAN.GIRALDO, Fecha:, 2021-08-19, 13:22:16]                                                                                                                                                                                                       |[Yonatan Giraldo, Giraldo predio, predio solo, solo no, no hay, hay suministre, suministre información, información medidor, medidor bien, bien instalado, instalado cúpula, cúpula impactada, impactada medidor, medidor marca, marca wáter, wáter de, de 1/2, 1/2 serie, serie 2015450174, 2015450174 lectura, lectura ilegible, ilegible se, se envía, envía medidor, medidor para, para el, el laboratorio, laboratorio en, en bolsa, bolsa de, de seguridad, seguridad BM, BM -17, -17 00236, 00236 precinto, precinto CB, CB 17-00366, 17-00366 se, se normaliza, normaliza instalacion, instalacion mediante, mediante cambio, cambio de, de medidor, medidor provisional, provisional se, se dejan, dejan llaves, llaves y, y racores, racores sin, sin fugas, fugas fecha, fecha laboratorio, laboratorio 01-09-2021, 01-09-2021 predio, predio residencial, residencial Usuario:, Usuario: EPM\\YONATAN.GIRALDO, EPM\\YONATAN.GIRALDO Fecha:, Fecha: 2021-08-19, 2021-08-19 13:22:16]                                                                                                                                                                                                                                                                                                                                                                                 |(39017,[1,2,9,15,16,62,66,74,75,76,80,90,91,94,101,135,143,147,153,163,164,166,171,172,174,176,184,192,197,203,208,212,213,247,249,261,266,271,272,308,328,330,374,402,426,510,698,817,907,1661,2125,2758,2841,4156,5588,11959,16604,18158,19084,25211,29892,30080],[1.0,1.0,1.0,1.0,1.0,1.0,1.0,1.0,1.0,1.0,1.0,1.0,1.0,1.0,1.0,1.0,1.0,1.0,1.0,1.0,1.0,1.0,1.0,1.0,1.0,1.0,1.0,1.0,1.0,1.0,1.0,1.0,1.0,1.0,1.0,1.0,1.0,1.0,1.0,1.0,1.0,1.0,1.0,1.0,1.0,1.0,1.0,1.0,1.0,1.0,1.0,1.0,1.0,1.0,1.0,1.0,1.0,1.0,1.0,1.0,1.0,1.0])                                                                                                                                                                                                                     |\n",
      "|[SEBASTIAN, BUILES, FECHA, VISITA, :24/07/2021, :1927, NO, PERMITEN, REALIZAR, REVISION, YA, NO, HAY, PERSONAL, DE, MANTENIMIENTO, DISPONIBLE, PARA, ACOMPAÑAMIENTO, SIN, REGISTROS, MEDIDOR, SIN, DATOS,, SE, ESPERO, DISPONIBILIDAD, DE, PERSONAL, DE, MANTENIMIENTO, DURANTE, 30, MINUTOS, SIN, OBTENER, RESPUESTA, ,, NO, RESIDENCIAL,, CENTRO, COMERCIAL, SANTA, FE, Usuario:, EPM\\aalvaalv, Fecha:, 2021-07-27, 15:31:52]                                                                                                                                                                                                                                                                                                               |[SEBASTIAN BUILES, BUILES FECHA, FECHA VISITA, VISITA :24/07/2021, :24/07/2021 :1927, :1927 NO, NO PERMITEN, PERMITEN REALIZAR, REALIZAR REVISION, REVISION YA, YA NO, NO HAY, HAY PERSONAL, PERSONAL DE, DE MANTENIMIENTO, MANTENIMIENTO DISPONIBLE, DISPONIBLE PARA, PARA ACOMPAÑAMIENTO, ACOMPAÑAMIENTO SIN, SIN REGISTROS, REGISTROS MEDIDOR, MEDIDOR SIN, SIN DATOS,, DATOS, SE, SE ESPERO, ESPERO DISPONIBILIDAD, DISPONIBILIDAD DE, DE PERSONAL, PERSONAL DE, DE MANTENIMIENTO, MANTENIMIENTO DURANTE, DURANTE 30, 30 MINUTOS, MINUTOS SIN, SIN OBTENER, OBTENER RESPUESTA, RESPUESTA ,, , NO, NO RESIDENCIAL,, RESIDENCIAL, CENTRO, CENTRO COMERCIAL, COMERCIAL SANTA, SANTA FE, FE Usuario:, Usuario: EPM\\aalvaalv, EPM\\aalvaalv Fecha:, Fecha: 2021-07-27, 2021-07-27 15:31:52]                                                                                                                                                                                                                                                                                                                                                                                                                                                                                                                                                                                     |(39017,[10,11,55,86,142,301,643,843,959,1051,1156,1953,2006,2090,2106,2269,2433,4725,5036,6310,6900,9027,10171,11437,11747,11979,12044,13113,13972,15452,16835,17326,19924,22444,22681,25036,25091,25228,26056,26183,26657,31553,32668,33744,34402,35318],[1.0,1.0,1.0,1.0,1.0,1.0,1.0,1.0,1.0,2.0,1.0,1.0,1.0,1.0,1.0,2.0,1.0,1.0,1.0,1.0,1.0,1.0,1.0,1.0,1.0,1.0,1.0,1.0,1.0,1.0,1.0,1.0,1.0,1.0,1.0,1.0,1.0,1.0,1.0,1.0,1.0,1.0,1.0,1.0,1.0,1.0])                                                                                                                                                                                                                                                                                               |\n",
      "|[clase, de, uso, no, residencial, actividad, económica, gimnasio, razón, social, sin, nombre, medidor, d, 1½, serie, #5238850027, lectura#, 16213, bien, instalado, registrando, prueba, de, llave, usuario, manifiesta, la, caída, de, consumo, se, debe, a, a, bajado, el, trabajar, la, pandemia, Usuario:, EPM\\JORGE.GRUESO, Fecha:, 2021-08-31, 11:32:53]                                                                                                                                                                                                                                                                                                                                                                                |[clase de, de uso, uso no, no residencial, residencial actividad, actividad económica, económica gimnasio, gimnasio razón, razón social, social sin, sin nombre, nombre medidor, medidor d, d 1½, 1½ serie, serie #5238850027, #5238850027 lectura#, lectura# 16213, 16213 bien, bien instalado, instalado registrando, registrando prueba, prueba de, de llave, llave usuario, usuario manifiesta, manifiesta la, la caída, caída de, de consumo, consumo se, se debe, debe a, a a, a bajado, bajado el, el trabajar, trabajar la, la pandemia, pandemia Usuario:, Usuario: EPM\\JORGE.GRUESO, EPM\\JORGE.GRUESO Fecha:, Fecha: 2021-08-31, 2021-08-31 11:32:53]                                                                                                                                                                                                                                                                                                                                                                                                                                                                                                                                                                                                                                                                                                               |(39017,[0,2,6,8,14,18,35,50,52,53,56,68,98,114,121,128,136,140,144,151,170,215,222,223,239,250,263,1112,1362,1796,2003,2376,3620,4039,5587,6149,6733,8401,8409,16597,20483,29210,34008,36691],[1.0,1.0,1.0,1.0,1.0,1.0,1.0,1.0,1.0,1.0,1.0,1.0,1.0,1.0,1.0,1.0,1.0,1.0,1.0,1.0,1.0,1.0,1.0,1.0,1.0,1.0,1.0,1.0,1.0,1.0,1.0,1.0,1.0,1.0,1.0,1.0,1.0,1.0,1.0,1.0,1.0,1.0,1.0,1.0])                                                                                                                                                                                                                                                                                                                                                                   |\n",
      "|[FECHA, VISITA, :, 10/08/2021, :, 1899, SERIE, MED, :, 2016642258, MARCA:, LECTURA, :, 1596, DIAMETRO, :, 1/2, MEDIDOR, BIEN, INSTALADO, REGISTRANDO, EN, PRUEBA, DE, LLAVES, EMPOTRADO, USUARIO, MANIFIESTA, LA, CAIDA, DE, CONSUMO, SE, DEBE, A, ESTABAN, DESPERDICIANDO, MUCHA, AGUA, YA, ESTAN, CONTROLANDO, NO, SE, OBSERVA, ANOMALIAS, EN, EL, MEDIDOR, Y, ACOMETIDA, ,, CANT, PUNTOS, CONSUMOS, CANT, UNI, NO, HABITACIONALES, NO, RESIDENCIAL, ,, EL, SAZON, GORDO, Usuario:, EPM\\aalvaalv, Fecha:, 2021-08-12, 07:54:22]                                                                                                                                                                                                             |[FECHA VISITA, VISITA :, : 10/08/2021, 10/08/2021 :, : 1899, 1899 SERIE, SERIE MED, MED :, : 2016642258, 2016642258 MARCA:, MARCA: LECTURA, LECTURA :, : 1596, 1596 DIAMETRO, DIAMETRO :, : 1/2, 1/2 MEDIDOR, MEDIDOR BIEN, BIEN INSTALADO, INSTALADO REGISTRANDO, REGISTRANDO EN, EN PRUEBA, PRUEBA DE, DE LLAVES, LLAVES EMPOTRADO, EMPOTRADO USUARIO, USUARIO MANIFIESTA, MANIFIESTA LA, LA CAIDA, CAIDA DE, DE CONSUMO, CONSUMO SE, SE DEBE, DEBE A, A ESTABAN, ESTABAN DESPERDICIANDO, DESPERDICIANDO MUCHA, MUCHA AGUA, AGUA YA, YA ESTAN, ESTAN CONTROLANDO, CONTROLANDO NO, NO SE, SE OBSERVA, OBSERVA ANOMALIAS, ANOMALIAS EN, EN EL, EL MEDIDOR, MEDIDOR Y, Y ACOMETIDA, ACOMETIDA ,, , CANT, CANT PUNTOS, PUNTOS CONSUMOS, CONSUMOS CANT, CANT UNI, UNI NO, NO HABITACIONALES, HABITACIONALES NO, NO RESIDENCIAL, RESIDENCIAL ,, , EL, EL SAZON, SAZON GORDO, GORDO Usuario:, Usuario: EPM\\aalvaalv, EPM\\aalvaalv Fecha:, Fecha: 2021-08-12, 2021-08-12 07:54:22]                                                                                                                                                                                                                                                                                                                                                                                                  |(39017,[10,11,13,22,23,24,25,26,43,48,54,72,82,85,86,87,96,104,108,111,116,157,168,169,175,220,228,279,280,281,304,320,355,356,364,375,407,411,442,455,464,479,590,593,765,836,887,940,1088,1916,3973,4011,4777,7781,9810,11637,11770,12099,13128,14014,15119,16913,17609,18080,20614,21267,26256,27443,35807],[1.0,1.0,1.0,1.0,1.0,1.0,1.0,1.0,1.0,1.0,1.0,1.0,1.0,1.0,1.0,1.0,1.0,1.0,1.0,1.0,1.0,1.0,1.0,1.0,1.0,1.0,1.0,1.0,1.0,1.0,1.0,1.0,1.0,1.0,1.0,1.0,1.0,1.0,1.0,1.0,1.0,1.0,1.0,1.0,1.0,1.0,1.0,1.0,1.0,1.0,1.0,1.0,1.0,1.0,1.0,1.0,1.0,1.0,1.0,1.0,1.0,1.0,1.0,1.0,1.0,1.0,1.0,1.0,1.0])                                                                                                                                              |\n",
      "|[Medidor, 1/2, serie#2020546686, y, lectura#00066, en, posición, correcta, se, encuentra, empotrados, predio, no, residenciales, es, un, Medidor, sin, signos, de, manipulacion, externas, Usuario:, EPM\\CARLOS.JARAMILLO, Fecha:, 2021-07-19, 16:18:07]                                                                                                                                                                                                                                                                                                                                                                                                                                                                                      |[Medidor 1/2, 1/2 serie#2020546686, serie#2020546686 y, y lectura#00066, lectura#00066 en, en posición, posición correcta, correcta se, se encuentra, encuentra empotrados, empotrados predio, predio no, no residenciales, residenciales es, es un, un Medidor, Medidor sin, sin signos, signos de, de manipulacion, manipulacion externas, externas Usuario:, Usuario: EPM\\CARLOS.JARAMILLO, EPM\\CARLOS.JARAMILLO Fecha:, Fecha: 2021-07-19, 2021-07-19 16:18:07]                                                                                                                                                                                                                                                                                                                                                                                                                                                                                                                                                                                                                                                                                                                                                                                                                                                                                                           |(39017,[19,20,28,30,32,33,38,44,59,149,758,1108,1495,1850,1947,2823,3500,5754,6160,6679,13850,23337,26713,28984,37320,38800],[1.0,1.0,1.0,1.0,1.0,1.0,1.0,1.0,1.0,1.0,1.0,1.0,1.0,1.0,1.0,1.0,1.0,1.0,1.0,1.0,1.0,1.0,1.0,1.0,1.0,1.0])                                                                                                                                                                                                                                                                                                                                                                                                                                                                                                            |\n",
      "|[\"Se, visita, dirección, en, instalacion, no, residencial, actividad, económica, parqueadero, metro, medidor, empotrado, marca, de, 1\"\"serie, 166000553, y, lectura, 00701M3, se, encuentra, bien, instalado, registra, en, prueba, de, llaves, usuario, informa, dicho, medidor, surte, baños, ya, actividad, económica, no, depende, Servio, de, acueducto, motivo, bajos, consumos, no, se, observa, anomalía, no, suministran, datos, Usuario:, EPM\\SEBASTIAN.BUILES, Fecha:, 2021-07-16, 15:44:06\"]                                                                                                                                                                                                                                      |[\"Se visita, visita dirección, dirección en, en instalacion, instalacion no, no residencial, residencial actividad, actividad económica, económica parqueadero, parqueadero metro, metro medidor, medidor empotrado, empotrado marca, marca de, de 1\"\"serie, 1\"\"serie 166000553, 166000553 y, y lectura, lectura 00701M3, 00701M3 se, se encuentra, encuentra bien, bien instalado, instalado registra, registra en, en prueba, prueba de, de llaves, llaves usuario, usuario informa, informa dicho, dicho medidor, medidor surte, surte baños, baños ya, ya actividad, actividad económica, económica no, no depende, depende Servio, Servio de, de acueducto, acueducto motivo, motivo bajos, bajos consumos, consumos no, no se, se observa, observa anomalía, anomalía no, no suministran, suministran datos, datos Usuario:, Usuario: EPM\\SEBASTIAN.BUILES, EPM\\SEBASTIAN.BUILES Fecha:, Fecha: 2021-07-16, 2021-07-16 15:44:06\"]                                                                                                                                                                                                                                                                                                                                                                                                                                       |(39017,[0,2,3,4,5,6,7,8,14,17,27,29,40,41,42,46,47,59,100,125,156,160,190,207,318,433,441,489,515,525,534,539,560,619,722,728,742,823,1147,1181,1600,2353,2476,2555,2608,2699,3937,6943,9471,9596,31124,31187,31728,36531,37222,38580],[1.0,1.0,1.0,1.0,1.0,1.0,1.0,1.0,2.0,1.0,1.0,1.0,1.0,1.0,1.0,1.0,1.0,1.0,1.0,1.0,1.0,1.0,1.0,1.0,1.0,1.0,1.0,1.0,1.0,1.0,1.0,1.0,1.0,1.0,1.0,1.0,1.0,1.0,1.0,1.0,1.0,1.0,1.0,1.0,1.0,1.0,1.0,1.0,1.0,1.0,1.0,1.0,1.0,1.0,1.0,1.0])                                                                                                                                                                                                                                                                          |\n",
      "|[Jaramillo, Medidor, de, 1/2, Serie, #2017795598, y, lectura#01583, en, posición, correcta, registra, en, pruebas, de, llaves, predió, no, residencial, actividad, económica, es, una, empresa, de, estampados, razón, social, bohe's, no, atienden, visita, Usuario:, EPM\\CARLOS.JARAMILLO, Fecha:, 2021-08-05, 12:56:01]                                                                                                                                                                                                                                                                                                                                                                                                                    |[Jaramillo Medidor, Medidor de, de 1/2, 1/2 Serie, Serie #2017795598, #2017795598 y, y lectura#01583, lectura#01583 en, en posición, posición correcta, correcta registra, registra en, en pruebas, pruebas de, de llaves, llaves predió, predió no, no residencial, residencial actividad, actividad económica, económica es, es una, una empresa, empresa de, de estampados, estampados razón, razón social, social bohe's, bohe's no, no atienden, atienden visita, visita Usuario:, Usuario: EPM\\CARLOS.JARAMILLO, EPM\\CARLOS.JARAMILLO Fecha:, Fecha: 2021-08-05, 2021-08-05 12:56:01]                                                                                                                                                                                                                                                                                                                                                                                                                                                                                                                                                                                                                                                                                                                                                                                   |(39017,[1,4,6,8,14,17,19,20,28,37,38,50,106,167,179,183,312,327,368,645,861,945,980,1235,2400,2806,12728,17606,17838,18377,18988,19129,24562,30820,31286,34399],[1.0,1.0,1.0,1.0,1.0,1.0,1.0,1.0,1.0,1.0,1.0,1.0,1.0,1.0,1.0,1.0,1.0,1.0,1.0,1.0,1.0,1.0,1.0,1.0,1.0,1.0,1.0,1.0,1.0,1.0,1.0,1.0,1.0,1.0,1.0,1.0])                                                                                                                                                                                                                                                                                                                                                                                                                                 |\n",
      "|[SEBASTIAN, BUILES, Se, visita, dirección, en, instalacion, no, residencial, actividad, económica, restaurante, nombre, bj, medidor, marca, de, 1/2, serie, 2017865299, y, lectura, 00538, M3, medidor, bien, instalad, registra, en, prueba, de, llaves, consumos, avanzado, normalidad, usuario, informa, la, variación, y, bajos, consumos, es, debido, a, la, variación, ahí, en, el, flujo, de, personas, ya, no, son, la, misma, cantidad, de, personas, todos, días, no, se, observa, ninguna, anomalía, Usuario:, EPM\\SEBASTIAN.BUILES, Fecha:, 2021-08-05, 14:39:30]                                                                                                                                                                 |[SEBASTIAN BUILES, BUILES Se, Se visita, visita dirección, dirección en, en instalacion, instalacion no, no residencial, residencial actividad, actividad económica, económica restaurante, restaurante nombre, nombre bj, bj medidor, medidor marca, marca de, de 1/2, 1/2 serie, serie 2017865299, 2017865299 y, y lectura, lectura 00538, 00538 M3, M3 medidor, medidor bien, bien instalad, instalad registra, registra en, en prueba, prueba de, de llaves, llaves consumos, consumos avanzado, avanzado normalidad, normalidad usuario, usuario informa, informa la, la variación, variación y, y bajos, bajos consumos, consumos es, es debido, debido a, a la, la variación, variación ahí, ahí en, en el, el flujo, flujo de, de personas, personas ya, ya no, no son, son la, la misma, misma cantidad, cantidad de, de personas, personas todos, todos días, días no, no se, se observa, observa ninguna, ninguna anomalía, anomalía Usuario:, Usuario: EPM\\SEBASTIAN.BUILES, EPM\\SEBASTIAN.BUILES Fecha:, Fecha: 2021-08-05, 2021-08-05 14:39:30]                                                                                                                                                                                                                                                                                                                 |(39017,[0,1,3,4,5,6,7,8,9,14,15,16,17,27,29,39,40,41,42,46,47,55,100,115,127,159,190,254,257,299,318,327,349,389,392,396,439,490,587,600,768,784,802,819,986,1208,1515,1638,1902,1917,2198,4206,4292,4610,5368,6427,8980,9612,13807,14778,15308,17156,19443,20991,25682,29426,29581,34820,37365,38246],[1.0,1.0,1.0,1.0,1.0,1.0,1.0,1.0,1.0,1.0,1.0,1.0,1.0,1.0,1.0,1.0,1.0,1.0,1.0,1.0,1.0,1.0,1.0,1.0,1.0,1.0,1.0,1.0,1.0,1.0,1.0,1.0,1.0,1.0,1.0,1.0,2.0,1.0,1.0,1.0,1.0,1.0,1.0,1.0,1.0,1.0,1.0,2.0,1.0,1.0,1.0,1.0,1.0,1.0,1.0,1.0,1.0,1.0,1.0,1.0,1.0,1.0,1.0,1.0,1.0,1.0,1.0,1.0,1.0,1.0])                                                                                                                                                  |\n",
      "|[Jaramillo..., medidor, serie#2014293638, y, lectura#00451, en, posición, correcta, sin, signos, de, manipulacion, externa, predio, no, residencial, actividad, económica, es, una, droguería, razón, social, farmacia, Pasteur, se, hizo, acompañamiento, de, personal, de, mantenimiento, sin, fotos, de, fachada, en, local, no, permitieron, Usuario:, EPM\\CARLOS.JARAMILLO, Fecha:, 2021-09-06, 15:26:36]                                                                                                                                                                                                                                                                                                                                |[Jaramillo... medidor, medidor serie#2014293638, serie#2014293638 y, y lectura#00451, lectura#00451 en, en posición, posición correcta, correcta sin, sin signos, signos de, de manipulacion, manipulacion externa, externa predio, predio no, no residencial, residencial actividad, actividad económica, económica es, es una, una droguería, droguería razón, razón social, social farmacia, farmacia Pasteur, Pasteur se, se hizo, hizo acompañamiento, acompañamiento de, de personal, personal de, de mantenimiento, mantenimiento sin, sin fotos, fotos de, de fachada, fachada en, en local, local no, no permitieron, permitieron Usuario:, Usuario: EPM\\CARLOS.JARAMILLO, EPM\\CARLOS.JARAMILLO Fecha:, Fecha: 2021-09-06, 2021-09-06 15:26:36]                                                                                                                                                                                                                                                                                                                                                                                                                                                                                                                                                                                                                      |(39017,[6,8,14,19,20,28,30,32,33,36,38,44,50,64,106,123,131,183,300,340,459,542,847,852,946,1448,2739,2744,3157,3661,3926,6762,10809,12811,15948,16829,19711,20754,23323,26973,28795,34609,36480,38888],[1.0,1.0,1.0,1.0,1.0,1.0,1.0,1.0,1.0,1.0,1.0,1.0,1.0,1.0,1.0,1.0,1.0,1.0,1.0,1.0,1.0,1.0,1.0,1.0,1.0,1.0,1.0,1.0,1.0,1.0,1.0,1.0,1.0,1.0,1.0,1.0,1.0,1.0,1.0,1.0,1.0,1.0,1.0,1.0])                                                                                                                                                                                                                                                                                                                                                         |\n",
      "|[BALBUENA, FECHA, VISITA:, 06/08/2021, :2629, SERIE, MED, :2017801392, MARCA:, LECTURA, :1587, DIAMETRO, :, 1/2, MEDIDOR, EN, BUEN, ESTADO, BIEN, INSTALADO, REGISTRANDO, EN, PRUEBA, DE, LLAVES, SIN, ANOMALIAS, USUARIO, ARGUMENTA, CUANDO, DISMINUYO, CONSUMO, FUE, PANDEMIA, YA, QE, HAY, UN, LOCAL, ES, RESTAURANTE, Y, ES, EL, MISMO, SUMINISTRO, DE, FLUJO, Y, ESTE, FUE, CERRADO, ,, NO, RESIDENCIAL, ,, PARQUEADERO, MOTO, PARK, Usuario:, EPM\\aalvaalv, Fecha:, 2021-08-09, 09:18:04]                                                                                                                                                                                                                                               |[BALBUENA FECHA, FECHA VISITA:, VISITA: 06/08/2021, 06/08/2021 :2629, :2629 SERIE, SERIE MED, MED :2017801392, :2017801392 MARCA:, MARCA: LECTURA, LECTURA :1587, :1587 DIAMETRO, DIAMETRO :, : 1/2, 1/2 MEDIDOR, MEDIDOR EN, EN BUEN, BUEN ESTADO, ESTADO BIEN, BIEN INSTALADO, INSTALADO REGISTRANDO, REGISTRANDO EN, EN PRUEBA, PRUEBA DE, DE LLAVES, LLAVES SIN, SIN ANOMALIAS, ANOMALIAS USUARIO, USUARIO ARGUMENTA, ARGUMENTA CUANDO, CUANDO DISMINUYO, DISMINUYO CONSUMO, CONSUMO FUE, FUE PANDEMIA, PANDEMIA YA, YA QE, QE HAY, HAY UN, UN LOCAL, LOCAL ES, ES RESTAURANTE, RESTAURANTE Y, Y ES, ES EL, EL MISMO, MISMO SUMINISTRO, SUMINISTRO DE, DE FLUJO, FLUJO Y, Y ESTE, ESTE FUE, FUE CERRADO, CERRADO ,, , NO, NO RESIDENCIAL, RESIDENCIAL ,, , PARQUEADERO, PARQUEADERO MOTO, MOTO PARK, PARK Usuario:, Usuario: EPM\\aalvaalv, EPM\\aalvaalv Fecha:, Fecha: 2021-08-09, 2021-08-09 09:18:04]                                                                                                                                                                                                                                                                                                                                                                                                                                                                   |(39017,[10,11,13,22,23,24,25,26,43,45,54,72,77,78,82,85,88,96,117,142,157,181,240,292,818,1052,1097,1626,1926,2224,2340,2900,3332,4663,4681,5163,5285,8226,9412,11476,12188,12444,12895,16100,17725,18922,19408,20141,21239,23014,23523,23871,24142,24269,24867,26275,27460,28209,32101,32380,35777,38086,38369],[1.0,1.0,1.0,1.0,1.0,1.0,1.0,1.0,1.0,1.0,1.0,1.0,1.0,1.0,1.0,1.0,1.0,1.0,1.0,1.0,1.0,1.0,1.0,1.0,1.0,1.0,1.0,1.0,1.0,1.0,1.0,1.0,1.0,1.0,1.0,1.0,1.0,1.0,1.0,1.0,1.0,1.0,1.0,1.0,1.0,1.0,1.0,1.0,1.0,1.0,1.0,1.0,1.0,1.0,1.0,1.0,1.0,1.0,1.0,1.0,1.0,1.0,1.0])                                                                                                                                                                    |\n",
      "|[Jaramillo..., Medidor, de, 1/2, serie#, 2013088902, y, lectura#00662, y, n, posición, correcta, sin, signos, de, manipulacion, externa, registra, en, prueba, de, Racor, predio, solo, no, residencial, actividad, económica, es, confecciones, sin, nombre, de, razón, social, vecinos, Argumenta, solo, trabajan, personas, en, local, actualizar, serie, en, Sistema, Usuario:, EPM\\CARLOS.JARAMILLO, Fecha:, 2021-08-19, 07:54:09]                                                                                                                                                                                                                                                                                                       |[Jaramillo... Medidor, Medidor de, de 1/2, 1/2 serie#, serie# 2013088902, 2013088902 y, y lectura#00662, lectura#00662 y, y n, n posición, posición correcta, correcta sin, sin signos, signos de, de manipulacion, manipulacion externa, externa registra, registra en, en prueba, prueba de, de Racor, Racor predio, predio solo, solo no, no residencial, residencial actividad, actividad económica, económica es, es confecciones, confecciones sin, sin nombre, nombre de, de razón, razón social, social vecinos, vecinos Argumenta, Argumenta solo, solo trabajan, trabajan personas, personas en, en local, local actualizar, actualizar serie, serie en, en Sistema, Sistema Usuario:, Usuario: EPM\\CARLOS.JARAMILLO, EPM\\CARLOS.JARAMILLO Fecha:, Fecha: 2021-08-19, 2021-08-19 07:54:09]                                                                                                                                                                                                                                                                                                                                                                                                                                                                                                                                                                          |(39017,[0,1,3,6,8,14,17,19,20,30,32,33,36,37,38,50,64,66,106,119,140,147,180,218,219,244,450,510,581,1131,1149,1188,1336,1949,1999,2588,2809,2895,3115,3157,5947,6346,8350,10509,12224,18464,22080,28082,30236,36141],[1.0,1.0,1.0,1.0,1.0,1.0,1.0,1.0,1.0,1.0,1.0,1.0,1.0,1.0,1.0,1.0,1.0,1.0,1.0,1.0,1.0,1.0,1.0,1.0,1.0,1.0,1.0,1.0,1.0,1.0,1.0,1.0,1.0,1.0,1.0,1.0,1.0,1.0,1.0,1.0,1.0,1.0,1.0,1.0,1.0,1.0,1.0,1.0,1.0,1.0])                                                                                                                                                                                                                                                                                                                   |\n",
      "|[Yonatan, Giraldo, medidor, bien, instalado, en, buen, estado, no, registra, en, prueba, de, llaves, medidor, encontrado, en, terreno, no, coincide, el, listado, de, actualizar, serie, en, Medidor, marca, wáter, de, 1/2, serie, 2014315696, lectura, 01155, se, envía, medidor, para, el, laboratorio, en, bolsa, de, seguridad, BM, 17-00162, precinto, CB, 17-00069, se, normaliza, instalacion, mediante, cambio, de, medidor, provisional, marca, wáter, de, 1/2, serie, 2020554313, lectura, 00000, se, instala, sello, de, AA2037812, se, dejan, llaves, y, racores, sin, fugas, predio, residencial, (villa, santa, Teresa), fecha, revision, laboratorio, 15-09-2021, Usuario:, EPM\\YONATAN.GIRALDO, Fecha:, 2021-08-31, 08:48:51]|[Yonatan Giraldo, Giraldo medidor, medidor bien, bien instalado, instalado en, en buen, buen estado, estado no, no registra, registra en, en prueba, prueba de, de llaves, llaves medidor, medidor encontrado, encontrado en, en terreno, terreno no, no coincide, coincide el, el listado, listado de, de actualizar, actualizar serie, serie en, en Medidor, Medidor marca, marca wáter, wáter de, de 1/2, 1/2 serie, serie 2014315696, 2014315696 lectura, lectura 01155, 01155 se, se envía, envía medidor, medidor para, para el, el laboratorio, laboratorio en, en bolsa, bolsa de, de seguridad, seguridad BM, BM 17-00162, 17-00162 precinto, precinto CB, CB 17-00069, 17-00069 se, se normaliza, normaliza instalacion, instalacion mediante, mediante cambio, cambio de, de medidor, medidor provisional, provisional marca, marca wáter, wáter de, de 1/2, 1/2 serie, serie 2020554313, 2020554313 lectura, lectura 00000, 00000 se, se instala, instala sello, sello de, de AA2037812, AA2037812 se, se dejan, dejan llaves, llaves y, y racores, racores sin, sin fugas, fugas predio, predio residencial, residencial (villa, (villa santa, santa Teresa), Teresa) fecha, fecha revision, revision laboratorio, laboratorio 15-09-2021, 15-09-2021 Usuario:, Usuario: EPM\\YONATAN.GIRALDO, EPM\\YONATAN.GIRALDO Fecha:, Fecha: 2021-08-31, 2021-08-31 08:48:51]|(39017,[0,1,2,3,4,9,16,17,31,34,49,62,63,74,75,76,80,90,91,94,99,113,134,135,143,153,161,163,164,171,172,186,192,197,203,210,212,213,215,238,249,261,264,266,271,272,288,294,308,328,330,374,402,409,450,507,574,581,666,996,1002,1019,1043,1087,1176,1272,1347,1894,2262,7401,8559,10052,10830,14398,14436,14655,17169,19648,19734,20861,22774,28888,29434,29580,31422,32228,38665],[1.0,2.0,1.0,1.0,1.0,2.0,1.0,1.0,1.0,1.0,1.0,2.0,1.0,2.0,1.0,1.0,1.0,1.0,1.0,1.0,1.0,1.0,1.0,1.0,1.0,1.0,1.0,1.0,1.0,1.0,1.0,1.0,1.0,1.0,1.0,1.0,1.0,1.0,1.0,1.0,1.0,1.0,1.0,1.0,1.0,1.0,1.0,1.0,1.0,1.0,1.0,1.0,1.0,1.0,1.0,1.0,1.0,1.0,1.0,1.0,1.0,1.0,1.0,1.0,1.0,1.0,1.0,1.0,1.0,1.0,1.0,1.0,1.0,1.0,1.0,1.0,1.0,1.0,1.0,1.0,1.0,1.0,1.0,1.0,1.0,1.0,1.0])|\n",
      "|[Medidor, en, caja, tiene, un, serie#2014253260, y, lectura#03558, usuario, indica, se, encuentra, perjudicado, ya, lectores, no, leen, medidor, no, saca, basura, mantiene, caja, predio, es, una, bodega, Usuario:, CARLOS.JARAMILLO, Fecha:, 2021-06-15, 10:34:52]                                                                                                                                                                                                                                                                                                                                                                                                                                                                         |[Medidor en, en caja, caja tiene, tiene un, un serie#2014253260, serie#2014253260 y, y lectura#03558, lectura#03558 usuario, usuario indica, indica se, se encuentra, encuentra perjudicado, perjudicado ya, ya lectores, lectores no, no leen, leen medidor, medidor no, no saca, saca basura, basura mantiene, mantiene caja, caja predio, predio es, es una, una bodega, bodega Usuario:, Usuario: CARLOS.JARAMILLO, CARLOS.JARAMILLO Fecha:, Fecha: 2021-06-15, 2021-06-15 10:34:52]                                                                                                                                                                                                                                                                                                                                                                                                                                                                                                                                                                                                                                                                                                                                                                                                                                                                                      |(39017,[59,183,199,200,251,353,478,685,747,791,1428,1658,3275,4648,6348,7698,10113,10342,13006,16008,16322,21327,21523,22400,22762,23814,29971,31397,33978,35103,38270],[1.0,1.0,1.0,1.0,1.0,1.0,1.0,1.0,1.0,1.0,1.0,1.0,1.0,1.0,1.0,1.0,1.0,1.0,1.0,1.0,1.0,1.0,1.0,1.0,1.0,1.0,1.0,1.0,1.0,1.0,1.0])                                                                                                                                                                                                                                                                                                                                                                                                                                             |\n",
      "|[SEBASTIAN, BUILES, Se, visita, dirección, en, instalacion, no, residencial, actividad, económica, pasaje, comercial, nombre, Tequendama, medidor, marca, de, 1/2, serie, 2016627434, y, lectura, 02299, M3, medidor, bien, instalado, registra, en, prueba, de, llaves, consumos, avanzado, normalidad, y, son, acorde, a, meses, anteriores, se, observan, pocos, locales, usuario, informa, sus, consumos, son, solo, uso, sanitario, ya, actividad, económica, no, depende, de, este, servicio, motivo, bajo, consumo, sin, anomalías, no, suministran, datos, Usuario:, EPM\\SEBASTIAN.BUILES, Fecha:, 2021-08-05, 14:09:00]                                                                                                              |[SEBASTIAN BUILES, BUILES Se, Se visita, visita dirección, dirección en, en instalacion, instalacion no, no residencial, residencial actividad, actividad económica, económica pasaje, pasaje comercial, comercial nombre, nombre Tequendama, Tequendama medidor, medidor marca, marca de, de 1/2, 1/2 serie, serie 2016627434, 2016627434 y, y lectura, lectura 02299, 02299 M3, M3 medidor, medidor bien, bien instalado, instalado registra, registra en, en prueba, prueba de, de llaves, llaves consumos, consumos avanzado, avanzado normalidad, normalidad y, y son, son acorde, acorde a, a meses, meses anteriores, anteriores se, se observan, observan pocos, pocos locales, locales usuario, usuario informa, informa sus, sus consumos, consumos son, son solo, solo uso, uso sanitario, sanitario ya, ya actividad, actividad económica, económica no, no depende, depende de, de este, este servicio, servicio motivo, motivo bajo, bajo consumo, consumo sin, sin anomalías, anomalías no, no suministran, suministran datos, datos Usuario:, Usuario: EPM\\SEBASTIAN.BUILES, EPM\\SEBASTIAN.BUILES Fecha:, Fecha: 2021-08-05, 2021-08-05 14:09:00]                                                                                                                                                                                                             |(39017,[0,1,2,3,4,6,8,9,14,15,16,17,27,29,40,41,42,46,47,55,100,115,125,127,156,159,160,185,190,207,248,299,319,327,329,363,366,389,392,441,445,498,504,513,519,525,528,532,535,617,629,704,830,981,1137,1164,1181,1264,1552,1703,2487,2747,7611,8671,19589,21408,21706,27047,27334,31180,31875,34446,35560],[1.0,1.0,1.0,1.0,1.0,1.0,1.0,1.0,2.0,1.0,1.0,1.0,1.0,1.0,1.0,1.0,1.0,1.0,1.0,1.0,1.0,1.0,1.0,1.0,1.0,1.0,1.0,1.0,1.0,1.0,1.0,1.0,1.0,1.0,1.0,1.0,1.0,1.0,1.0,1.0,1.0,1.0,1.0,1.0,1.0,1.0,1.0,1.0,1.0,1.0,1.0,1.0,1.0,1.0,1.0,1.0,1.0,1.0,1.0,1.0,1.0,1.0,1.0,1.0,1.0,1.0,1.0,1.0,1.0,1.0,1.0,1.0,1.0])                                                                                                                                |\n",
      "|[SEBASTIAN, BUILES, Se, visita, dirección, en, instalacion, no, residencial, actividad, económica, panaderia, nombre, boga, medidor, marca, de, 1/2, serie, 2018921427, y, lectura, 00432, M3, medidor, bien, instalado, empotrado, registra, en, prueba, de, llaves, consumos, avanzado, normalidad, y, son, acorde, a, meses, anteriores, usuario, informa, variación, y, bajo, consumo, es, debido, a, la, variación, de, en, el, flujo, de, personas, no, se, observa, ninguna, anomalía, Usuario:, EPM\\SEBASTIAN.BUILES, Fecha:, 2021-08-05, 10:31:14]                                                                                                                                                                                   |[SEBASTIAN BUILES, BUILES Se, Se visita, visita dirección, dirección en, en instalacion, instalacion no, no residencial, residencial actividad, actividad económica, económica panaderia, panaderia nombre, nombre boga, boga medidor, medidor marca, marca de, de 1/2, 1/2 serie, serie 2018921427, 2018921427 y, y lectura, lectura 00432, 00432 M3, M3 medidor, medidor bien, bien instalado, instalado empotrado, empotrado registra, registra en, en prueba, prueba de, de llaves, llaves consumos, consumos avanzado, avanzado normalidad, normalidad y, y son, son acorde, acorde a, a meses, meses anteriores, anteriores usuario, usuario informa, informa variación, variación y, y bajo, bajo consumo, consumo es, es debido, debido a, a la, la variación, variación de, de en, en el, el flujo, flujo de, de personas, personas no, no se, se observa, observa ninguna, ninguna anomalía, anomalía Usuario:, Usuario: EPM\\SEBASTIAN.BUILES, EPM\\SEBASTIAN.BUILES Fecha:, Fecha: 2021-08-05, 2021-08-05 10:31:14]                                                                                                                                                                                                                                                                                                                                                 |(39017,[0,1,2,3,4,5,6,7,8,9,14,15,16,17,27,29,39,40,41,42,46,47,55,100,115,127,159,190,248,254,257,299,327,349,363,366,389,392,396,439,490,498,504,519,535,587,600,687,794,802,1027,1115,1170,1638,1902,2123,2372,2420,2958,15888,16207,20655,26002,28405,36325,38627,38667,38893],[1.0,1.0,1.0,1.0,1.0,1.0,1.0,1.0,1.0,1.0,1.0,1.0,1.0,1.0,1.0,1.0,1.0,1.0,1.0,1.0,1.0,1.0,1.0,1.0,1.0,1.0,1.0,1.0,1.0,1.0,1.0,1.0,1.0,1.0,1.0,1.0,1.0,1.0,1.0,1.0,1.0,1.0,1.0,1.0,1.0,1.0,1.0,1.0,1.0,1.0,1.0,1.0,1.0,1.0,1.0,1.0,1.0,1.0,1.0,1.0,1.0,1.0,1.0,1.0,1.0,1.0,1.0,1.0])                                                                                                                                                                              |\n",
      "|[Jaramillo..., instalacion, directa, la, se, normaliza, instalacion, se, instala, llave, de, contención, dos, pitorra, de, 1/4, de, 4, mm, medidor, de, 1/2, serie#2020554559, y, lectura#00000, y, sello, de, seguridad, de, EPM#AA2044420, se, deja, instalacion, sin, fugas, predio, no, residencial, actividad, económica, es, un, local, restaurante, razón, social, seasoning, se, empotra, medidor, la, usuaria, ordena, Usuario:, EPM\\CARLOS.JARAMILLO, Fecha:, 2021-09-04, 08:42:42]                                                                                                                                                                                                                                                 |[Jaramillo... instalacion, instalacion directa, directa la, la se, se normaliza, normaliza instalacion, instalacion se, se instala, instala llave, llave de, de contención, contención dos, dos pitorra, pitorra de, de 1/4, 1/4 de, de 4, 4 mm, mm medidor, medidor de, de 1/2, 1/2 serie#2020554559, serie#2020554559 y, y lectura#00000, lectura#00000 y, y sello, sello de, de seguridad, seguridad de, de EPM#AA2044420, EPM#AA2044420 se, se deja, deja instalacion, instalacion sin, sin fugas, fugas predio, predio no, no residencial, residencial actividad, actividad económica, económica es, es un, un local, local restaurante, restaurante razón, razón social, social seasoning, seasoning se, se empotra, empotra medidor, medidor la, la usuaria, usuaria ordena, ordena Usuario:, Usuario: EPM\\CARLOS.JARAMILLO, EPM\\CARLOS.JARAMILLO Fecha:, Fecha: 2021-09-04, 2021-09-04 08:42:42]                                                                                                                                                                                                                                                                                                                                                                                                                                                                      |(39017,[1,6,8,12,14,19,20,44,49,50,63,90,94,102,106,130,149,163,177,192,211,225,226,230,264,282,303,410,467,511,526,638,727,752,1082,1157,1740,1836,1935,2023,2038,2249,2367,3454,5738,8999,10602,12417,20597,22485,24297,25786,28402,30042,34218,34410,35540,38031],[1.0,1.0,1.0,1.0,1.0,1.0,1.0,1.0,1.0,1.0,1.0,1.0,1.0,1.0,1.0,1.0,1.0,1.0,1.0,1.0,1.0,1.0,1.0,1.0,1.0,1.0,1.0,1.0,1.0,1.0,1.0,1.0,1.0,1.0,1.0,1.0,1.0,1.0,1.0,1.0,1.0,1.0,1.0,1.0,1.0,1.0,1.0,1.0,1.0,1.0,1.0,1.0,1.0,1.0,1.0,1.0,1.0,1.0])                                                                                                                                                                                                                                    |\n",
      "|[Yonatan, Giraldo, medidor, bien, instalado, en, buen, estado, registrando, en, prueba, de, llaves, medidor, marca, wáter, de, 3/4, serie, 2014268200, lectura, 32062, medidor, de, control, no, se, observa, anomalías, externas, predio, residencial, (Sion, apartamentos), personal, atiende, visita, dice, no, estar, autorizado, para, firmar, Usuario:, EPM\\YONATAN.GIRALDO, Fecha:, 2021-09-10, 10:54:35]                                                                                                                                                                                                                                                                                                                              |[Yonatan Giraldo, Giraldo medidor, medidor bien, bien instalado, instalado en, en buen, buen estado, estado registrando, registrando en, en prueba, prueba de, de llaves, llaves medidor, medidor marca, marca wáter, wáter de, de 3/4, 3/4 serie, serie 2014268200, 2014268200 lectura, lectura 32062, 32062 medidor, medidor de, de control, control no, no se, se observa, observa anomalías, anomalías externas, externas predio, predio residencial, residencial (Sion, (Sion apartamentos), apartamentos) personal, personal atiende, atiende visita, visita dice, dice no, no estar, estar autorizado, autorizado para, para firmar, firmar Usuario:, Usuario: EPM\\YONATAN.GIRALDO, EPM\\YONATAN.GIRALDO Fecha:, Fecha: 2021-09-10, 2021-09-10 10:54:35]                                                                                                                                                                                                                                                                                                                                                                                                                                                                                                                                                                                                                |(39017,[0,2,3,4,5,7,12,15,16,21,31,34,62,70,74,75,76,80,91,99,139,161,173,210,221,302,332,453,557,582,583,688,689,701,717,724,769,1509,15108,15411,24957,25251,25280,26167,35245,35977,37403],[1.0,1.0,1.0,1.0,1.0,1.0,1.0,1.0,1.0,1.0,1.0,1.0,1.0,1.0,1.0,1.0,1.0,1.0,1.0,1.0,1.0,1.0,1.0,1.0,1.0,1.0,1.0,1.0,1.0,1.0,1.0,1.0,1.0,1.0,1.0,1.0,1.0,1.0,1.0,1.0,1.0,1.0,1.0,1.0,1.0,1.0,1.0])                                                                                                                                                                                                                                                                                                                                                       |\n",
      "|[no, fraude, FECHA, VISITA:22/06/2021, PAP:379, SERIE, MED, :200105623, MARCA:WATER, LECTURA, :7579, DIAMETRO, :, MEDIDOR, BIEN, INSTALADO, SELLO, BUENO, ILEGIBLE, REGISTRA, PRUEBA, DE, LLAVE, USUARIO, MANIFIESTA, EL, BAJO, CONSUMO, SE, DEBE, A, LA, BAJA, PRODUCCION, NO, SE, OBSERVA, ANOMALIAS, EN, EL, MEDIDOR, Y, ACOMETIDA, ,, CANT, PUNTOS, CONSUMOS, 15, CANT, UNI, NO, HABITACIONALES, NO, RESIDENCIAL, ,, FABRICA, AREPAS, Usuario:, EPM\\aalvaalv, Fecha:, 2021-06-24, 12:50:42]                                                                                                                                                                                                                                               |[no fraude, fraude FECHA, FECHA VISITA:22/06/2021, VISITA:22/06/2021 PAP:379, PAP:379 SERIE, SERIE MED, MED :200105623, :200105623 MARCA:WATER, MARCA:WATER LECTURA, LECTURA :7579, :7579 DIAMETRO, DIAMETRO :, : MEDIDOR, MEDIDOR BIEN, BIEN INSTALADO, INSTALADO SELLO, SELLO BUENO, BUENO ILEGIBLE, ILEGIBLE REGISTRA, REGISTRA PRUEBA, PRUEBA DE, DE LLAVE, LLAVE USUARIO, USUARIO MANIFIESTA, MANIFIESTA EL, EL BAJO, BAJO CONSUMO, CONSUMO SE, SE DEBE, DEBE A, A LA, LA BAJA, BAJA PRODUCCION, PRODUCCION NO, NO SE, SE OBSERVA, OBSERVA ANOMALIAS, ANOMALIAS EN, EN EL, EL MEDIDOR, MEDIDOR Y, Y ACOMETIDA, ACOMETIDA ,, , CANT, CANT PUNTOS, PUNTOS CONSUMOS, CONSUMOS 15, 15 CANT, CANT UNI, UNI NO, NO HABITACIONALES, HABITACIONALES NO, NO RESIDENCIAL, RESIDENCIAL ,, , FABRICA, FABRICA AREPAS, AREPAS Usuario:, Usuario: EPM\\aalvaalv, EPM\\aalvaalv Fecha:, Fecha: 2021-06-24, 2021-06-24 12:50:42]                                                                                                                                                                                                                                                                                                                                                                                                                                                           |(39017,[10,11,13,22,23,24,73,79,85,87,104,108,157,158,168,169,175,182,220,228,236,279,280,281,304,355,356,364,375,407,411,417,438,442,455,479,491,496,656,790,908,911,1631,1672,1821,2354,2631,3333,3775,6518,7257,10959,11283,22757,26428,27999,31067,32291,32465,32958,35253],[1.0,1.0,1.0,1.0,1.0,1.0,1.0,1.0,1.0,1.0,1.0,1.0,1.0,1.0,1.0,1.0,1.0,1.0,1.0,1.0,1.0,1.0,1.0,1.0,1.0,1.0,1.0,1.0,1.0,1.0,1.0,1.0,1.0,1.0,1.0,1.0,1.0,1.0,1.0,1.0,1.0,1.0,1.0,1.0,1.0,1.0,1.0,1.0,1.0,1.0,1.0,1.0,1.0,1.0,1.0,1.0,1.0,1.0,1.0,1.0,1.0])                                                                                                                                                                                                             |\n",
      "+----------------------------------------------------------------------------------------------------------------------------------------------------------------------------------------------------------------------------------------------------------------------------------------------------------------------------------------------------------------------------------------------------------------------------------------------------------------------------------------------------------------------------------------------------------------------------------------------------------------------------------------------------------------------------------------------------------------------------------------------+------------------------------------------------------------------------------------------------------------------------------------------------------------------------------------------------------------------------------------------------------------------------------------------------------------------------------------------------------------------------------------------------------------------------------------------------------------------------------------------------------------------------------------------------------------------------------------------------------------------------------------------------------------------------------------------------------------------------------------------------------------------------------------------------------------------------------------------------------------------------------------------------------------------------------------------------------------------------------------------------------------------------------------------------------------------------------------------------------------------------------------------------------------------------------------------------------------------------------------------------------------------------------------------------------------------------------------------------------------------------------+---------------------------------------------------------------------------------------------------------------------------------------------------------------------------------------------------------------------------------------------------------------------------------------------------------------------------------------------------------------------------------------------------------------------------------------------------------------------------------------------------------------------------------------------------------------------------------------------------------------------------------------------------------------------------------------------------------------------------------------------------+\n",
      "only showing top 20 rows"
     ]
    }
   ],
   "source": [
    "ngram = NGram(n=2, inputCol=\"Observacion_Ok\", outputCol=\"bigrams\")\n",
    "\n",
    "# 4. Vectorizar bigramas\n",
    "vectorizer = CountVectorizer(inputCol=\"bigrams\", outputCol=\"features\")\n",
    "\n",
    "# Crear Pipeline\n",
    "pipeline = Pipeline(stages=[ngram, vectorizer])\n",
    "\n",
    "# Ajustar y transformar\n",
    "modelo = pipeline.fit(df_entrenamiento)\n",
    "df_transformado = modelo.transform(df_entrenamiento)\n",
    "\n",
    "# Mostrar resultado\n",
    "df_transformado.select(\"Observacion_Ok\", \"bigrams\", \"features\").show(truncate=False)"
   ]
  },
  {
   "cell_type": "code",
   "execution_count": 81,
   "id": "d7363972",
   "metadata": {},
   "outputs": [
    {
     "data": {
      "application/vnd.jupyter.widget-view+json": {
       "model_id": "",
       "version_major": 2,
       "version_minor": 0
      },
      "text/plain": [
       "FloatProgress(value=0.0, bar_style='info', description='Progress:', layout=Layout(height='25px', width='50%'),…"
      ]
     },
     "metadata": {},
     "output_type": "display_data"
    },
    {
     "name": "stdout",
     "output_type": "stream",
     "text": [
      "df_transformado limpio y guardado en CSV en: s3://proyectointegrador1017/trusted/Base_Entrenamiento_CSV"
     ]
    }
   ],
   "source": [
    "from pyspark.sql.functions import concat_ws, col\n",
    "\n",
    "# 1) Aplanar arrays\n",
    "array_cols = [\"Observacion_Ok\", \"bigrams\"]\n",
    "df_flat = df_transformado\n",
    "for c in array_cols:\n",
    "    df_flat = df_flat.withColumn(\n",
    "        f\"{c}_str\",\n",
    "        concat_ws(\" \", col(c))\n",
    "    ).drop(c)\n",
    "\n",
    "# 2) Quitar la columna 'features' de tipo Struct/vector\n",
    "df_flat = df_flat.drop(\"features\")\n",
    "\n",
    "# 3) Definir ruta en trusted\n",
    "path_trusted_csv = \"s3://proyectointegrador1017/trusted/Base_Entrenamiento_CSV\"\n",
    "\n",
    "# 4) Guardar en CSV\n",
    "df_flat \\\n",
    "    .write \\\n",
    "    .mode(\"overwrite\") \\\n",
    "    .option(\"header\", True) \\\n",
    "    .csv(path_trusted_csv)\n",
    "\n",
    "print(f\"df_transformado limpio y guardado en CSV en: {path_trusted_csv}\")\n"
   ]
  },
  {
   "cell_type": "code",
   "execution_count": 82,
   "id": "b859b24f",
   "metadata": {},
   "outputs": [
    {
     "data": {
      "application/vnd.jupyter.widget-view+json": {
       "model_id": "",
       "version_major": 2,
       "version_minor": 0
      },
      "text/plain": [
       "FloatProgress(value=0.0, bar_style='info', description='Progress:', layout=Layout(height='25px', width='50%'),…"
      ]
     },
     "metadata": {},
     "output_type": "display_data"
    }
   ],
   "source": [
    "# 1. Columnas categóricas, numéricas, y features de texto\n",
    "categoricas = ['Actividad Economica']\n",
    "numericas = ['Consumo promedio', 'Ultimo Valor Leido','Diferencia Lectura','Total Puntaje']\n",
    "texto_vector = 'features'  # salida CountVectorizer u otro transformador\n",
    "label_col = 'evento_cat'"
   ]
  },
  {
   "cell_type": "code",
   "execution_count": 83,
   "id": "fbb362d9",
   "metadata": {},
   "outputs": [
    {
     "data": {
      "application/vnd.jupyter.widget-view+json": {
       "model_id": "",
       "version_major": 2,
       "version_minor": 0
      },
      "text/plain": [
       "FloatProgress(value=0.0, bar_style='info', description='Progress:', layout=Layout(height='25px', width='50%'),…"
      ]
     },
     "metadata": {},
     "output_type": "display_data"
    }
   ],
   "source": [
    "\n",
    "cols_seleccionadas2 = categoricas + numericas + ['features', 'evento_cat']\n",
    "\n",
    "# Seleccionar columnas del DataFrame\n",
    "df_selecciondas = df_transformado.select(*cols_seleccionadas2)"
   ]
  },
  {
   "cell_type": "code",
   "execution_count": 84,
   "id": "78e49781",
   "metadata": {},
   "outputs": [
    {
     "data": {
      "application/vnd.jupyter.widget-view+json": {
       "model_id": "",
       "version_major": 2,
       "version_minor": 0
      },
      "text/plain": [
       "FloatProgress(value=0.0, bar_style='info', description='Progress:', layout=Layout(height='25px', width='50%'),…"
      ]
     },
     "metadata": {},
     "output_type": "display_data"
    }
   ],
   "source": [
    "df_selecciondas = df_selecciondas.dropna(subset=cols_seleccionadas2)"
   ]
  },
  {
   "cell_type": "code",
   "execution_count": 85,
   "id": "21e06b13",
   "metadata": {},
   "outputs": [
    {
     "data": {
      "application/vnd.jupyter.widget-view+json": {
       "model_id": "",
       "version_major": 2,
       "version_minor": 0
      },
      "text/plain": [
       "FloatProgress(value=0.0, bar_style='info', description='Progress:', layout=Layout(height='25px', width='50%'),…"
      ]
     },
     "metadata": {},
     "output_type": "display_data"
    }
   ],
   "source": [
    "# 1. Columnas categóricas, numéricas, y features de texto\n",
    "\n",
    "\n",
    "\n",
    "# Convertir las columnas numéricas a DoubleType BEFORE splitting the data\n",
    "for c in numericas:\n",
    "    df_selecciondas = df_selecciondas.withColumn(c, col(c).cast(DoubleType()))\n",
    "\n",
    "# 2. Indexar categóricas\n",
    "indexers = [\n",
    "    StringIndexer(inputCol=c, outputCol=c + \"_idx\", handleInvalid=\"keep\")\n",
    "    for c in categoricas\n",
    "]\n",
    "\n",
    "# 3. OneHotEncode\n",
    "encoder = OneHotEncoder(\n",
    "    inputCols=[c + \"_idx\" for c in categoricas],\n",
    "    outputCols=[c + \"_vec\" for c in categoricas],\n",
    "    handleInvalid=\"keep\"\n",
    ")\n",
    "\n",
    "# 4. VectorAssembler para numéricas\n",
    "assembler_numeric = VectorAssembler(\n",
    "    inputCols=numericas,\n",
    "    outputCol=\"numerical_assembled\",\n",
    "    handleInvalid=\"keep\"\n",
    ")\n",
    "\n",
    "# 5. Escalar numéricas\n",
    "scaler = StandardScaler(\n",
    "    inputCol=\"numerical_assembled\",\n",
    "    outputCol=\"numerical_scaled\"\n",
    ")\n",
    "\n",
    "# 6. Combinar numéricas escaladas, categóricas codificadas y texto\n",
    "assembler_final = VectorAssembler(\n",
    "    inputCols=[\"numerical_scaled\"] + [c + \"_vec\" for c in categoricas] + [texto_vector],\n",
    "    outputCol=\"all_features\",\n",
    "    handleInvalid=\"skip\"\n",
    ")\n",
    "\n",
    "# 7. Regresión logística\n",
    "lr = LogisticRegression(featuresCol=\"all_features\", labelCol=\"evento_cat\")\n",
    "\n",
    "# 8. Pipeline completo\n",
    "pipeline = Pipeline(stages=indexers + [encoder, assembler_numeric, scaler, assembler_final, lr])\n",
    "\n",
    "# 9. Dividir base en train y test - Use the df_transformado after type conversion\n",
    "train_df, test_df = df_selecciondas.randomSplit([0.8, 0.2], seed=42) # Changed from df_limpio"
   ]
  },
  {
   "cell_type": "code",
   "execution_count": 86,
   "id": "00c75dc5",
   "metadata": {},
   "outputs": [
    {
     "data": {
      "application/vnd.jupyter.widget-view+json": {
       "model_id": "",
       "version_major": 2,
       "version_minor": 0
      },
      "text/plain": [
       "FloatProgress(value=0.0, bar_style='info', description='Progress:', layout=Layout(height='25px', width='50%'),…"
      ]
     },
     "metadata": {},
     "output_type": "display_data"
    }
   ],
   "source": [
    "modelo = pipeline.fit(train_df)"
   ]
  },
  {
   "cell_type": "code",
   "execution_count": 87,
   "id": "e8fe133f",
   "metadata": {},
   "outputs": [
    {
     "data": {
      "application/vnd.jupyter.widget-view+json": {
       "model_id": "",
       "version_major": 2,
       "version_minor": 0
      },
      "text/plain": [
       "FloatProgress(value=0.0, bar_style='info', description='Progress:', layout=Layout(height='25px', width='50%'),…"
      ]
     },
     "metadata": {},
     "output_type": "display_data"
    },
    {
     "name": "stdout",
     "output_type": "stream",
     "text": [
      "+----------+----------+---------------------------------------------------------------+\n",
      "|evento_cat|prediction|probability                                                    |\n",
      "+----------+----------+---------------------------------------------------------------+\n",
      "|1         |1.0       |[5.114017182955336E-9,0.9999999470385147,4.784746809936241E-8] |\n",
      "|0         |0.0       |[0.9999999850110954,5.80668889531058E-9,9.182215742108921E-9]  |\n",
      "|0         |0.0       |[0.9999981850036765,1.2325078787829488E-6,5.824884446424269E-7]|\n",
      "|0         |0.0       |[0.9999996884941256,1.596685824774958E-7,1.518372917976569E-7] |\n",
      "|0         |0.0       |[0.9999993419153371,3.288859152378159E-7,3.2919874762477983E-7]|\n",
      "+----------+----------+---------------------------------------------------------------+\n",
      "only showing top 5 rows"
     ]
    }
   ],
   "source": [
    "predicciones = modelo.transform(test_df)\n",
    "\n",
    "# Mostrar algunas predicciones\n",
    "predicciones.select(label_col, \"prediction\", \"probability\").show(5, truncate=False)"
   ]
  },
  {
   "cell_type": "code",
   "execution_count": 88,
   "id": "8b47918f",
   "metadata": {},
   "outputs": [
    {
     "data": {
      "application/vnd.jupyter.widget-view+json": {
       "model_id": "",
       "version_major": 2,
       "version_minor": 0
      },
      "text/plain": [
       "FloatProgress(value=0.0, bar_style='info', description='Progress:', layout=Layout(height='25px', width='50%'),…"
      ]
     },
     "metadata": {},
     "output_type": "display_data"
    },
    {
     "name": "stdout",
     "output_type": "stream",
     "text": [
      "Accuracy: 0.8964\n",
      "F1 Score: 0.8941"
     ]
    }
   ],
   "source": [
    "# Accuracy\n",
    "evaluator_accuracy = MulticlassClassificationEvaluator(\n",
    "    labelCol=\"evento_cat\", predictionCol=\"prediction\", metricName=\"accuracy\"\n",
    ")\n",
    "\n",
    "# F1 Score\n",
    "evaluator_f1 = MulticlassClassificationEvaluator(\n",
    "    labelCol=\"evento_cat\", predictionCol=\"prediction\", metricName=\"f1\"\n",
    ")\n",
    "\n",
    "# Calcular métricas\n",
    "accuracy = evaluator_accuracy.evaluate(predicciones)\n",
    "f1 = evaluator_f1.evaluate(predicciones)\n",
    "\n",
    "print(f\"Accuracy: {accuracy:.4f}\")\n",
    "print(f\"F1 Score: {f1:.4f}\")"
   ]
  },
  {
   "cell_type": "code",
   "execution_count": 89,
   "id": "a298eb94",
   "metadata": {},
   "outputs": [
    {
     "data": {
      "application/vnd.jupyter.widget-view+json": {
       "model_id": "",
       "version_major": 2,
       "version_minor": 0
      },
      "text/plain": [
       "FloatProgress(value=0.0, bar_style='info', description='Progress:', layout=Layout(height='25px', width='50%'),…"
      ]
     },
     "metadata": {},
     "output_type": "display_data"
    }
   ],
   "source": [
    "def des_categorizar_y(x):\n",
    "    if x == 0:\n",
    "        return 'Normal'\n",
    "    elif x == 1:\n",
    "        return 'Anomalia'\n",
    "    else:\n",
    "        return 'No revisado'\n",
    "\n",
    "# Registrar como UDF\n",
    "des_categorizar_y_udf = udf(des_categorizar_y, StringType())\n",
    "\n",
    "# Aplicar al DataFrame\n",
    "df_con_clase = predicciones.withColumn(\"clase\", des_categorizar_y_udf(\"prediction\"))"
   ]
  },
  {
   "cell_type": "code",
   "execution_count": 90,
   "id": "5197ee21",
   "metadata": {},
   "outputs": [
    {
     "data": {
      "application/vnd.jupyter.widget-view+json": {
       "model_id": "",
       "version_major": 2,
       "version_minor": 0
      },
      "text/plain": [
       "FloatProgress(value=0.0, bar_style='info', description='Progress:', layout=Layout(height='25px', width='50%'),…"
      ]
     },
     "metadata": {},
     "output_type": "display_data"
    },
    {
     "name": "stdout",
     "output_type": "stream",
     "text": [
      "+--------+----------+\n",
      "|   Clase|evento_cat|\n",
      "+--------+----------+\n",
      "|Anomalia|         1|\n",
      "|  Normal|         0|\n",
      "|  Normal|         0|\n",
      "|  Normal|         0|\n",
      "|  Normal|         0|\n",
      "+--------+----------+\n",
      "only showing top 5 rows"
     ]
    }
   ],
   "source": [
    "df_con_clase.select('Clase','evento_cat').show(5)"
   ]
  },
  {
   "cell_type": "code",
   "execution_count": 91,
   "id": "14ba9c18",
   "metadata": {},
   "outputs": [
    {
     "data": {
      "application/vnd.jupyter.widget-view+json": {
       "model_id": "",
       "version_major": 2,
       "version_minor": 0
      },
      "text/plain": [
       "FloatProgress(value=0.0, bar_style='info', description='Progress:', layout=Layout(height='25px', width='50%'),…"
      ]
     },
     "metadata": {},
     "output_type": "display_data"
    },
    {
     "name": "stdout",
     "output_type": "stream",
     "text": [
      "['Actividad Economica', 'Consumo promedio', 'Ultimo Valor Leido', 'Diferencia Lectura', 'Total Puntaje', 'features', 'evento_cat', 'Actividad Economica_idx', 'Actividad Economica_vec', 'numerical_assembled', 'numerical_scaled', 'all_features', 'rawPrediction', 'probability', 'prediction', 'clase']"
     ]
    }
   ],
   "source": [
    "df_con_clase.columns"
   ]
  },
  {
   "cell_type": "code",
   "execution_count": 94,
   "id": "fef7375d",
   "metadata": {},
   "outputs": [
    {
     "data": {
      "application/vnd.jupyter.widget-view+json": {
       "model_id": "",
       "version_major": 2,
       "version_minor": 0
      },
      "text/plain": [
       "FloatProgress(value=0.0, bar_style='info', description='Progress:', layout=Layout(height='25px', width='50%'),…"
      ]
     },
     "metadata": {},
     "output_type": "display_data"
    },
    {
     "name": "stdout",
     "output_type": "stream",
     "text": [
      "? DataFrame limpio guardado en: s3://proyectointegrador1017/refined/predicciones_csv/"
     ]
    }
   ],
   "source": [
    "\n",
    "\n",
    "# 3) Define la lista de columnas a eliminar (nombres limpios)\n",
    "cols_to_drop = [\n",
    "    \"actividad_economica\",\n",
    "    \"consumo_promedio\",\n",
    "    \"ultimo_valor_leido\",\n",
    "    \"diferencia_lectura\",\n",
    "    \"total_puntaje\",\n",
    "    \"prediction\",\n",
    "    \"clase\"\n",
    "]\n",
    "\n",
    "# 4) Elimina las columnas con unpacking\n",
    "df_flat = df_flat.drop(*cols_to_drop)\n",
    "\n",
    "# 5) Define la ruta en refined para tus CSV de predicciones\n",
    "refined_path = \"s3://proyectointegrador1017/refined/predicciones_csv/\"\n",
    "\n",
    "# 6) Guarda el DataFrame sin esas columnas en un solo CSV\n",
    "df_flat.coalesce(1) \\\n",
    "       .write \\\n",
    "       .mode(\"overwrite\") \\\n",
    "       .option(\"header\", True) \\\n",
    "       .csv(refined_path)\n",
    "\n",
    "print(f\"✅ DataFrame limpio guardado en: {refined_path}\")"
   ]
  },
  {
   "cell_type": "code",
   "execution_count": null,
   "id": "7f7206ad",
   "metadata": {},
   "outputs": [],
   "source": []
  },
  {
   "cell_type": "code",
   "execution_count": null,
   "id": "fc87227f",
   "metadata": {},
   "outputs": [],
   "source": []
  },
  {
   "cell_type": "code",
   "execution_count": null,
   "id": "56720a51",
   "metadata": {},
   "outputs": [],
   "source": []
  },
  {
   "cell_type": "code",
   "execution_count": null,
   "id": "85103d87",
   "metadata": {},
   "outputs": [],
   "source": []
  }
 ],
 "metadata": {
  "kernelspec": {
   "display_name": "PySpark",
   "language": "python",
   "name": "pysparkkernel"
  },
  "language_info": {
   "codemirror_mode": {
    "name": "python",
    "version": 3
   },
   "file_extension": ".py",
   "mimetype": "text/x-python",
   "name": "pyspark",
   "pygments_lexer": "python3"
  }
 },
 "nbformat": 4,
 "nbformat_minor": 5
}
