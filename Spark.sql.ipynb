{
 "cells": [
  {
   "cell_type": "code",
   "execution_count": 1,
   "id": "8efe6082",
   "metadata": {},
   "outputs": [
    {
     "name": "stdout",
     "output_type": "stream",
     "text": [
      "Starting Spark application\n"
     ]
    },
    {
     "data": {
      "text/html": [
       "<table>\n",
       "<tr><th>ID</th><th>YARN Application ID</th><th>Kind</th><th>State</th><th>Spark UI</th><th>Driver log</th><th>User</th><th>Current session?</th></tr><tr><td>1</td><td>application_1748274109137_0002</td><td>pyspark</td><td>idle</td><td><a target=\"_blank\" href=\"http://ip-172-31-77-217.ec2.internal:20888/proxy/application_1748274109137_0002/\">Link</a></td><td><a target=\"_blank\" href=\"http://ip-172-31-79-133.ec2.internal:8042/node/containerlogs/container_1748274109137_0002_01_000001/livy\">Link</a></td><td>None</td><td>✔</td></tr></table>"
      ],
      "text/plain": [
       "<IPython.core.display.HTML object>"
      ]
     },
     "metadata": {},
     "output_type": "display_data"
    },
    {
     "data": {
      "application/vnd.jupyter.widget-view+json": {
       "model_id": "",
       "version_major": 2,
       "version_minor": 0
      },
      "text/plain": [
       "FloatProgress(value=0.0, bar_style='info', description='Progress:', layout=Layout(height='25px', width='50%'),…"
      ]
     },
     "metadata": {},
     "output_type": "display_data"
    },
    {
     "name": "stdout",
     "output_type": "stream",
     "text": [
      "SparkSession available as 'spark'.\n"
     ]
    },
    {
     "data": {
      "application/vnd.jupyter.widget-view+json": {
       "model_id": "",
       "version_major": 2,
       "version_minor": 0
      },
      "text/plain": [
       "FloatProgress(value=0.0, bar_style='info', description='Progress:', layout=Layout(height='25px', width='50%'),…"
      ]
     },
     "metadata": {},
     "output_type": "display_data"
    }
   ],
   "source": [
    "from pyspark.sql import SparkSession\n",
    "\n",
    "# 1) Arrancar SparkSession apuntando a Glue como metastore (Hive)\n",
    "spark = SparkSession.builder \\\n",
    "    .appName(\"EDA_SparkSQL_proyecto1db\") \\\n",
    "    .enableHiveSupport() \\\n",
    "    .getOrCreate()\n"
   ]
  },
  {
   "cell_type": "code",
   "execution_count": 2,
   "id": "7c41085f",
   "metadata": {},
   "outputs": [
    {
     "data": {
      "application/vnd.jupyter.widget-view+json": {
       "model_id": "",
       "version_major": 2,
       "version_minor": 0
      },
      "text/plain": [
       "FloatProgress(value=0.0, bar_style='info', description='Progress:', layout=Layout(height='25px', width='50%'),…"
      ]
     },
     "metadata": {},
     "output_type": "display_data"
    },
    {
     "name": "stdout",
     "output_type": "stream",
     "text": [
      "+-----------+\n",
      "|namespace  |\n",
      "+-----------+\n",
      "|default    |\n",
      "|proyecto1db|\n",
      "+-----------+"
     ]
    }
   ],
   "source": [
    "spark.sql(\"SHOW DATABASES\").show(truncate=False)\n"
   ]
  },
  {
   "cell_type": "code",
   "execution_count": 3,
   "id": "069eb1c7",
   "metadata": {},
   "outputs": [
    {
     "data": {
      "application/vnd.jupyter.widget-view+json": {
       "model_id": "",
       "version_major": 2,
       "version_minor": 0
      },
      "text/plain": [
       "FloatProgress(value=0.0, bar_style='info', description='Progress:', layout=Layout(height='25px', width='50%'),…"
      ]
     },
     "metadata": {},
     "output_type": "display_data"
    },
    {
     "name": "stdout",
     "output_type": "stream",
     "text": [
      "+-----------+----------------------+-----------+\n",
      "|namespace  |tableName             |isTemporary|\n",
      "+-----------+----------------------+-----------+\n",
      "|proyecto1db|base_entrenamiento_csv|false      |\n",
      "+-----------+----------------------+-----------+"
     ]
    }
   ],
   "source": [
    "# 1) Mostrar tablas en la base proyecto1db\n",
    "spark.sql(\"SHOW TABLES IN proyecto1db\").show(truncate=False)\n"
   ]
  },
  {
   "cell_type": "code",
   "execution_count": 4,
   "id": "01f1bca5",
   "metadata": {},
   "outputs": [
    {
     "data": {
      "application/vnd.jupyter.widget-view+json": {
       "model_id": "",
       "version_major": 2,
       "version_minor": 0
      },
      "text/plain": [
       "FloatProgress(value=0.0, bar_style='info', description='Progress:', layout=Layout(height='25px', width='50%'),…"
      ]
     },
     "metadata": {},
     "output_type": "display_data"
    },
    {
     "name": "stdout",
     "output_type": "stream",
     "text": [
      "+-------------------+---------+-------+\n",
      "|col_name           |data_type|comment|\n",
      "+-------------------+---------+-------+\n",
      "|id_uc              |string   |NULL   |\n",
      "|actividad economica|string   |NULL   |\n",
      "|consumo promedio   |double   |NULL   |\n",
      "|ultimo valor leido |double   |NULL   |\n",
      "|diferencia lectura |string   |NULL   |\n",
      "|total puntaje      |double   |NULL   |\n",
      "|evento             |string   |NULL   |\n",
      "|evento_cat         |bigint   |NULL   |\n",
      "|observacion_ok_str |string   |NULL   |\n",
      "|bigrams_str        |string   |NULL   |\n",
      "+-------------------+---------+-------+\n",
      "\n",
      "+-----+-------------------+----------------+------------------+------------------+-------------+------+----------+------------------+-----------+\n",
      "|id_uc|actividad economica|consumo promedio|ultimo valor leido|diferencia lectura|total puntaje|evento|evento_cat|observacion_ok_str|bigrams_str|\n",
      "+-----+-------------------+----------------+------------------+------------------+-------------+------+----------+------------------+-----------+\n",
      "|ID_UC|Actividad Economica|NULL            |NULL              |Diferencia Lectura|NULL         |evento|NULL      |Observacion_Ok_str|bigrams_str|\n",
      "+-----+-------------------+----------------+------------------+------------------+-------------+------+----------+------------------+-----------+\n",
      "\n",
      "+-------------------+---------+-------+\n",
      "|col_name           |data_type|comment|\n",
      "+-------------------+---------+-------+\n",
      "|id_uc              |string   |NULL   |\n",
      "|actividad economica|string   |NULL   |\n",
      "|consumo promedio   |double   |NULL   |\n",
      "|ultimo valor leido |double   |NULL   |\n",
      "|diferencia lectura |string   |NULL   |\n",
      "|total puntaje      |double   |NULL   |\n",
      "|evento             |string   |NULL   |\n",
      "|evento_cat         |bigint   |NULL   |\n",
      "|observacion_ok_str |string   |NULL   |\n",
      "|bigrams_str        |string   |NULL   |\n",
      "+-------------------+---------+-------+\n",
      "\n",
      "+-----+-------------------+----------------+------------------+------------------+-------------+------+----------+------------------+-----------+\n",
      "|id_uc|actividad economica|consumo promedio|ultimo valor leido|diferencia lectura|total puntaje|evento|evento_cat|observacion_ok_str|bigrams_str|\n",
      "+-----+-------------------+----------------+------------------+------------------+-------------+------+----------+------------------+-----------+\n",
      "|ID_UC|Actividad Economica|NULL            |NULL              |Diferencia Lectura|NULL         |evento|NULL      |Observacion_Ok_str|bigrams_str|\n",
      "+-----+-------------------+----------------+------------------+------------------+-------------+------+----------+------------------+-----------+\n",
      "\n",
      "root\n",
      " |-- id_uc: string (nullable = true)\n",
      " |-- actividad_economica: string (nullable = true)\n",
      " |-- consumo_promedio: double (nullable = true)\n",
      " |-- ultimo_valor_leido: double (nullable = true)\n",
      " |-- diferencia_lectura: string (nullable = true)\n",
      " |-- total_puntaje: double (nullable = true)\n",
      " |-- evento: string (nullable = true)\n",
      " |-- evento_cat: long (nullable = true)\n",
      " |-- observacion_ok_str: string (nullable = true)\n",
      " |-- bigrams_str: string (nullable = true)\n",
      "\n",
      "+-----+-------------------+----------------+------------------+------------------+-------------+------+----------+------------------+-----------+\n",
      "|id_uc|actividad_economica|consumo_promedio|ultimo_valor_leido|diferencia_lectura|total_puntaje|evento|evento_cat|observacion_ok_str|bigrams_str|\n",
      "+-----+-------------------+----------------+------------------+------------------+-------------+------+----------+------------------+-----------+\n",
      "|ID_UC|Actividad Economica|NULL            |NULL              |Diferencia Lectura|NULL         |evento|NULL      |Observacion_Ok_str|bigrams_str|\n",
      "+-----+-------------------+----------------+------------------+------------------+-------------+------+----------+------------------+-----------+\n",
      "only showing top 1 row"
     ]
    }
   ],
   "source": [
    "# 1) Mostrar el esquema detallado (columnas y tipos)\n",
    "spark.sql(\"DESCRIBE proyecto1db.base_entrenamiento_csv\").show(truncate=False)\n",
    "\n",
    "# 2) Ver un ejemplo de fila para confirmar nombres exactos de encabezados\n",
    "spark.table(\"proyecto1db.base_entrenamiento_csv\") \\\n",
    "     .limit(1) \\\n",
    "     .toDF(*spark.table(\"proyecto1db.base_entrenamiento_csv\").columns) \\\n",
    "     .show(truncate=False)\n",
    "\n",
    "# 1) Cargar la tabla tal cual está en Glue  \n",
    "df_raw = spark.table(\"proyecto1db.base_entrenamiento_csv\")\n",
    "\n",
    "# 2) Ver nombres exactos y tipos  \n",
    "spark.sql(\"DESCRIBE proyecto1db.base_entrenamiento_csv\").show(truncate=False)\n",
    "\n",
    "\n",
    "df_raw.limit(1).show(truncate=False)\n",
    "\n",
    "# 4) Renombrar columnas: espacios → guión bajo, todo en minúsculas\n",
    "clean_cols = [c.strip().lower().replace(\" \", \"_\") for c in df_raw.columns]\n",
    "df = df_raw.toDF(*clean_cols)\n",
    "\n",
    "# 5) Ver esquema limpio y una muestra\n",
    "df.printSchema()\n",
    "df.show(1, truncate=False)\n"
   ]
  },
  {
   "cell_type": "code",
   "execution_count": 5,
   "id": "05cd7105",
   "metadata": {},
   "outputs": [
    {
     "data": {
      "application/vnd.jupyter.widget-view+json": {
       "model_id": "",
       "version_major": 2,
       "version_minor": 0
      },
      "text/plain": [
       "FloatProgress(value=0.0, bar_style='info', description='Progress:', layout=Layout(height='25px', width='50%'),…"
      ]
     },
     "metadata": {},
     "output_type": "display_data"
    },
    {
     "name": "stdout",
     "output_type": "stream",
     "text": [
      "+--------+-----+\n",
      "|   id_uc|count|\n",
      "+--------+-----+\n",
      "|12408022|    2|\n",
      "|12553767|    2|\n",
      "|12361370|    2|\n",
      "|12353261|    2|\n",
      "|12303103|    2|\n",
      "|12364706|    2|\n",
      "|12530854|    2|\n",
      "|12318869|    2|\n",
      "|12469543|    2|\n",
      "|12327528|    2|\n",
      "+--------+-----+\n",
      "only showing top 10 rows"
     ]
    }
   ],
   "source": [
    "df.groupBy(\"id_uc\") \\\n",
    "  .count() \\\n",
    "  .orderBy(\"count\", ascending=False) \\\n",
    "  .show(10)"
   ]
  },
  {
   "cell_type": "code",
   "execution_count": 6,
   "id": "f2a5c781",
   "metadata": {},
   "outputs": [
    {
     "data": {
      "application/vnd.jupyter.widget-view+json": {
       "model_id": "",
       "version_major": 2,
       "version_minor": 0
      },
      "text/plain": [
       "FloatProgress(value=0.0, bar_style='info', description='Progress:', layout=Layout(height='25px', width='50%'),…"
      ]
     },
     "metadata": {},
     "output_type": "display_data"
    },
    {
     "name": "stdout",
     "output_type": "stream",
     "text": [
      "+--------------------+-----+\n",
      "| actividad_economica|count|\n",
      "+--------------------+-----+\n",
      "|Residencial estra...|  517|\n",
      "|Residencial estra...|  494|\n",
      "|Residencial estra...|  370|\n",
      "|           Comercial|  364|\n",
      "|          Industrial|  125|\n",
      "|             Oficial|  118|\n",
      "|Residencial estra...|  102|\n",
      "|              Exenta|   69|\n",
      "|Residencial estra...|   58|\n",
      "|Expendio de comid...|   51|\n",
      "+--------------------+-----+\n",
      "only showing top 10 rows"
     ]
    }
   ],
   "source": [
    "df.groupBy(\"actividad_economica\") \\\n",
    "  .count() \\\n",
    "  .orderBy(\"count\", ascending=False) \\\n",
    "  .show(10)"
   ]
  },
  {
   "cell_type": "code",
   "execution_count": 10,
   "id": "006815d5",
   "metadata": {},
   "outputs": [
    {
     "data": {
      "application/vnd.jupyter.widget-view+json": {
       "model_id": "",
       "version_major": 2,
       "version_minor": 0
      },
      "text/plain": [
       "FloatProgress(value=0.0, bar_style='info', description='Progress:', layout=Layout(height='25px', width='50%'),…"
      ]
     },
     "metadata": {},
     "output_type": "display_data"
    }
   ],
   "source": [
    "base_path = \"s3://proyectointegrador1017/refined/\"\n"
   ]
  },
  {
   "cell_type": "code",
   "execution_count": 11,
   "id": "a15040c1",
   "metadata": {},
   "outputs": [
    {
     "data": {
      "application/vnd.jupyter.widget-view+json": {
       "model_id": "",
       "version_major": 2,
       "version_minor": 0
      },
      "text/plain": [
       "FloatProgress(value=0.0, bar_style='info', description='Progress:', layout=Layout(height='25px', width='50%'),…"
      ]
     },
     "metadata": {},
     "output_type": "display_data"
    },
    {
     "name": "stdout",
     "output_type": "stream",
     "text": [
      "+-----------+----------+-----------+-----------+-----------+\n",
      "|avg_consumo|sd_consumo|min_consumo|med_consumo|max_consumo|\n",
      "+-----------+----------+-----------+-----------+-----------+\n",
      "|21.03      |102.49    |0.0        |5.0        |3292.0     |\n",
      "+-----------+----------+-----------+-----------+-----------+"
     ]
    }
   ],
   "source": [
    "# 3) Estadísticas descriptivas vía spark.sql y guardado en S3\n",
    "stats_df = spark.sql(\"\"\"\n",
    "  SELECT\n",
    "    ROUND(AVG(`consumo promedio`), 2)           AS avg_consumo,\n",
    "    ROUND(STDDEV(`consumo promedio`), 2)        AS sd_consumo,\n",
    "    MIN(`consumo promedio`)                    AS min_consumo,\n",
    "    PERCENTILE_APPROX(`consumo promedio`, 0.5)  AS med_consumo,\n",
    "    MAX(`consumo promedio`)                    AS max_consumo\n",
    "  FROM proyecto1db.base_entrenamiento_csv\n",
    "\"\"\")\n",
    "\n",
    "stats_df.show(truncate=False)\n",
    "\n",
    "stats_df.coalesce(1) \\\n",
    "        .write \\\n",
    "        .mode(\"overwrite\") \\\n",
    "        .option(\"header\", True) \\\n",
    "        .csv(base_path + \"estadisticas_descriptivas/\")\n"
   ]
  },
  {
   "cell_type": "code",
   "execution_count": 12,
   "id": "9720f63d",
   "metadata": {},
   "outputs": [
    {
     "data": {
      "application/vnd.jupyter.widget-view+json": {
       "model_id": "",
       "version_major": 2,
       "version_minor": 0
      },
      "text/plain": [
       "FloatProgress(value=0.0, bar_style='info', description='Progress:', layout=Layout(height='25px', width='50%'),…"
      ]
     },
     "metadata": {},
     "output_type": "display_data"
    },
    {
     "name": "stdout",
     "output_type": "stream",
     "text": [
      "+------------------+-----------------------+\n",
      "|corr_consumo_valor|corr_consumo_diferencia|\n",
      "+------------------+-----------------------+\n",
      "|0.2488259648802437|   -0.00227867894441...|\n",
      "+------------------+-----------------------+\n",
      "\n",
      "+--------+----+\n",
      "|diff_bin| cnt|\n",
      "+--------+----+\n",
      "|    NULL| 292|\n",
      "|       0|1344|\n",
      "|       5| 297|\n",
      "|      10| 158|\n",
      "|      15| 108|\n",
      "|      20|  58|\n",
      "|      25|  48|\n",
      "|      30|  39|\n",
      "|      35|  30|\n",
      "|      40|  25|\n",
      "|      45|  22|\n",
      "|      50|  15|\n",
      "|      55|  12|\n",
      "|      60|  13|\n",
      "|      65|  16|\n",
      "|      70|   4|\n",
      "|      75|   8|\n",
      "|      80|  18|\n",
      "|      85|  10|\n",
      "|      90|   7|\n",
      "+--------+----+\n",
      "only showing top 20 rows\n",
      "\n",
      "? Correcciones aplicadas: correlaciones e histogramas con columnas v?lidas."
     ]
    }
   ],
   "source": [
    "# 6a) Correlaciones entre consumo_promedio, ultimo_valor_leido y diferencia_lectura\n",
    "corr_val = spark.sql(\"\"\"\n",
    "  SELECT \n",
    "    corr(`consumo promedio`, `ultimo valor leido`)  AS corr_consumo_valor,\n",
    "    corr(`consumo promedio`, `diferencia lectura`) AS corr_consumo_diferencia\n",
    "  FROM proyecto1db.base_entrenamiento_csv\n",
    "\"\"\")\n",
    "corr_val.show()\n",
    "\n",
    "# Guardar correlaciones en S3\n",
    "corr_val.coalesce(1) \\\n",
    "        .write \\\n",
    "        .mode(\"overwrite\") \\\n",
    "        .option(\"header\", True) \\\n",
    "        .csv(base_path + \"correlaciones/\")\n",
    "\n",
    "# 6b) Histograma binned de diferencia_lectura\n",
    "hist_diff = spark.sql(\"\"\"\n",
    "  SELECT\n",
    "    FLOOR(`diferencia lectura`/5)*5 AS diff_bin,\n",
    "    COUNT(*)                  AS cnt\n",
    "  FROM proyecto1db.base_entrenamiento_csv\n",
    "  WHERE `diferencia lectura` IS NOT NULL\n",
    "  GROUP BY FLOOR(`diferencia lectura`/5)*5\n",
    "  ORDER BY diff_bin\n",
    "\"\"\")\n",
    "hist_diff.show(20)\n",
    "\n",
    "# Guardar histograma de diferencia lectura en S3\n",
    "hist_diff.coalesce(1) \\\n",
    "         .write \\\n",
    "         .mode(\"overwrite\") \\\n",
    "         .option(\"header\", True) \\\n",
    "         .csv(base_path + \"histograma_diferencia/\")\n",
    "\n",
    "print(\"✅ Correcciones aplicadas: correlaciones e histogramas con columnas válidas.\")  \n"
   ]
  },
  {
   "cell_type": "code",
   "execution_count": null,
   "id": "7afa5dbf",
   "metadata": {},
   "outputs": [],
   "source": []
  }
 ],
 "metadata": {
  "kernelspec": {
   "display_name": "PySpark",
   "language": "python",
   "name": "pysparkkernel"
  },
  "language_info": {
   "codemirror_mode": {
    "name": "python",
    "version": 3
   },
   "file_extension": ".py",
   "mimetype": "text/x-python",
   "name": "pyspark",
   "pygments_lexer": "python3"
  }
 },
 "nbformat": 4,
 "nbformat_minor": 5
}
