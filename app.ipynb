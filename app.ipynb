{
 "cells": [
  {
   "cell_type": "code",
   "execution_count": 1,
   "id": "ab324a54",
   "metadata": {},
   "outputs": [
    {
     "name": "stdout",
     "output_type": "stream",
     "text": [
      "Starting Spark application\n"
     ]
    },
    {
     "data": {
      "text/html": [
       "<table>\n",
       "<tr><th>ID</th><th>YARN Application ID</th><th>Kind</th><th>State</th><th>Spark UI</th><th>Driver log</th><th>User</th><th>Current session?</th></tr><tr><td>0</td><td>application_1748303438989_0001</td><td>pyspark</td><td>idle</td><td><a target=\"_blank\" href=\"http://ip-172-31-67-16.ec2.internal:20888/proxy/application_1748303438989_0001/\">Link</a></td><td><a target=\"_blank\" href=\"http://ip-172-31-68-66.ec2.internal:8042/node/containerlogs/container_1748303438989_0001_01_000001/livy\">Link</a></td><td>None</td><td>✔</td></tr></table>"
      ],
      "text/plain": [
       "<IPython.core.display.HTML object>"
      ]
     },
     "metadata": {},
     "output_type": "display_data"
    },
    {
     "data": {
      "application/vnd.jupyter.widget-view+json": {
       "model_id": "",
       "version_major": 2,
       "version_minor": 0
      },
      "text/plain": [
       "FloatProgress(value=0.0, bar_style='info', description='Progress:', layout=Layout(height='25px', width='50%'),…"
      ]
     },
     "metadata": {},
     "output_type": "display_data"
    },
    {
     "name": "stdout",
     "output_type": "stream",
     "text": [
      "SparkSession available as 'spark'.\n"
     ]
    },
    {
     "data": {
      "application/vnd.jupyter.widget-view+json": {
       "model_id": "",
       "version_major": 2,
       "version_minor": 0
      },
      "text/plain": [
       "FloatProgress(value=0.0, bar_style='info', description='Progress:', layout=Layout(height='25px', width='50%'),…"
      ]
     },
     "metadata": {},
     "output_type": "display_data"
    },
    {
     "name": "stdout",
     "output_type": "stream",
     "text": [
      "Columnas en el DataFrame: ['ID_UC', 'Actividad Economica', 'Consumo promedio', 'Ultimo Valor Leido', 'Diferencia Lectura', 'Total Puntaje', 'evento', 'evento_cat', 'Observacion_Ok_str', 'bigrams_str']"
     ]
    }
   ],
   "source": [
    "from pyspark.sql import SparkSession\n",
    "\n",
    "# (Asegúrate de usar el kernel PySpark)\n",
    "spark = SparkSession.builder \\\n",
    "    .appName(\"Instrospeccion_Refined\") \\\n",
    "    .enableHiveSupport() \\\n",
    "    .getOrCreate()\n",
    "\n",
    "# Lee tu carpeta refined\n",
    "df = spark.read.option(\"header\", True) \\\n",
    "               .csv(\"s3://proyectointegrador1017/refined/predicciones_csv/\")\n",
    "\n",
    "print(\"Columnas en el DataFrame:\", df.columns)\n"
   ]
  },
  {
   "cell_type": "code",
   "execution_count": 2,
   "id": "97956a10",
   "metadata": {},
   "outputs": [
    {
     "data": {
      "application/vnd.jupyter.widget-view+json": {
       "model_id": "",
       "version_major": 2,
       "version_minor": 0
      },
      "text/plain": [
       "FloatProgress(value=0.0, bar_style='info', description='Progress:', layout=Layout(height='25px', width='50%'),…"
      ]
     },
     "metadata": {},
     "output_type": "display_data"
    },
    {
     "name": "stdout",
     "output_type": "stream",
     "text": [
      "? Dashboard HTML subido a: s3://proyectointegrador1017/dashboard/dashboard.html"
     ]
    }
   ],
   "source": [
    "\n",
    "\n",
    "<html>\n",
    "<head><meta charset=\"utf-8\"><title>Dashboard Refined</title></head>\n",
    "<body style=\"font-family:Arial,sans-serif; padding:20px;\">\n",
    "  <h1>Dashboard de Predicciones (Refined)</h1>\n",
    "  <div>                        <script type=\"text/javascript\">window.PlotlyConfig = {MathJaxConfig: 'local'};</script>\n",
    "        <script charset=\"utf-8\" src=\"https://cdn.plot.ly/plotly-3.0.1.min.js\"></script>                <div id=\"778df294-aceb-4372-870b-a985b86c8372\" class=\"plotly-graph-div\" style=\"height:100%; width:100%;\"></div>            <script type=\"text/javascript\">                window.PLOTLYENV=window.PLOTLYENV || {};                                if (document.getElementById(\"778df294-aceb-4372-870b-a985b86c8372\")) {                    Plotly.newPlot(                        \"778df294-aceb-4372-870b-a985b86c8372\",                        [{\"hovertemplate\":\"Categor?a=%{x}\\u003cbr\\u003eCantidad=%{y}\\u003cextra\\u003e\\u003c\\u002fextra\\u003e\",\"legendgroup\":\"\",\"marker\":{\"color\":\"#636efa\",\"pattern\":{\"shape\":\"\"}},\"name\":\"\",\"orientation\":\"v\",\"showlegend\":false,\"textposition\":\"auto\",\"x\":{\"dtype\":\"i4\",\"bdata\":\"AAAAAAEAAAACAAAA\"},\"xaxis\":\"x\",\"y\":{\"dtype\":\"i2\",\"bdata\":\"6QbXBJIA\"},\"yaxis\":\"y\",\"type\":\"bar\"}],                        {\"template\":{\"data\":{\"histogram2dcontour\":[{\"type\":\"histogram2dcontour\",\"colorbar\":{\"outlinewidth\":0,\"ticks\":\"\"},\"colorscale\":[[0.0,\"#0d0887\"],[0.1111111111111111,\"#46039f\"],[0.2222222222222222,\"#7201a8\"],[0.3333333333333333,\"#9c179e\"],[0.4444444444444444,\"#bd3786\"],[0.5555555555555556,\"#d8576b\"],[0.6666666666666666,\"#ed7953\"],[0.7777777777777778,\"#fb9f3a\"],[0.8888888888888888,\"#fdca26\"],[1.0,\"#f0f921\"]]}],\"choropleth\":[{\"type\":\"choropleth\",\"colorbar\":{\"outlinewidth\":0,\"ticks\":\"\"}}],\"histogram2d\":[{\"type\":\"histogram2d\",\"colorbar\":{\"outlinewidth\":0,\"ticks\":\"\"},\"colorscale\":[[0.0,\"#0d0887\"],[0.1111111111111111,\"#46039f\"],[0.2222222222222222,\"#7201a8\"],[0.3333333333333333,\"#9c179e\"],[0.4444444444444444,\"#bd3786\"],[0.5555555555555556,\"#d8576b\"],[0.6666666666666666,\"#ed7953\"],[0.7777777777777778,\"#fb9f3a\"],[0.8888888888888888,\"#fdca26\"],[1.0,\"#f0f921\"]]}],\"heatmap\":[{\"type\":\"heatmap\",\"colorbar\":{\"outlinewidth\":0,\"ticks\":\"\"},\"colorscale\":[[0.0,\"#0d0887\"],[0.1111111111111111,\"#46039f\"],[0.2222222222222222,\"#7201a8\"],[0.3333333333333333,\"#9c179e\"],[0.4444444444444444,\"#bd3786\"],[0.5555555555555556,\"#d8576b\"],[0.6666666666666666,\"#ed7953\"],[0.7777777777777778,\"#fb9f3a\"],[0.8888888888888888,\"#fdca26\"],[1.0,\"#f0f921\"]]}],\"contourcarpet\":[{\"type\":\"contourcarpet\",\"colorbar\":{\"outlinewidth\":0,\"ticks\":\"\"}}],\"contour\":[{\"type\":\"contour\",\"colorbar\":{\"outlinewidth\":0,\"ticks\":\"\"},\"colorscale\":[[0.0,\"#0d0887\"],[0.1111111111111111,\"#46039f\"],[0.2222222222222222,\"#7201a8\"],[0.3333333333333333,\"#9c179e\"],[0.4444444444444444,\"#bd3786\"],[0.5555555555555556,\"#d8576b\"],[0.6666666666666666,\"#ed7953\"],[0.7777777777777778,\"#fb9f3a\"],[0.8888888888888888,\"#fdca26\"],[1.0,\"#f0f921\"]]}],\"surface\":[{\"type\":\"surface\",\"colorbar\":{\"outlinewidth\":0,\"ticks\":\"\"},\"colorscale\":[[0.0,\"#0d0887\"],[0.1111111111111111,\"#46039f\"],[0.2222222222222222,\"#7201a8\"],[0.3333333333333333,\"#9c179e\"],[0.4444444444444444,\"#bd3786\"],[0.5555555555555556,\"#d8576b\"],[0.6666666666666666,\"#ed7953\"],[0.7777777777777778,\"#fb9f3a\"],[0.8888888888888888,\"#fdca26\"],[1.0,\"#f0f921\"]]}],\"mesh3d\":[{\"type\":\"mesh3d\",\"colorbar\":{\"outlinewidth\":0,\"ticks\":\"\"}}],\"scatter\":[{\"fillpattern\":{\"fillmode\":\"overlay\",\"size\":10,\"solidity\":0.2},\"type\":\"scatter\"}],\"parcoords\":[{\"type\":\"parcoords\",\"line\":{\"colorbar\":{\"outlinewidth\":0,\"ticks\":\"\"}}}],\"scatterpolargl\":[{\"type\":\"scatterpolargl\",\"marker\":{\"colorbar\":{\"outlinewidth\":0,\"ticks\":\"\"}}}],\"bar\":[{\"error_x\":{\"color\":\"#2a3f5f\"},\"error_y\":{\"color\":\"#2a3f5f\"},\"marker\":{\"line\":{\"color\":\"#E5ECF6\",\"width\":0.5},\"pattern\":{\"fillmode\":\"overlay\",\"size\":10,\"solidity\":0.2}},\"type\":\"bar\"}],\"scattergeo\":[{\"type\":\"scattergeo\",\"marker\":{\"colorbar\":{\"outlinewidth\":0,\"ticks\":\"\"}}}],\"scatterpolar\":[{\"type\":\"scatterpolar\",\"marker\":{\"colorbar\":{\"outlinewidth\":0,\"ticks\":\"\"}}}],\"histogram\":[{\"marker\":{\"pattern\":{\"fillmode\":\"overlay\",\"size\":10,\"solidity\":0.2}},\"type\":\"histogram\"}],\"scattergl\":[{\"type\":\"scattergl\",\"marker\":{\"colorbar\":{\"outlinewidth\":0,\"ticks\":\"\"}}}],\"scatter3d\":[{\"type\":\"scatter3d\",\"line\":{\"colorbar\":{\"outlinewidth\":0,\"ticks\":\"\"}},\"marker\":{\"colorbar\":{\"outlinewidth\":0,\"ticks\":\"\"}}}],\"scattermap\":[{\"type\":\"scattermap\",\"marker\":{\"colorbar\":{\"outlinewidth\":0,\"ticks\":\"\"}}}],\"scattermapbox\":[{\"type\":\"scattermapbox\",\"marker\":{\"colorbar\":{\"outlinewidth\":0,\"ticks\":\"\"}}}],\"scatterternary\":[{\"type\":\"scatterternary\",\"marker\":{\"colorbar\":{\"outlinewidth\":0,\"ticks\":\"\"}}}],\"scattercarpet\":[{\"type\":\"scattercarpet\",\"marker\":{\"colorbar\":{\"outlinewidth\":0,\"ticks\":\"\"}}}],\"carpet\":[{\"aaxis\":{\"endlinecolor\":\"#2a3f5f\",\"gridcolor\":\"white\",\"linecolor\":\"white\",\"minorgridcolor\":\"white\",\"startlinecolor\":\"#2a3f5f\"},\"baxis\":{\"endlinecolor\":\"#2a3f5f\",\"gridcolor\":\"white\",\"linecolor\":\"white\",\"minorgridcolor\":\"white\",\"startlinecolor\":\"#2a3f5f\"},\"type\":\"carpet\"}],\"table\":[{\"cells\":{\"fill\":{\"color\":\"#EBF0F8\"},\"line\":{\"color\":\"white\"}},\"header\":{\"fill\":{\"color\":\"#C8D4E3\"},\"line\":{\"color\":\"white\"}},\"type\":\"table\"}],\"barpolar\":[{\"marker\":{\"line\":{\"color\":\"#E5ECF6\",\"width\":0.5},\"pattern\":{\"fillmode\":\"overlay\",\"size\":10,\"solidity\":0.2}},\"type\":\"barpolar\"}],\"pie\":[{\"automargin\":true,\"type\":\"pie\"}]},\"layout\":{\"autotypenumbers\":\"strict\",\"colorway\":[\"#636efa\",\"#EF553B\",\"#00cc96\",\"#ab63fa\",\"#FFA15A\",\"#19d3f3\",\"#FF6692\",\"#B6E880\",\"#FF97FF\",\"#FECB52\"],\"font\":{\"color\":\"#2a3f5f\"},\"hovermode\":\"closest\",\"hoverlabel\":{\"align\":\"left\"},\"paper_bgcolor\":\"white\",\"plot_bgcolor\":\"#E5ECF6\",\"polar\":{\"bgcolor\":\"#E5ECF6\",\"angularaxis\":{\"gridcolor\":\"white\",\"linecolor\":\"white\",\"ticks\":\"\"},\"radialaxis\":{\"gridcolor\":\"white\",\"linecolor\":\"white\",\"ticks\":\"\"}},\"ternary\":{\"bgcolor\":\"#E5ECF6\",\"aaxis\":{\"gridcolor\":\"white\",\"linecolor\":\"white\",\"ticks\":\"\"},\"baxis\":{\"gridcolor\":\"white\",\"linecolor\":\"white\",\"ticks\":\"\"},\"caxis\":{\"gridcolor\":\"white\",\"linecolor\":\"white\",\"ticks\":\"\"}},\"coloraxis\":{\"colorbar\":{\"outlinewidth\":0,\"ticks\":\"\"}},\"colorscale\":{\"sequential\":[[0.0,\"#0d0887\"],[0.1111111111111111,\"#46039f\"],[0.2222222222222222,\"#7201a8\"],[0.3333333333333333,\"#9c179e\"],[0.4444444444444444,\"#bd3786\"],[0.5555555555555556,\"#d8576b\"],[0.6666666666666666,\"#ed7953\"],[0.7777777777777778,\"#fb9f3a\"],[0.8888888888888888,\"#fdca26\"],[1.0,\"#f0f921\"]],\"sequentialminus\":[[0.0,\"#0d0887\"],[0.1111111111111111,\"#46039f\"],[0.2222222222222222,\"#7201a8\"],[0.3333333333333333,\"#9c179e\"],[0.4444444444444444,\"#bd3786\"],[0.5555555555555556,\"#d8576b\"],[0.6666666666666666,\"#ed7953\"],[0.7777777777777778,\"#fb9f3a\"],[0.8888888888888888,\"#fdca26\"],[1.0,\"#f0f921\"]],\"diverging\":[[0,\"#8e0152\"],[0.1,\"#c51b7d\"],[0.2,\"#de77ae\"],[0.3,\"#f1b6da\"],[0.4,\"#fde0ef\"],[0.5,\"#f7f7f7\"],[0.6,\"#e6f5d0\"],[0.7,\"#b8e186\"],[0.8,\"#7fbc41\"],[0.9,\"#4d9221\"],[1,\"#276419\"]]},\"xaxis\":{\"gridcolor\":\"white\",\"linecolor\":\"white\",\"ticks\":\"\",\"title\":{\"standoff\":15},\"zerolinecolor\":\"white\",\"automargin\":true,\"zerolinewidth\":2},\"yaxis\":{\"gridcolor\":\"white\",\"linecolor\":\"white\",\"ticks\":\"\",\"title\":{\"standoff\":15},\"zerolinecolor\":\"white\",\"automargin\":true,\"zerolinewidth\":2},\"scene\":{\"xaxis\":{\"backgroundcolor\":\"#E5ECF6\",\"gridcolor\":\"white\",\"linecolor\":\"white\",\"showbackground\":true,\"ticks\":\"\",\"zerolinecolor\":\"white\",\"gridwidth\":2},\"yaxis\":{\"backgroundcolor\":\"#E5ECF6\",\"gridcolor\":\"white\",\"linecolor\":\"white\",\"showbackground\":true,\"ticks\":\"\",\"zerolinecolor\":\"white\",\"gridwidth\":2},\"zaxis\":{\"backgroundcolor\":\"#E5ECF6\",\"gridcolor\":\"white\",\"linecolor\":\"white\",\"showbackground\":true,\"ticks\":\"\",\"zerolinecolor\":\"white\",\"gridwidth\":2}},\"shapedefaults\":{\"line\":{\"color\":\"#2a3f5f\"}},\"annotationdefaults\":{\"arrowcolor\":\"#2a3f5f\",\"arrowhead\":0,\"arrowwidth\":1},\"geo\":{\"bgcolor\":\"white\",\"landcolor\":\"#E5ECF6\",\"subunitcolor\":\"white\",\"showland\":true,\"showlakes\":true,\"lakecolor\":\"white\"},\"title\":{\"x\":0.05},\"mapbox\":{\"style\":\"light\"}}},\"xaxis\":{\"anchor\":\"y\",\"domain\":[0.0,1.0],\"title\":{\"text\":\"Categor?a\"}},\"yaxis\":{\"anchor\":\"x\",\"domain\":[0.0,1.0],\"title\":{\"text\":\"Cantidad\"}},\"legend\":{\"tracegroupgap\":0},\"title\":{\"text\":\"Distribuci?n de Categor?as de Evento\"},\"barmode\":\"relative\"},                        {\"responsive\": true}                    )                };            </script>        </div><div>                            <div id=\"ef58f75f-648a-4bc9-9cc9-36aba7d184c7\" class=\"plotly-graph-div\" style=\"height:100%; width:100%;\"></div>            <script type=\"text/javascript\">                window.PLOTLYENV=window.PLOTLYENV || {};                                if (document.getElementById(\"ef58f75f-648a-4bc9-9cc9-36aba7d184c7\")) {                    Plotly.newPlot(                        \"ef58f75f-648a-4bc9-9cc9-36aba7d184c7\",                        [{\"hovertemplate\":\"Evento=%{x}\\u003cbr\\u003eCantidad=%{y}\\u003cextra\\u003e\\u003c\\u002fextra\\u003e\",\"legendgroup\":\"\",\"marker\":{\"color\":\"#636efa\",\"pattern\":{\"shape\":\"\"}},\"name\":\"\",\"orientation\":\"v\",\"showlegend\":false,\"textposition\":\"auto\",\"x\":[\"Normal\",\"Anomalia\",\"No revisado\"],\"xaxis\":\"x\",\"y\":{\"dtype\":\"i2\",\"bdata\":\"6QbXBJIA\"},\"yaxis\":\"y\",\"type\":\"bar\"}],                        {\"template\":{\"data\":{\"histogram2dcontour\":[{\"type\":\"histogram2dcontour\",\"colorbar\":{\"outlinewidth\":0,\"ticks\":\"\"},\"colorscale\":[[0.0,\"#0d0887\"],[0.1111111111111111,\"#46039f\"],[0.2222222222222222,\"#7201a8\"],[0.3333333333333333,\"#9c179e\"],[0.4444444444444444,\"#bd3786\"],[0.5555555555555556,\"#d8576b\"],[0.6666666666666666,\"#ed7953\"],[0.7777777777777778,\"#fb9f3a\"],[0.8888888888888888,\"#fdca26\"],[1.0,\"#f0f921\"]]}],\"choropleth\":[{\"type\":\"choropleth\",\"colorbar\":{\"outlinewidth\":0,\"ticks\":\"\"}}],\"histogram2d\":[{\"type\":\"histogram2d\",\"colorbar\":{\"outlinewidth\":0,\"ticks\":\"\"},\"colorscale\":[[0.0,\"#0d0887\"],[0.1111111111111111,\"#46039f\"],[0.2222222222222222,\"#7201a8\"],[0.3333333333333333,\"#9c179e\"],[0.4444444444444444,\"#bd3786\"],[0.5555555555555556,\"#d8576b\"],[0.6666666666666666,\"#ed7953\"],[0.7777777777777778,\"#fb9f3a\"],[0.8888888888888888,\"#fdca26\"],[1.0,\"#f0f921\"]]}],\"heatmap\":[{\"type\":\"heatmap\",\"colorbar\":{\"outlinewidth\":0,\"ticks\":\"\"},\"colorscale\":[[0.0,\"#0d0887\"],[0.1111111111111111,\"#46039f\"],[0.2222222222222222,\"#7201a8\"],[0.3333333333333333,\"#9c179e\"],[0.4444444444444444,\"#bd3786\"],[0.5555555555555556,\"#d8576b\"],[0.6666666666666666,\"#ed7953\"],[0.7777777777777778,\"#fb9f3a\"],[0.8888888888888888,\"#fdca26\"],[1.0,\"#f0f921\"]]}],\"contourcarpet\":[{\"type\":\"contourcarpet\",\"colorbar\":{\"outlinewidth\":0,\"ticks\":\"\"}}],\"contour\":[{\"type\":\"contour\",\"colorbar\":{\"outlinewidth\":0,\"ticks\":\"\"},\"colorscale\":[[0.0,\"#0d0887\"],[0.1111111111111111,\"#46039f\"],[0.2222222222222222,\"#7201a8\"],[0.3333333333333333,\"#9c179e\"],[0.4444444444444444,\"#bd3786\"],[0.5555555555555556,\"#d8576b\"],[0.6666666666666666,\"#ed7953\"],[0.7777777777777778,\"#fb9f3a\"],[0.8888888888888888,\"#fdca26\"],[1.0,\"#f0f921\"]]}],\"surface\":[{\"type\":\"surface\",\"colorbar\":{\"outlinewidth\":0,\"ticks\":\"\"},\"colorscale\":[[0.0,\"#0d0887\"],[0.1111111111111111,\"#46039f\"],[0.2222222222222222,\"#7201a8\"],[0.3333333333333333,\"#9c179e\"],[0.4444444444444444,\"#bd3786\"],[0.5555555555555556,\"#d8576b\"],[0.6666666666666666,\"#ed7953\"],[0.7777777777777778,\"#fb9f3a\"],[0.8888888888888888,\"#fdca26\"],[1.0,\"#f0f921\"]]}],\"mesh3d\":[{\"type\":\"mesh3d\",\"colorbar\":{\"outlinewidth\":0,\"ticks\":\"\"}}],\"scatter\":[{\"fillpattern\":{\"fillmode\":\"overlay\",\"size\":10,\"solidity\":0.2},\"type\":\"scatter\"}],\"parcoords\":[{\"type\":\"parcoords\",\"line\":{\"colorbar\":{\"outlinewidth\":0,\"ticks\":\"\"}}}],\"scatterpolargl\":[{\"type\":\"scatterpolargl\",\"marker\":{\"colorbar\":{\"outlinewidth\":0,\"ticks\":\"\"}}}],\"bar\":[{\"error_x\":{\"color\":\"#2a3f5f\"},\"error_y\":{\"color\":\"#2a3f5f\"},\"marker\":{\"line\":{\"color\":\"#E5ECF6\",\"width\":0.5},\"pattern\":{\"fillmode\":\"overlay\",\"size\":10,\"solidity\":0.2}},\"type\":\"bar\"}],\"scattergeo\":[{\"type\":\"scattergeo\",\"marker\":{\"colorbar\":{\"outlinewidth\":0,\"ticks\":\"\"}}}],\"scatterpolar\":[{\"type\":\"scatterpolar\",\"marker\":{\"colorbar\":{\"outlinewidth\":0,\"ticks\":\"\"}}}],\"histogram\":[{\"marker\":{\"pattern\":{\"fillmode\":\"overlay\",\"size\":10,\"solidity\":0.2}},\"type\":\"histogram\"}],\"scattergl\":[{\"type\":\"scattergl\",\"marker\":{\"colorbar\":{\"outlinewidth\":0,\"ticks\":\"\"}}}],\"scatter3d\":[{\"type\":\"scatter3d\",\"line\":{\"colorbar\":{\"outlinewidth\":0,\"ticks\":\"\"}},\"marker\":{\"colorbar\":{\"outlinewidth\":0,\"ticks\":\"\"}}}],\"scattermap\":[{\"type\":\"scattermap\",\"marker\":{\"colorbar\":{\"outlinewidth\":0,\"ticks\":\"\"}}}],\"scattermapbox\":[{\"type\":\"scattermapbox\",\"marker\":{\"colorbar\":{\"outlinewidth\":0,\"ticks\":\"\"}}}],\"scatterternary\":[{\"type\":\"scatterternary\",\"marker\":{\"colorbar\":{\"outlinewidth\":0,\"ticks\":\"\"}}}],\"scattercarpet\":[{\"type\":\"scattercarpet\",\"marker\":{\"colorbar\":{\"outlinewidth\":0,\"ticks\":\"\"}}}],\"carpet\":[{\"aaxis\":{\"endlinecolor\":\"#2a3f5f\",\"gridcolor\":\"white\",\"linecolor\":\"white\",\"minorgridcolor\":\"white\",\"startlinecolor\":\"#2a3f5f\"},\"baxis\":{\"endlinecolor\":\"#2a3f5f\",\"gridcolor\":\"white\",\"linecolor\":\"white\",\"minorgridcolor\":\"white\",\"startlinecolor\":\"#2a3f5f\"},\"type\":\"carpet\"}],\"table\":[{\"cells\":{\"fill\":{\"color\":\"#EBF0F8\"},\"line\":{\"color\":\"white\"}},\"header\":{\"fill\":{\"color\":\"#C8D4E3\"},\"line\":{\"color\":\"white\"}},\"type\":\"table\"}],\"barpolar\":[{\"marker\":{\"line\":{\"color\":\"#E5ECF6\",\"width\":0.5},\"pattern\":{\"fillmode\":\"overlay\",\"size\":10,\"solidity\":0.2}},\"type\":\"barpolar\"}],\"pie\":[{\"automargin\":true,\"type\":\"pie\"}]},\"layout\":{\"autotypenumbers\":\"strict\",\"colorway\":[\"#636efa\",\"#EF553B\",\"#00cc96\",\"#ab63fa\",\"#FFA15A\",\"#19d3f3\",\"#FF6692\",\"#B6E880\",\"#FF97FF\",\"#FECB52\"],\"font\":{\"color\":\"#2a3f5f\"},\"hovermode\":\"closest\",\"hoverlabel\":{\"align\":\"left\"},\"paper_bgcolor\":\"white\",\"plot_bgcolor\":\"#E5ECF6\",\"polar\":{\"bgcolor\":\"#E5ECF6\",\"angularaxis\":{\"gridcolor\":\"white\",\"linecolor\":\"white\",\"ticks\":\"\"},\"radialaxis\":{\"gridcolor\":\"white\",\"linecolor\":\"white\",\"ticks\":\"\"}},\"ternary\":{\"bgcolor\":\"#E5ECF6\",\"aaxis\":{\"gridcolor\":\"white\",\"linecolor\":\"white\",\"ticks\":\"\"},\"baxis\":{\"gridcolor\":\"white\",\"linecolor\":\"white\",\"ticks\":\"\"},\"caxis\":{\"gridcolor\":\"white\",\"linecolor\":\"white\",\"ticks\":\"\"}},\"coloraxis\":{\"colorbar\":{\"outlinewidth\":0,\"ticks\":\"\"}},\"colorscale\":{\"sequential\":[[0.0,\"#0d0887\"],[0.1111111111111111,\"#46039f\"],[0.2222222222222222,\"#7201a8\"],[0.3333333333333333,\"#9c179e\"],[0.4444444444444444,\"#bd3786\"],[0.5555555555555556,\"#d8576b\"],[0.6666666666666666,\"#ed7953\"],[0.7777777777777778,\"#fb9f3a\"],[0.8888888888888888,\"#fdca26\"],[1.0,\"#f0f921\"]],\"sequentialminus\":[[0.0,\"#0d0887\"],[0.1111111111111111,\"#46039f\"],[0.2222222222222222,\"#7201a8\"],[0.3333333333333333,\"#9c179e\"],[0.4444444444444444,\"#bd3786\"],[0.5555555555555556,\"#d8576b\"],[0.6666666666666666,\"#ed7953\"],[0.7777777777777778,\"#fb9f3a\"],[0.8888888888888888,\"#fdca26\"],[1.0,\"#f0f921\"]],\"diverging\":[[0,\"#8e0152\"],[0.1,\"#c51b7d\"],[0.2,\"#de77ae\"],[0.3,\"#f1b6da\"],[0.4,\"#fde0ef\"],[0.5,\"#f7f7f7\"],[0.6,\"#e6f5d0\"],[0.7,\"#b8e186\"],[0.8,\"#7fbc41\"],[0.9,\"#4d9221\"],[1,\"#276419\"]]},\"xaxis\":{\"gridcolor\":\"white\",\"linecolor\":\"white\",\"ticks\":\"\",\"title\":{\"standoff\":15},\"zerolinecolor\":\"white\",\"automargin\":true,\"zerolinewidth\":2},\"yaxis\":{\"gridcolor\":\"white\",\"linecolor\":\"white\",\"ticks\":\"\",\"title\":{\"standoff\":15},\"zerolinecolor\":\"white\",\"automargin\":true,\"zerolinewidth\":2},\"scene\":{\"xaxis\":{\"backgroundcolor\":\"#E5ECF6\",\"gridcolor\":\"white\",\"linecolor\":\"white\",\"showbackground\":true,\"ticks\":\"\",\"zerolinecolor\":\"white\",\"gridwidth\":2},\"yaxis\":{\"backgroundcolor\":\"#E5ECF6\",\"gridcolor\":\"white\",\"linecolor\":\"white\",\"showbackground\":true,\"ticks\":\"\",\"zerolinecolor\":\"white\",\"gridwidth\":2},\"zaxis\":{\"backgroundcolor\":\"#E5ECF6\",\"gridcolor\":\"white\",\"linecolor\":\"white\",\"showbackground\":true,\"ticks\":\"\",\"zerolinecolor\":\"white\",\"gridwidth\":2}},\"shapedefaults\":{\"line\":{\"color\":\"#2a3f5f\"}},\"annotationdefaults\":{\"arrowcolor\":\"#2a3f5f\",\"arrowhead\":0,\"arrowwidth\":1},\"geo\":{\"bgcolor\":\"white\",\"landcolor\":\"#E5ECF6\",\"subunitcolor\":\"white\",\"showland\":true,\"showlakes\":true,\"lakecolor\":\"white\"},\"title\":{\"x\":0.05},\"mapbox\":{\"style\":\"light\"}}},\"xaxis\":{\"anchor\":\"y\",\"domain\":[0.0,1.0],\"title\":{\"text\":\"Evento\"}},\"yaxis\":{\"anchor\":\"x\",\"domain\":[0.0,1.0],\"title\":{\"text\":\"Cantidad\"}},\"legend\":{\"tracegroupgap\":0},\"title\":{\"text\":\"Top?5 Eventos M?s Frecuentes\"},\"barmode\":\"relative\"},                        {\"responsive\": true}                    )                };            </script>        </div><div>                            <div id=\"1e917ba1-599b-47ef-b3bd-bbed133d6e74\" class=\"plotly-graph-div\" style=\"height:100%; width:100%;\"></div>            <script type=\"text/javascript\">                window.PLOTLYENV=window.PLOTLYENV || {};                                if (document.getElementById(\"1e917ba1-599b-47ef-b3bd-bbed133d6e74\")) {                    Plotly.newPlot(                        \"1e917ba1-599b-47ef-b3bd-bbed133d6e74\",                        [{\"bingroup\":\"x\",\"hovertemplate\":\"Longitud de Observaci?n=%{x}\\u003cbr\\u003ecount=%{y}\\u003cextra\\u003e\\u003c\\u002fextra\\u003e\",\"legendgroup\":\"\",\"marker\":{\"color\":\"#636efa\",\"pattern\":{\"shape\":\"\"}},\"name\":\"\",\"nbinsx\":20,\"orientation\":\"v\",\"showlegend\":false,\"x\":{\"dtype\":\"i2\",\"bdata\":\"lwCNAccBbQEwAboB3ACtARQB4wFgAZ4BcwFxAuQAFALVAaEBXwGgAR0B9wCuAcUA7gFVAQYBfwFLAlkBFQFEAfYAUwGzARcCXgG+AOcBlwFyAUIB7AB\\u002fAVgC+ACtABcCcwK4AZUBPAGTAVAB8ABfAQgBRwEcARkBYgDiAVUB9AB1AccAXAFTAYcBVAEbAYgBkAFPAa4BIAE1AR0B0QE9AT4B9gAsAfICFAEHAJMB3gJHAVkCAQJ7AeUAbgGXAcgBkwGuAuIBIwFfAXkBygErAfwAYAGDAYIBewFSATcCMAH3ARcCoAF\\u002fAQcBGgGMAVwBeQGJAbUB5QFJA6EBbAHvADABIQGyAWgBYAEVAXsBHAGiAUUBpQG4AaEBYwHIAVMBpgFVAbkBBwHyAdwBhgHCAR0CcAEyAasBTQEgASIBlAF1ASwCHALdATUBhwHmAOkAlwD5AO8AVQGaAS4CLgEBAT8BXgGoAZ0BBAEzAUsBQgFMAUIBfQFWAQgBvAEuATkBQwHiAAoBewGLASMB0gGJARcBUAEBAnIAXQHIAToBPwFTAfwANwEHAIIBfAHuAC4BegE0AW4BVAFyAVsBvAAmAREB+wAGAmIAIgKAAaABzgGoAUoB6ABoAakB5wC1AawBGQI\\u002fAeQB8QHiAUgBIgEfAVcBygJjAXcBmwD\\u002fAVcBMAF8ARYBEgI+AcMBHQFFAoIBqwESAXIAiAFZAYkCtAE0AfUA7AC8AVsBZAHWACQBrQKQAaUBcAEzAZcBpwF8AgcAgQHOAU8BaQHkAAICuAGyAg0BmAEbAmIAcwEEAdoBQQFPAdEB7wC+AhABEgEQApYBnAHLAZgBRgHVANIBCgJnAOgBHgGEARABeAIUAmEB1gEmATAChALMAO0AOAFMATcBSQHaAW8BRAFNAWEBqgFGAfoAdAF1AacBDQFhAacB7wCRARMBHQEiAYEBEwEVAXMBxwBIAfIAYgFmAV4BUAJVAWEBbwGuAYQB9wD5AbsBGgEcAYIBpgGuAaIBhAFVAhkBsgESAZoBHgI4Aa8BCALlAFkBpgHPACcBNgF9AU8B6AAIAT0BBwAQAiIBoQFFAWgBFAF4ARwCfQGLAdYBMAE2AVMBkQEIAqMBRwElAjkBYQFCAQwBxgF4AcUBeAG2ARgCUwEKAmIBfAGBAT0BWAGdAbUAAAH7AIYBCAH9AAcAVgEWAWIAyABMAQwBVAEdAfIACgF4AYMBUAHdABYBDQE0AXMBmgApAcgBjQGGAfYATwGsAf8BVgH5AKkBKgEEAJEAdAENAUIBjQF4ASoB6wBeAQQCRQGsAgUB+AAGAeABWAFEAmYB\\u002fAD5AOIB4gB5AW8BIwGgAZ8BwgETAWQBlQF\\u002fAosBGwEXArwBiwKwAYsDdgEQAeIBDwF6AbEBKgH4APYAowEGAewB4QAPAugBywEJAZoBHQGjARIBHwFVAQkBMwFfAYkCKwKjAjQBmQFIAfMBgQEZAUUBMgE1AbYB9ACUAUYCRQHjAH0BjAFtAYsBTgGSAXUBCQFiACcBCQFyAUQBogGZAnMBfAH6ALMB2AH7AFIByQEAAmIAEQEbAn8BsAFXAfwA9wBnAZEBbgGlAQ4BWwEXAY8BTQCHAbwBjQF5AecBOwF+AWkBXAHPAAMBAgEaAjYBEAHDAGIA7wDkAUgBgQECAvUA4wDmABcEogJUAZwBkQAFAGUBFQKuAQoBeAEHAQsBuAAZAfUAxwEsASYBzwFjAXQBVQOnAoYBGgHZAW4BVQHUADQB8wH3AL8B0AHDAH4BLQJoASkBEQEwAZwB9wDAAVoBWgLZAP8AEwFdATMBcQFeAWABYQFkAkQBawHtAEcBsgHiACIBGQFJAkIBFAFsARQBeQH\\u002fAO0AFQJOAU8BKwFXAYsBQAH4ACcBLAHtADMB1gBUAeQAYAHzAbkBfAE9AfAA6wCnAQYBkgEsAVEB+wB\\u002fAHMBLwHAAYkCfAFdAeIBswHgAQcCdgHiAT0BuABAATYBCAEAANEBJwEbAVUBPAFcAf8BSgKJATcBbQG4ATcBYgCnAUgBcQHpASoCWgF3AfIAhwFMAfsBkwE+AfwA\\u002fgA6AhQBiQH8AKIBIgGPAtMB8QBYAWkAOAKzAcwBdgKOAdQAawGoAWwBHQGyAYABUgI0AeUAlwF\\u002fAf0A9AEnAcgBFwERAQwB6wCKAYwBiADdAHYB+AD5Aa8CagFoAXEBMwEnAlIBBwLQAaQBMwGiAWQBgAFJArABVAEMAQ4BXgFEAV4BRgFyAWIB4gBeAegA8gCGAXwBygEcAQMBPAG9Af8BYAHkAL8BuAEOAU4BuAFHAQcBNgEUAQQBYQJBATsBJQFqAXABmQGoAU8BoQGGAbQBLwE7AQgBKAH1AC4BdQHtAY0BmwHjAQEBjgGlAYABaAL+AGgBSQI8AYsBnQH8AIMBPQEGAX4BrwFRAdcAJQEdAdABKAFnAYcBugHdAXEBCQGVAQoBmQHcAF4BQQE\\u002fAekBBQGdAAgBOgH1AJYBMgIbAYEBIwGUAeEBKgEgAVoCNAFEAvwAJgFIAbUBHwE9AUIBUgEuAUUBcwJ2AWcBEAE4AVcBsQCkAU0BRQGBAVUBLQGaARsBQQE1AQ0BKgFzAXgCHAEuAWIBAAFBAXIBZAKcASMBbgFrASMCJgIwAYYBNwEXARcB5wGQATcB4gA2ATkB3wABATEBVwFgAc8BpAE4AWABcAGUASoBiwFuAUUB0gBKAe8AbQHCAXEBawJiAAEBRgE8AXcBZAEqATkBegHGAAsBtwFrAVoAEQH\\u002fAAsBYgC2AXUB\\u002fgC1AQcBMQHtAY8BbgEYAWQBlQEFAUQB9AB7AVsB5wDtAhwBYgB6AXgBWgE7AXkBawHiAIIBuQEfAa8BJQFyAasBeAEfAgMCmwGxAUQBJQEfAYQB3QGpAXQBVQGNAS4BxwAWAe8ATgE3AZABigFHAc0BSQJ9AZQBJQE+ASwCtAFAARMCzgJeAcsAswEXARMBgQJrAVEBGAFAAZ8BbgErAfwAoAFQAWIALgE0AU4BQwFPASoBMgFiAUkBpAECAT0BSQEvAREBLAF\\u002fATcBGAH0AT0BFAG\\u002fAPwAYAHfAQwBXQFqAf0AFQLPAWEB4QGcAWcBggG8AasBvgC5AUIBOgHnAFgBQgFsAeAArAFmAW4BuQGoASEBlQH6AToBpgEiAbkBWgEZAVQB5ABfASECLwFOAc4A0AG9AfUBSgE\\u002fAT8BcwG2ALEBBwEZAVYBfwFnAiIBQgEoAv8BdQE4AdgBjgHCARYCqwGOAUoBdAGsAekBpAGNAeoBHwGXAYYBzQBoAeEBVQHoABwBrgETAY0BzQG4AWkAAQEBATcBuwFEAQ0BKwHSAa0BggGnAa8B4QAXAQQBDAFIAYkBcwEbAR0BPwEmAm0BNAHIARABtQHGATQBlgG+AUcBrgEpAeMB5gGtAbUBIgGEAe0BPAGkAb0AgAGHAcQBowErAYEBHwLoAdcAZACgAb0ClgFTAfUAPwE6AfUAMQGAARgBLwG3AfYASQHXAoUB5AASAQ8BiQFLASICFwHJARYC5QFRAXcBnQFkAWQBZAEcAgUC\\u002fgCXARoBGQIcAYkBlgFnAT4BJQKNAlcB2gFtAA8BEwFmAWIAGwE\\u002fAUIBqAIiAqsBEgGNAW0BhgFQAYEB9gE4Aa8BNAHsALAB2gFqARACLAE4AQcAfAGJAQABTAFYAS8BDwLNAYABDwEEAi8BeAFoASoBOAIPAksB3gEBAS0BaAF+ARgB7AFSAVECVAFjAfgA2AAbAkABQgHEABACSwGJAVoBIQHxAAkBfgK5AXcAwgEzATAB5AAkAX0BmgGvAUoBDAGkAUoBjgGXAfgALgEcAlsBGAFuAUwBXwHYADQBtAFgAQ0BnQFiAU8BjQH2AWIBbwHUAR8BjgEQAaUB6gEUAWoBKwGOAbYAgwEjAdgAGALWAYYBXQF0AXoBtAH4AL0BiAFPAYoBUQFoAYwBBwE9ASQBrgEuAXIB6wCRAb4AWgGxAj0BuAFiAEwBIAF\\u002fAWcBCQHgAA8BNgE+AXsBeAEDAccCAwDTAYkBCQGSAUEBagEHAIYB9ACMAYcBEQKQAVkB8wE4AScBawIeASgB9QGLAU8BTwEPAtQB+AA1AQ4BsAG\\u002fARoCaQEzAQoBVgFMAWYBMgG5AgABOAIXAccBMQGFAScBWQHlAecBDgHsAPkA5gE4AVoBWwEIAcwBYgFlAQUBBALrAWcB6gDhANMBuQHtAX0A9gCMAp4BzgEyAUYBswFVARUBIQJbAUUB7AH\\u002fAPcBTwFJAdIAwAH4ADMBZgJFASYBOwE0AUMBUQG0AaoBXgFaAfsAIwGEAX0BTAHhAZQBVwE1AYICRQFcAakBPwGOAU4B\\u002fABhAW8B7AD7AXoCMgIaAQIBFQISAcQBdQFpAUsBWAGfAWsBTQGkAS4BQgGcAUMB2gA3AacELgJRAT4BWgCGASIBLAGiAQMB6QBRARcB8gACAQgBwAG1AXQBhwFqAeUAxAEYATcBFAGYAFsBigL+AAkCGwGZAU8BbwGSAVQCEgIgAfIBiAHbAOMBxgIAAiYBkgEHAnUBlAElAhQBPQI+AbwBZwG4Ac8A+QHcAC4BHwH0AOYBPAHwABgBYAEeAfABdgFjACIB3AFiATsB2gHAARsCHgFDAucA6wAjAR8CDQEzAfwAXwFUASYBkAH+AmABWQHQAXkBNQE\\u002fAuAAEgITARgBcgJEAfIBZAEBASsB5ABiAAcBugHjACsBFAHCAdcBuAFAAqkB6QJ4AQACIwFKAUIBwQLGAUIBzQFmAdoBhAJMAYgB1gAbAQkCegF5AkIB6wFJAXQABAA2AYEBDQIdAfsA+wHDASUBjwFKAfUAFwHbAFkBeAGzAY0A6wFxAQ4BAwLoAS8BOgGgAzIBOgHeAB0CTwG5AUYBqwFCAQMBtgFlARUBeQEgAS4BOwE9AiwB7gCVAesC7wAaAf8ABAGRAd4BFwEkAREBSQIbARYBdAFLAeQBagLfAIMBygF7AXQDTQGDAQsBPwFKASsBHQGOATEBIAIlAY0BAgJNAcgB3AHwAa4BPAE+AW8BDgFGATkB8gFPAU4BnwGvAU0BAAE3ATcByAGqAW0BTwGMAeIAkwIIAUABuwEBAWMB0wH1Ac8BOAGRAVwBMgH5AQ0BGAFsAWMBSwFCAQcBYQLlAGYBIAG+ATMBCwGAARIBywHnAfoAXAH3ADcBjwJcAVABkQExAcIB3gA8As0BNAGnAQ8CdAG9AAICRgI0ARwDZQE4AeQAyQAJAcEBcgF6ASIB3wIMAcYA8AEtAVwDDAH6APQA9wGXAWEC9wDxAWIBpwH2AJkBDQFwATcBHgLoAawBGAEpAc8AGAEXAU0BKgH0AOUAWAFUAUkB+gBoAeUA6wBMAXMBpwH1AggCSQEhARgBNgF+AUgBAQEmAXQB6ACLATwBWAGEAZcBVAEvAY8BBQErATUB2wGeARoB2gF2AfkAbAE1AYoB4gH3AU8BxwDWABkBNQLnAREB+ACtARABcQEAAacBcgDZAKgB9gDoAFQBeQFlARICaQFGAVUBzgGLARYBoAFnAREBKgJiAbUB+gBjAmgBGwE3AXsBbwFUAY0BPQFTAXkBiwHXAQgBkQFCAaoB5QBLAY8A8QDVAQsBZwE1AQYB8wBtAQwCDgGbAWwBmAEpAZ8B6AF8AScCbAHzADABeQEYAWEBKAHqAa8B6wHEAW4B9gA6AVACUgFZAdkARQFcARoBtgHxAEkBgQFYAfEA2AAFAT0B0gD7AQkBNgFHAUEBZQFAAWsB3gEwASMBzQGLAVQBXQHSARAB1gAAAAABKQE5Ah8CogEVAucALQEsARoBYwH2ALoA2QCxATwBNwKPATkBPwHnAKMBKgEDAX8C3AAgAd4B2wDiADABSQFQAXIB3gH1ABABwgFUAWcBAwF1AZABagGrAVYBdwFxAQ8BcgLnACoBDQE5AWYB5gF1ARABvgIeAk0CqgF0AXMBvQEXAj0CSgKiAmkBtgAtAQsBIgJPAe4B3QGcAVABuwGZARIB9AC2AVAB+wBPAZcBAQEpASUBuQH9AJABJgEfAf0ApAHJAKcBNQGOAUYBgQHDAnYBjgERAVoBYgEXASEBnQJSAVEBWgE3AVMBogE+AYQBXwHTAYwBfgEsAQICCgF6AWYBUgG\\u002fARkBUwG8AP8ACAFuAQAB8QEcAhwBMQG8AeIB5wBuAXQByAHtAXUBCAF+AQYBjQE7Af0ArQBCAdMBgAEPAOIAhQEgAYQBPwLuAH0BDwGxAQwBEQGVARYBOgFLASUBwQAiATMBdAF3AQQBJwGAAVEBQQNuAdEA6gEjAe4AQQHlAekBhgFiACsBOwGwAcIBjwGDAYoA7QHrAJ4BdQEyATABAAIYAUsBdgHuAAwBcwGDAU0BnQGEAegCiAEJAVQBaAEjATQBngEyAWoBkQEsAScBswElAlQBMwF7ATkBKgHxAOoA\\u002fAHiAHcBtAHPAU0BfgFoARUCNwIRAgcBNAG2AZMA+AAbAU4CkwKjAbIBUwGqAUsB4wBsAe0AkQFBAdYBoAHwAGIBAQH1AAoBZwEeAU8B\\u002fgDyAFYBVAHkAN4B2QFFASYBOwEsAUsBfQEwATQBywFwAcwAVQNZAfcA\\u002fwGLABYBJwF4ARcB6wFZAYgBNgFPATIBsgGZAZYBNQIyAV4BWgG\\u002fAekBWAHSADsBFgFIASYBTwGhAeABkQD9AeUA7wGYAdMASwEvAWUBhQG2AesAGQF5AVIBiwGpARMBugEoAawBRQEMAe4AkwGEAUgBSwF6AcoCCwFTAYwBlwAPAdsA1gDxAUQB+gC9Ab8BRAFxATcB6QHSAJIBUQFMAeMA8AAmAdYA9wAcAQYBDwG7AGQB2AAkATIB2AGCAfwAaQFeAeYA8gCOAOIAcgBQAbIA9QDsAGUBcwGqAX4B+QD5APkA3AEZAQ8B4gHOArsCgQEsAUoBAgEvARcBqwFRADsBMQFSAfgAGAIvAQ8B9QBOAdcAswGzAc8AGwGOAtkBsQIaAoACrQF9AegAjQGMAAEB5QAhAkMBBQHhARIBdgENARkCSQF7AjcB\\u002fwAKAmwB\\u002fQCHAvwAlwAvAVoBfgEwAUIBmgEOASoBIwFcAY0BuwHrAVgBGAJlAbYCCQIfAfQA\\u002fQAhAc0BxwEEARYBagESAbUBHAG4AT0BKAHnAHcBhQH+AAcBWQFOAbIBlQEZAhYBDgGyAVABWQFOAS8B5QBNAaQBAQJLAScBiAH1ACABPwFqAYcBngEJAcsBywF7AXcB2gBTAV4BDQGBARIB5AHzABwBOQFCAWkB9wDmAO0AGwIGAd0BtgFVAfIAQAFNAXIBdQE1AUEBpQEBARAB+QBGASoBFgGBAYEBJgEhAcgB4gDnAC0BBQH8AFIB3gDzABUB+QA4AXsBMwGJAWoBYQFhAX0BIwEiAfgAIAHwAb0AMQITAW4BugBlAYEBEgEEAgoC9wD1AOoBcQHrAUkCQgKKARcBzQFZAjABGgFVASMCFwENAVsB2wBUARwBPwGPARkBfAFTAeQB\\u002fwFbAfEACQEcAUcBXQL3ABABawHmAfAAaAKHAVYBYQH2AFcBtABhASAB5AEyAcsA4wDMAOQArQAxAt0B0wBBAfMBjQFbAQcBBAGfAW4B+QA\\u002fAXIBKwGhAT4CDgEaAWcBwAEAAAAAAAAAAAAAAAAAAAAAAAAAAAAAAAAAAAAAAAAAAAAAAAAAAAAAAAAAAAAAAAAAAAAAAAAAAAAAAAAAAAAAAAAAAAAAAAAAAAAAAAAAAAAAAAAAAAAAAAAAAAAAAAAAAAAAAAAAAAAAAAAAAAAAAAAAAAAAAAAAAAAAAAAAAAAAAAAAAAAAAAAAAAAAAAAAAAAAAAAAAAAAAAAAAAAAAAAAAAAAAAAAAAAAAAAAAAAAAAAAAAAAAAAAAAAAAAAAAAAAAAAAAAAAAAAAAAAAAAAAAAAAAAAAAAAAAAAAAAAAAAAAAAAAAAAAAAAAAAAAAAAAAAAAAAAAAAAAAAAAAAAAAAAAAAAAAAAAAAAAAAAAAAAAAAAAAAAAAAAAAAAAAAAAAAAAAAAAAAAAAAAAAAAAAAAAAAAAAAAAAAAAAAAAAAAAAAAAAAAAAAAAAAAAAAAAAAAAAAAAAAAAAAAAAAAAAAAAAAAAAAAAAAAAAAAAAAAAAAAAAAAAAAAAAAAAAAAAAAAAAAAAAAAAAAAAAAAAAAAAAAAAAAAAAAAAAAAAAAAAAAAAAAAAAAAAAAAAAAAAAAAAAAAAAAAAAAAAAAAAAAAAAAAAAAAAAAAAAAAAAAAAAAAAAAAAAAAAAAAAAAAAAAAAAAAAAAAAAAAAAAAAAAAAAAAAAJsBuQFIARIBHgE3AQIBewHJAfMBgQEiAV4BwwCvAX4COwF4AVQB9AD7AF4B+wDzAPMAPAHZANEA2gDKADEB\\u002fwAjAWEBJwE=\"},\"xaxis\":\"x\",\"yaxis\":\"y\",\"type\":\"histogram\"}],                        {\"template\":{\"data\":{\"histogram2dcontour\":[{\"type\":\"histogram2dcontour\",\"colorbar\":{\"outlinewidth\":0,\"ticks\":\"\"},\"colorscale\":[[0.0,\"#0d0887\"],[0.1111111111111111,\"#46039f\"],[0.2222222222222222,\"#7201a8\"],[0.3333333333333333,\"#9c179e\"],[0.4444444444444444,\"#bd3786\"],[0.5555555555555556,\"#d8576b\"],[0.6666666666666666,\"#ed7953\"],[0.7777777777777778,\"#fb9f3a\"],[0.8888888888888888,\"#fdca26\"],[1.0,\"#f0f921\"]]}],\"choropleth\":[{\"type\":\"choropleth\",\"colorbar\":{\"outlinewidth\":0,\"ticks\":\"\"}}],\"histogram2d\":[{\"type\":\"histogram2d\",\"colorbar\":{\"outlinewidth\":0,\"ticks\":\"\"},\"colorscale\":[[0.0,\"#0d0887\"],[0.1111111111111111,\"#46039f\"],[0.2222222222222222,\"#7201a8\"],[0.3333333333333333,\"#9c179e\"],[0.4444444444444444,\"#bd3786\"],[0.5555555555555556,\"#d8576b\"],[0.6666666666666666,\"#ed7953\"],[0.7777777777777778,\"#fb9f3a\"],[0.8888888888888888,\"#fdca26\"],[1.0,\"#f0f921\"]]}],\"heatmap\":[{\"type\":\"heatmap\",\"colorbar\":{\"outlinewidth\":0,\"ticks\":\"\"},\"colorscale\":[[0.0,\"#0d0887\"],[0.1111111111111111,\"#46039f\"],[0.2222222222222222,\"#7201a8\"],[0.3333333333333333,\"#9c179e\"],[0.4444444444444444,\"#bd3786\"],[0.5555555555555556,\"#d8576b\"],[0.6666666666666666,\"#ed7953\"],[0.7777777777777778,\"#fb9f3a\"],[0.8888888888888888,\"#fdca26\"],[1.0,\"#f0f921\"]]}],\"contourcarpet\":[{\"type\":\"contourcarpet\",\"colorbar\":{\"outlinewidth\":0,\"ticks\":\"\"}}],\"contour\":[{\"type\":\"contour\",\"colorbar\":{\"outlinewidth\":0,\"ticks\":\"\"},\"colorscale\":[[0.0,\"#0d0887\"],[0.1111111111111111,\"#46039f\"],[0.2222222222222222,\"#7201a8\"],[0.3333333333333333,\"#9c179e\"],[0.4444444444444444,\"#bd3786\"],[0.5555555555555556,\"#d8576b\"],[0.6666666666666666,\"#ed7953\"],[0.7777777777777778,\"#fb9f3a\"],[0.8888888888888888,\"#fdca26\"],[1.0,\"#f0f921\"]]}],\"surface\":[{\"type\":\"surface\",\"colorbar\":{\"outlinewidth\":0,\"ticks\":\"\"},\"colorscale\":[[0.0,\"#0d0887\"],[0.1111111111111111,\"#46039f\"],[0.2222222222222222,\"#7201a8\"],[0.3333333333333333,\"#9c179e\"],[0.4444444444444444,\"#bd3786\"],[0.5555555555555556,\"#d8576b\"],[0.6666666666666666,\"#ed7953\"],[0.7777777777777778,\"#fb9f3a\"],[0.8888888888888888,\"#fdca26\"],[1.0,\"#f0f921\"]]}],\"mesh3d\":[{\"type\":\"mesh3d\",\"colorbar\":{\"outlinewidth\":0,\"ticks\":\"\"}}],\"scatter\":[{\"fillpattern\":{\"fillmode\":\"overlay\",\"size\":10,\"solidity\":0.2},\"type\":\"scatter\"}],\"parcoords\":[{\"type\":\"parcoords\",\"line\":{\"colorbar\":{\"outlinewidth\":0,\"ticks\":\"\"}}}],\"scatterpolargl\":[{\"type\":\"scatterpolargl\",\"marker\":{\"colorbar\":{\"outlinewidth\":0,\"ticks\":\"\"}}}],\"bar\":[{\"error_x\":{\"color\":\"#2a3f5f\"},\"error_y\":{\"color\":\"#2a3f5f\"},\"marker\":{\"line\":{\"color\":\"#E5ECF6\",\"width\":0.5},\"pattern\":{\"fillmode\":\"overlay\",\"size\":10,\"solidity\":0.2}},\"type\":\"bar\"}],\"scattergeo\":[{\"type\":\"scattergeo\",\"marker\":{\"colorbar\":{\"outlinewidth\":0,\"ticks\":\"\"}}}],\"scatterpolar\":[{\"type\":\"scatterpolar\",\"marker\":{\"colorbar\":{\"outlinewidth\":0,\"ticks\":\"\"}}}],\"histogram\":[{\"marker\":{\"pattern\":{\"fillmode\":\"overlay\",\"size\":10,\"solidity\":0.2}},\"type\":\"histogram\"}],\"scattergl\":[{\"type\":\"scattergl\",\"marker\":{\"colorbar\":{\"outlinewidth\":0,\"ticks\":\"\"}}}],\"scatter3d\":[{\"type\":\"scatter3d\",\"line\":{\"colorbar\":{\"outlinewidth\":0,\"ticks\":\"\"}},\"marker\":{\"colorbar\":{\"outlinewidth\":0,\"ticks\":\"\"}}}],\"scattermap\":[{\"type\":\"scattermap\",\"marker\":{\"colorbar\":{\"outlinewidth\":0,\"ticks\":\"\"}}}],\"scattermapbox\":[{\"type\":\"scattermapbox\",\"marker\":{\"colorbar\":{\"outlinewidth\":0,\"ticks\":\"\"}}}],\"scatterternary\":[{\"type\":\"scatterternary\",\"marker\":{\"colorbar\":{\"outlinewidth\":0,\"ticks\":\"\"}}}],\"scattercarpet\":[{\"type\":\"scattercarpet\",\"marker\":{\"colorbar\":{\"outlinewidth\":0,\"ticks\":\"\"}}}],\"carpet\":[{\"aaxis\":{\"endlinecolor\":\"#2a3f5f\",\"gridcolor\":\"white\",\"linecolor\":\"white\",\"minorgridcolor\":\"white\",\"startlinecolor\":\"#2a3f5f\"},\"baxis\":{\"endlinecolor\":\"#2a3f5f\",\"gridcolor\":\"white\",\"linecolor\":\"white\",\"minorgridcolor\":\"white\",\"startlinecolor\":\"#2a3f5f\"},\"type\":\"carpet\"}],\"table\":[{\"cells\":{\"fill\":{\"color\":\"#EBF0F8\"},\"line\":{\"color\":\"white\"}},\"header\":{\"fill\":{\"color\":\"#C8D4E3\"},\"line\":{\"color\":\"white\"}},\"type\":\"table\"}],\"barpolar\":[{\"marker\":{\"line\":{\"color\":\"#E5ECF6\",\"width\":0.5},\"pattern\":{\"fillmode\":\"overlay\",\"size\":10,\"solidity\":0.2}},\"type\":\"barpolar\"}],\"pie\":[{\"automargin\":true,\"type\":\"pie\"}]},\"layout\":{\"autotypenumbers\":\"strict\",\"colorway\":[\"#636efa\",\"#EF553B\",\"#00cc96\",\"#ab63fa\",\"#FFA15A\",\"#19d3f3\",\"#FF6692\",\"#B6E880\",\"#FF97FF\",\"#FECB52\"],\"font\":{\"color\":\"#2a3f5f\"},\"hovermode\":\"closest\",\"hoverlabel\":{\"align\":\"left\"},\"paper_bgcolor\":\"white\",\"plot_bgcolor\":\"#E5ECF6\",\"polar\":{\"bgcolor\":\"#E5ECF6\",\"angularaxis\":{\"gridcolor\":\"white\",\"linecolor\":\"white\",\"ticks\":\"\"},\"radialaxis\":{\"gridcolor\":\"white\",\"linecolor\":\"white\",\"ticks\":\"\"}},\"ternary\":{\"bgcolor\":\"#E5ECF6\",\"aaxis\":{\"gridcolor\":\"white\",\"linecolor\":\"white\",\"ticks\":\"\"},\"baxis\":{\"gridcolor\":\"white\",\"linecolor\":\"white\",\"ticks\":\"\"},\"caxis\":{\"gridcolor\":\"white\",\"linecolor\":\"white\",\"ticks\":\"\"}},\"coloraxis\":{\"colorbar\":{\"outlinewidth\":0,\"ticks\":\"\"}},\"colorscale\":{\"sequential\":[[0.0,\"#0d0887\"],[0.1111111111111111,\"#46039f\"],[0.2222222222222222,\"#7201a8\"],[0.3333333333333333,\"#9c179e\"],[0.4444444444444444,\"#bd3786\"],[0.5555555555555556,\"#d8576b\"],[0.6666666666666666,\"#ed7953\"],[0.7777777777777778,\"#fb9f3a\"],[0.8888888888888888,\"#fdca26\"],[1.0,\"#f0f921\"]],\"sequentialminus\":[[0.0,\"#0d0887\"],[0.1111111111111111,\"#46039f\"],[0.2222222222222222,\"#7201a8\"],[0.3333333333333333,\"#9c179e\"],[0.4444444444444444,\"#bd3786\"],[0.5555555555555556,\"#d8576b\"],[0.6666666666666666,\"#ed7953\"],[0.7777777777777778,\"#fb9f3a\"],[0.8888888888888888,\"#fdca26\"],[1.0,\"#f0f921\"]],\"diverging\":[[0,\"#8e0152\"],[0.1,\"#c51b7d\"],[0.2,\"#de77ae\"],[0.3,\"#f1b6da\"],[0.4,\"#fde0ef\"],[0.5,\"#f7f7f7\"],[0.6,\"#e6f5d0\"],[0.7,\"#b8e186\"],[0.8,\"#7fbc41\"],[0.9,\"#4d9221\"],[1,\"#276419\"]]},\"xaxis\":{\"gridcolor\":\"white\",\"linecolor\":\"white\",\"ticks\":\"\",\"title\":{\"standoff\":15},\"zerolinecolor\":\"white\",\"automargin\":true,\"zerolinewidth\":2},\"yaxis\":{\"gridcolor\":\"white\",\"linecolor\":\"white\",\"ticks\":\"\",\"title\":{\"standoff\":15},\"zerolinecolor\":\"white\",\"automargin\":true,\"zerolinewidth\":2},\"scene\":{\"xaxis\":{\"backgroundcolor\":\"#E5ECF6\",\"gridcolor\":\"white\",\"linecolor\":\"white\",\"showbackground\":true,\"ticks\":\"\",\"zerolinecolor\":\"white\",\"gridwidth\":2},\"yaxis\":{\"backgroundcolor\":\"#E5ECF6\",\"gridcolor\":\"white\",\"linecolor\":\"white\",\"showbackground\":true,\"ticks\":\"\",\"zerolinecolor\":\"white\",\"gridwidth\":2},\"zaxis\":{\"backgroundcolor\":\"#E5ECF6\",\"gridcolor\":\"white\",\"linecolor\":\"white\",\"showbackground\":true,\"ticks\":\"\",\"zerolinecolor\":\"white\",\"gridwidth\":2}},\"shapedefaults\":{\"line\":{\"color\":\"#2a3f5f\"}},\"annotationdefaults\":{\"arrowcolor\":\"#2a3f5f\",\"arrowhead\":0,\"arrowwidth\":1},\"geo\":{\"bgcolor\":\"white\",\"landcolor\":\"#E5ECF6\",\"subunitcolor\":\"white\",\"showland\":true,\"showlakes\":true,\"lakecolor\":\"white\"},\"title\":{\"x\":0.05},\"mapbox\":{\"style\":\"light\"}}},\"xaxis\":{\"anchor\":\"y\",\"domain\":[0.0,1.0],\"title\":{\"text\":\"Longitud de Observaci?n\"}},\"yaxis\":{\"anchor\":\"x\",\"domain\":[0.0,1.0],\"title\":{\"text\":\"count\"}},\"legend\":{\"tracegroupgap\":0},\"title\":{\"text\":\"Histograma de Longitud de Observaciones\"},\"barmode\":\"relative\"},                        {\"responsive\": true}                    )                };            </script>        </div>\n",
    "</body>\n",
    "</html>\n",
    "\n",
    "from pyspark.sql import SparkSession\n",
    "import pandas as pd\n",
    "import plotly.express as px\n",
    "import plotly.io as pio\n",
    "import boto3\n",
    "import io\n",
    "\n",
    "# 1) Inicia o recupera tu SparkSession\n",
    "spark = SparkSession.builder \\\n",
    "    .appName(\"Dashboard_Refined_HTML\") \\\n",
    "    .enableHiveSupport() \\\n",
    "    .getOrCreate()\n",
    "\n",
    "# 2) Lee el CSV refinado directamente de S3 con Spark\n",
    "df = spark.read.option(\"header\", True) \\\n",
    "    .csv(\"s3://proyectointegrador1017/refined/predicciones_csv/\")\n",
    "\n",
    "# 3) Asegura que 'evento_cat' sea numérico\n",
    "df = df.withColumn(\"evento_cat\", df[\"evento_cat\"].cast(\"int\"))\n",
    "\n",
    "# 4) Convierte a pandas para generar los gráficos\n",
    "pdf = df.toPandas()\n",
    "\n",
    "# 5) Crea los DataFrames para cada gráfica\n",
    "\n",
    "# 5a) Distribución de 'evento_cat'\n",
    "dist = pdf[\"evento_cat\"].value_counts().sort_index().reset_index()\n",
    "dist.columns = [\"categoria\", \"conteo\"]\n",
    "\n",
    "# 5b) Top 5 de 'evento'\n",
    "top5 = pdf[\"evento\"].value_counts().nlargest(5).reset_index()\n",
    "top5.columns = [\"evento\", \"conteo\"]\n",
    "\n",
    "# 5c) Histograma de longitud de 'Observacion_Ok_str'\n",
    "pdf[\"obs_len\"] = pdf[\"Observacion_Ok_str\"].fillna(\"\").str.len()\n",
    "\n",
    "# 6) Genera las figuras con Plotly\n",
    "\n",
    "fig1 = px.bar(\n",
    "    dist,\n",
    "    x=\"categoria\", y=\"conteo\",\n",
    "    title=\"Distribución de Categorías de Evento\",\n",
    "    labels={\"categoria\":\"Categoría\",\"conteo\":\"Cantidad\"}\n",
    ")\n",
    "\n",
    "fig2 = px.bar(\n",
    "    top5,\n",
    "    x=\"evento\", y=\"conteo\",\n",
    "    title=\"Top 5 Eventos Más Frecuentes\",\n",
    "    labels={\"evento\":\"Evento\",\"conteo\":\"Cantidad\"}\n",
    ")\n",
    "\n",
    "fig3 = px.histogram(\n",
    "    pdf,\n",
    "    x=\"obs_len\", nbins=20,\n",
    "    title=\"Histograma de Longitud de Observaciones\",\n",
    "    labels={\"obs_len\":\"Longitud de Observación\",\"count\":\"Frecuencia\"}\n",
    ")\n",
    "\n",
    "# 7) Empaqueta todo en un solo HTML\n",
    "html_parts = [\n",
    "    pio.to_html(fig1, full_html=False, include_plotlyjs=\"cdn\"),\n",
    "    pio.to_html(fig2, full_html=False, include_plotlyjs=False),\n",
    "    pio.to_html(fig3, full_html=False, include_plotlyjs=False)\n",
    "]\n",
    "\n",
    "html_dashboard = f\"\"\"\n",
    "<html>\n",
    "<head><meta charset=\"utf-8\"><title>Dashboard Refined</title></head>\n",
    "<body style=\"font-family:Arial,sans-serif; padding:20px;\">\n",
    "  <h1>Dashboard de Predicciones (Refined)</h1>\n",
    "  {''.join(html_parts)}\n",
    "</body>\n",
    "</html>\n",
    "\"\"\"\n",
    "\n",
    "# 8) Sube el HTML a S3 usando boto3\n",
    "bucket = \"proyectointegrador1017\"\n",
    "key = \"dashboard/dashboard.html\"\n",
    "\n",
    "s3 = boto3.client(\"s3\")\n",
    "s3.put_object(\n",
    "    Bucket=bucket,\n",
    "    Key=key,\n",
    "    Body=html_dashboard.encode(\"utf-8\"),\n",
    "    ContentType=\"text/html\"\n",
    ")\n",
    "\n",
    "print(f\"✅ Dashboard HTML subido a: s3://{bucket}/{key}\")\n",
    "\n"
   ]
  },
  {
   "cell_type": "code",
   "execution_count": null,
   "id": "a138b3fe",
   "metadata": {},
   "outputs": [],
   "source": []
  },
  {
   "cell_type": "code",
   "execution_count": null,
   "id": "d4e14b3f",
   "metadata": {},
   "outputs": [],
   "source": []
  }
 ],
 "metadata": {
  "kernelspec": {
   "display_name": "PySpark",
   "language": "python",
   "name": "pysparkkernel"
  },
  "language_info": {
   "codemirror_mode": {
    "name": "python",
    "version": 3
   },
   "file_extension": ".py",
   "mimetype": "text/x-python",
   "name": "pyspark",
   "pygments_lexer": "python3"
  }
 },
 "nbformat": 4,
 "nbformat_minor": 5
}
